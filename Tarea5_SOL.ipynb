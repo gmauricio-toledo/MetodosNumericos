{
  "cells": [
    {
      "cell_type": "markdown",
      "metadata": {
        "id": "0H94sFnCkJnU"
      },
      "source": [
        "**<h1>Tarea 5</h1>**\n",
        "\n",
        "<h3>Solución</h3>"
      ]
    },
    {
      "cell_type": "markdown",
      "metadata": {
        "id": "zCYTUPoJi3Fd"
      },
      "source": [
        "Definimos las funciones que realizan la regresión lineal y cuadrática.\n",
        "\n",
        "En ambos casos, las funciones reciben los datos en un argumento llamado `datos`, el cual es un arreglo de numpy de $n\\times 2$, donde $n$ es el número de puntos. Además, se incluye también un argumento booleano `metrics` que, por defecto (es decir, si no se especifica) toma el valor `False`. Si este argumento es `True`, las funciones imprimen las métricas de rendimiento $S_{y/x}$, $S_r$, etc.\n",
        "\n",
        "En ambos casos, la función regresa una tupla con los valores de los coeficientes que definen a la recta, o parábola, aproximada."
      ]
    },
    {
      "cell_type": "code",
      "execution_count": 3,
      "metadata": {
        "id": "ilfwwTtvis-j"
      },
      "outputs": [],
      "source": [
        "import numpy as np\n",
        "\n",
        "def regresion_lineal(datos, metrics=True):\n",
        "    n = datos.shape[0]\n",
        "    x_prom = np.mean(datos,axis=0)[0]\n",
        "    y_prom = np.mean(datos,axis=0)[1]\n",
        "    sum_xy = np.sum(datos[:,0]*datos[:,1])\n",
        "    sum_x_2s = np.sum(datos[:,0]*datos[:,0])\n",
        "    sum_x = np.sum(datos[:,0])\n",
        "    sum_y = np.sum(datos[:,1])\n",
        "    a_1 = (n*sum_xy - sum_x*sum_y)/(n*sum_x_2s - sum_x**2)\n",
        "    a_0 = y_prom - a_1*x_prom\n",
        "    print(f\"Pendiente: {a_1}, Intercepto: {a_0}\")\n",
        "    if metrics:\n",
        "        S_t = np.sum((datos[:,1]-y_prom)**2)\n",
        "        S_r = np.sum((datos[:,1]-evaluar_lineal((a_1,a_0),datos[:,0]))**2)\n",
        "        s_y = np.sqrt(S_t/(n-1))\n",
        "        s_yx = np.sqrt(S_r/(n-2))\n",
        "        r2 = (S_t-S_r)/S_t\n",
        "        print(f\"Error respecto al promedio: {S_t}\")\n",
        "        print(f\"Error cuadrático: {S_r}\")\n",
        "        print(f\"S_r < S_t : {S_r<S_t}\")\n",
        "        print(f\"Desviación estandar de los datos y_i: {s_y}\")\n",
        "        print(f\"Error estandar de la estimación (s_yx): {s_yx}\")\n",
        "        print(f\"S_yx < S_y : {s_yx<s_y}\")\n",
        "        print(f\"Coeficiente de determinación r2: {r2}\")\n",
        "    return (a_1,a_0)"
      ]
    },
    {
      "cell_type": "code",
      "execution_count": 4,
      "metadata": {},
      "outputs": [],
      "source": [
        "import numpy as np\n",
        "\n",
        "def regresion_cuadratica(datos, metrics=True):\n",
        "    n = datos.shape[0]\n",
        "    x_prom = np.mean(datos,axis=0)[0]\n",
        "    y_prom = np.mean(datos,axis=0)[1]\n",
        "    sum_xy = np.sum(datos[:,0]*datos[:,1])\n",
        "    sum_xxy = np.sum(datos[:,0]*datos[:,0]*datos[:,1])\n",
        "    sum_x_2s = np.sum(datos[:,0]*datos[:,0])\n",
        "    sum_x_3s = np.sum(datos[:,0]**3)\n",
        "    sum_x_4s = np.sum(datos[:,0]**4)\n",
        "    sum_x = np.sum(datos[:,0])\n",
        "    sum_y = np.sum(datos[:,1])\n",
        "    matriz = np.array([[n,sum_x,sum_x_2s],[sum_x,sum_x_2s,sum_x_3s],[sum_x_2s,sum_x_3s,sum_x_4s]])\n",
        "    vector_b = np.array([sum_y,sum_xy,sum_xxy])\n",
        "    coeficientes = np.linalg.solve(matriz,vector_b)\n",
        "    print(f\"a_2: {coeficientes[2]}, a_1: {coeficientes[2]}, a_0: {coeficientes[0]}\")\n",
        "    if metrics:\n",
        "        S_t = np.sum((datos[:,1]-y_prom)**2)\n",
        "        S_r = np.sum((datos[:,1]-evaluar_cuadratica(coeficientes,datos[:,0]))**2)\n",
        "        s_y = np.sqrt(S_t/(n-1))\n",
        "        s_yx = np.sqrt(S_r/(n-3))\n",
        "        r2 = (S_t-S_r)/S_t\n",
        "        print(f\"Error respecto al promedio: {S_t}\")\n",
        "        print(f\"Error cuadrático: {S_r}\")\n",
        "        print(f\"S_r < S_t : {S_r<S_t}\")\n",
        "        print(f\"Desviación estandar de los datos y_i: {s_y}\")\n",
        "        print(f\"Error estandar de la estimación (s_yx): {s_yx}\")\n",
        "        print(f\"S_yx < S_y : {s_yx<s_y}\")\n",
        "        print(f\"Coeficiente de determinación r2: {r2}\")\n",
        "    return tuple(coeficientes)"
      ]
    },
    {
      "cell_type": "markdown",
      "metadata": {},
      "source": [
        "También necesitaremos algunas funciones auxiliares"
      ]
    },
    {
      "cell_type": "code",
      "execution_count": 5,
      "metadata": {},
      "outputs": [],
      "source": [
        "def evaluar_lineal(coeficientes,x):\n",
        "    return coeficientes[0]*x + coeficientes[1]\n",
        "\n",
        "def evaluar_cuadratica(coeficientes,x):\n",
        "    return coeficientes[2]*x**2 + coeficientes[1]*x + coeficientes[0]"
      ]
    },
    {
      "cell_type": "markdown",
      "metadata": {},
      "source": [
        "Ahora implementamos la función que ajusta un polinomio de Lagrange a los datos y evalúa en un nuevo punto. La función recibe los datos como un arreglo de numpy de $n\\times 2$, donde $n$ es el número de puntos. Además, se especifica el `grado` del polinomio con el que se realizará la interpolación, este grado $d$ debe ser $d\\leq n-1$. Finalmente, se especifica el punto `x` donde realizaremos la evaluación. \n",
        "\n",
        "La función regresa el valor de la evaluación."
      ]
    },
    {
      "cell_type": "code",
      "execution_count": 7,
      "metadata": {},
      "outputs": [],
      "source": [
        "import numpy as np\n",
        "\n",
        "def interpolacion_lagrange(datos,grado,x):\n",
        "    n = grado\n",
        "    if grado <= datos.shape[0]-1:\n",
        "        sum = 0\n",
        "        for i in range(0,n+1):\n",
        "            sum += L(i,n,x,datos)*datos[i,1]\n",
        "        return sum\n",
        "    else:\n",
        "        print(\"El grado debe ser menor\")\n",
        "\n",
        "def L(i,n,x,datos):\n",
        "    prod = 1\n",
        "    for j in range(n+1):\n",
        "        if j!=i:\n",
        "            prod *= (x-datos[j,0])/(datos[i,0]-datos[j,0])\n",
        "    return prod"
      ]
    },
    {
      "cell_type": "markdown",
      "metadata": {
        "id": "X7-Mg-P5kp7j"
      },
      "source": [
        "# Ejercicio 1"
      ]
    },
    {
      "cell_type": "markdown",
      "metadata": {
        "id": "7Cs8EYaLGrWt"
      },
      "source": [
        "Definimos la matriz de coeficientes y el vector con los lados derechos de cada ecuación."
      ]
    },
    {
      "cell_type": "code",
      "execution_count": 8,
      "metadata": {
        "colab": {
          "base_uri": "https://localhost:8080/"
        },
        "id": "RLkwsCFbkpoA",
        "outputId": "85a8e06c-59b3-405a-c5be-41dd77584e69"
      },
      "outputs": [
        {
          "name": "stdout",
          "output_type": "stream",
          "text": [
            "[[   4. 1600.]\n",
            " [   8. 1320.]\n",
            " [  12. 1000.]\n",
            " [  16.  890.]\n",
            " [  20.  650.]\n",
            " [  24.  560.]]\n"
          ]
        }
      ],
      "source": [
        "datos = np.array([[4,1600],[8,1320],[12,1000],[16,890],[20,650],[24,560]],dtype=float)\n",
        "\n",
        "print(datos)"
      ]
    },
    {
      "cell_type": "markdown",
      "metadata": {},
      "source": [
        "## Regresión Lineal"
      ]
    },
    {
      "cell_type": "markdown",
      "metadata": {},
      "source": [
        "Realizamos la regresión lineal con los datos y obtenemos los coeficientes"
      ]
    },
    {
      "cell_type": "code",
      "execution_count": 9,
      "metadata": {
        "colab": {
          "base_uri": "https://localhost:8080/"
        },
        "id": "6xtClCSHk8Vq",
        "outputId": "af33acab-2119-41d9-f951-a28e8c3071a8"
      },
      "outputs": [
        {
          "name": "stdout",
          "output_type": "stream",
          "text": [
            "Pendiente: -52.285714285714285, Intercepto: 1735.3333333333335\n",
            "Error respecto al promedio: 790533.3333333334\n",
            "Error cuadrático: 25070.476190476158\n",
            "S_r < S_t : True\n",
            "Desviación estandar de los datos y_i: 397.62629021062816\n",
            "Error estandar de la estimación (s_yx): 79.16829572258733\n",
            "S_yx < S_y : True\n",
            "Coeficiente de determinación r2: 0.9682866298821772\n",
            "(-52.285714285714285, 1735.3333333333335)\n"
          ]
        }
      ],
      "source": [
        "coeficientes = regresion_lineal(datos,metrics=True)\n",
        "print(coeficientes)"
      ]
    },
    {
      "cell_type": "markdown",
      "metadata": {
        "id": "uqtT2qYNHFrF"
      },
      "source": [
        "Con los coeficientes, realizamos la aproximación pedida"
      ]
    },
    {
      "cell_type": "code",
      "execution_count": 10,
      "metadata": {
        "colab": {
          "base_uri": "https://localhost:8080/"
        },
        "id": "_fSNU7-QmF2T",
        "outputId": "11d24051-fb08-4c93-f678-74bd36115616"
      },
      "outputs": [
        {
          "data": {
            "text/plain": [
              "951.0476190476193"
            ]
          },
          "execution_count": 10,
          "metadata": {},
          "output_type": "execute_result"
        }
      ],
      "source": [
        "evaluar_lineal(coeficientes=coeficientes,\n",
        "               x=15)"
      ]
    },
    {
      "cell_type": "code",
      "execution_count": 11,
      "metadata": {},
      "outputs": [
        {
          "name": "stdout",
          "output_type": "stream",
          "text": [
            "[-52.28571429] 1735.3333333333335\n"
          ]
        },
        {
          "data": {
            "text/plain": [
              "array([951.04761905])"
            ]
          },
          "execution_count": 11,
          "metadata": {},
          "output_type": "execute_result"
        }
      ],
      "source": [
        "from sklearn.linear_model import LinearRegression\n",
        "\n",
        "lr = LinearRegression()\n",
        "lr.fit(X=datos[:,0].reshape(-1,1),y=datos[:,1])\n",
        "print(lr.coef_,lr.intercept_)\n",
        "lr.predict([[15]])"
      ]
    },
    {
      "cell_type": "markdown",
      "metadata": {},
      "source": [
        "## Regresión Polinomial"
      ]
    },
    {
      "cell_type": "code",
      "execution_count": 12,
      "metadata": {},
      "outputs": [
        {
          "name": "stdout",
          "output_type": "stream",
          "text": [
            "a_2: 1.417410714285743, a_1: 1.417410714285743, a_0: 1947.0000000000048\n",
            "Error respecto al promedio: 790533.3333333334\n",
            "Error cuadrático: 5869.285714285713\n",
            "S_r < S_t : True\n",
            "Desviación estandar de los datos y_i: 397.62629021062816\n",
            "Error estandar de la estimación (s_yx): 44.231533677101574\n",
            "S_yx < S_y : True\n",
            "Coeficiente de determinación r2: 0.9925755367081898\n",
            "(1947.0000000000048, -91.97321428571513, 1.417410714285743)\n"
          ]
        }
      ],
      "source": [
        "coeficientes = regresion_cuadratica(datos,metrics=True)\n",
        "print(coeficientes)"
      ]
    },
    {
      "cell_type": "code",
      "execution_count": 13,
      "metadata": {},
      "outputs": [
        {
          "data": {
            "text/plain": [
              "886.31919642857"
            ]
          },
          "execution_count": 13,
          "metadata": {},
          "output_type": "execute_result"
        }
      ],
      "source": [
        "evaluar_cuadratica(coeficientes=coeficientes,\n",
        "               x=15)"
      ]
    },
    {
      "cell_type": "markdown",
      "metadata": {},
      "source": [
        "## Interpolación de Lagrange"
      ]
    },
    {
      "cell_type": "code",
      "execution_count": 14,
      "metadata": {},
      "outputs": [
        {
          "data": {
            "text/plain": [
              "917.696533203125"
            ]
          },
          "execution_count": 14,
          "metadata": {},
          "output_type": "execute_result"
        }
      ],
      "source": [
        "num_puntos = datos.shape[0]\n",
        "\n",
        "interpolacion_lagrange(datos=datos,\n",
        "                       grado=num_puntos-1,\n",
        "                       x=15)"
      ]
    },
    {
      "cell_type": "markdown",
      "metadata": {
        "id": "-HroWvLbmVzf"
      },
      "source": [
        "# Ejercicio 2"
      ]
    },
    {
      "cell_type": "markdown",
      "metadata": {
        "id": "Tb7xCHRwHPsT"
      },
      "source": [
        "Para este ejercicio 2 usamos los mismos pasos del ejercicio 1."
      ]
    },
    {
      "cell_type": "code",
      "execution_count": 15,
      "metadata": {
        "colab": {
          "base_uri": "https://localhost:8080/"
        },
        "id": "TcJQHt1zmJwA",
        "outputId": "6df297cd-b6b7-47d7-970c-604238f1f05e"
      },
      "outputs": [
        {
          "name": "stdout",
          "output_type": "stream",
          "text": [
            "[[ 0.    14.621]\n",
            " [ 8.    11.843]\n",
            " [16.     9.87 ]\n",
            " [24.     8.418]\n",
            " [32.     7.305]\n",
            " [40.     6.413]]\n"
          ]
        }
      ],
      "source": [
        "datos = np.array([[0,14.621],[8,11.843],[16,9.870],[24,8.418],[32,7.305],[40,6.413]],dtype=float)\n",
        "\n",
        "print(datos)"
      ]
    },
    {
      "cell_type": "markdown",
      "metadata": {},
      "source": [
        "## Regresión Lineal"
      ]
    },
    {
      "cell_type": "code",
      "execution_count": 21,
      "metadata": {},
      "outputs": [
        {
          "name": "stdout",
          "output_type": "stream",
          "text": [
            "Pendiente: -0.2003785714285714, Intercepto: 13.752571428571427\n",
            "Error respecto al promedio: 47.009358000000006\n",
            "Error cuadrático: 2.039597485714288\n",
            "S_r < S_t : True\n",
            "Desviación estandar de los datos y_i: 3.0662471524650456\n",
            "Error estandar de la estimación (s_yx): 0.7140723852863742\n",
            "S_yx < S_y : True\n",
            "Coeficiente de determinación r2: 0.9566129474536902\n",
            "(-0.2003785714285714, 13.752571428571427)\n"
          ]
        }
      ],
      "source": [
        "coeficientes = regresion_lineal(datos,metrics=True)\n",
        "print(coeficientes)"
      ]
    },
    {
      "cell_type": "code",
      "execution_count": 22,
      "metadata": {},
      "outputs": [
        {
          "data": {
            "text/plain": [
              "8.34235"
            ]
          },
          "execution_count": 22,
          "metadata": {},
          "output_type": "execute_result"
        }
      ],
      "source": [
        "evaluar_lineal(coeficientes=coeficientes,\n",
        "               x=27)"
      ]
    },
    {
      "cell_type": "markdown",
      "metadata": {},
      "source": [
        "## Regresión Polinomial"
      ]
    },
    {
      "cell_type": "code",
      "execution_count": 16,
      "metadata": {},
      "outputs": [
        {
          "name": "stdout",
          "output_type": "stream",
          "text": [
            "a_2: 0.0035909598214285544, a_1: 0.0035909598214285544, a_0: 14.518642857142856\n",
            "Error respecto al promedio: 47.009358000000006\n",
            "Error cuadrático: 0.06772962857142843\n",
            "S_r < S_t : True\n",
            "Desviación estandar de los datos y_i: 3.0662471524650456\n",
            "Error estandar de la estimación (s_yx): 0.15025492623252926\n",
            "S_yx < S_y : True\n",
            "Coeficiente de determinación r2: 0.9985592309392647\n",
            "(14.518642857142856, -0.34401696428571366, 0.0035909598214285544)\n"
          ]
        }
      ],
      "source": [
        "coeficientes = regresion_cuadratica(datos,metrics=True)\n",
        "print(coeficientes)"
      ]
    },
    {
      "cell_type": "code",
      "execution_count": 18,
      "metadata": {},
      "outputs": [
        {
          "data": {
            "text/plain": [
              "7.847994531250003"
            ]
          },
          "execution_count": 18,
          "metadata": {},
          "output_type": "execute_result"
        }
      ],
      "source": [
        "evaluar_cuadratica(coeficientes=coeficientes,\n",
        "               x=27)"
      ]
    },
    {
      "cell_type": "markdown",
      "metadata": {},
      "source": [
        "## Intepolación usando Polinomios de Lagrange"
      ]
    },
    {
      "cell_type": "code",
      "execution_count": 19,
      "metadata": {},
      "outputs": [
        {
          "data": {
            "text/plain": [
              "7.968238960266113"
            ]
          },
          "execution_count": 19,
          "metadata": {},
          "output_type": "execute_result"
        }
      ],
      "source": [
        "num_puntos = datos.shape[0]\n",
        "\n",
        "interpolacion_lagrange(datos=datos,\n",
        "                       grado=num_puntos-1,\n",
        "                       x=27)"
      ]
    },
    {
      "cell_type": "markdown",
      "metadata": {},
      "source": [
        "## Conclusiones\n",
        "\n",
        "En este caso, quien quedó más cerca del valor exacto fue la interpolación con polinomios de Lagrange"
      ]
    }
  ],
  "metadata": {
    "colab": {
      "authorship_tag": "ABX9TyMw6feItgKYgRBfLi9+/HGa",
      "include_colab_link": true,
      "provenance": []
    },
    "kernelspec": {
      "display_name": "Python 3",
      "name": "python3"
    },
    "language_info": {
      "codemirror_mode": {
        "name": "ipython",
        "version": 3
      },
      "file_extension": ".py",
      "mimetype": "text/x-python",
      "name": "python",
      "nbconvert_exporter": "python",
      "pygments_lexer": "ipython3",
      "version": "3.8.10"
    }
  },
  "nbformat": 4,
  "nbformat_minor": 0
}

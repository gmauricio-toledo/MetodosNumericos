{
  "cells": [
    {
      "cell_type": "markdown",
      "metadata": {
        "id": "view-in-github",
        "colab_type": "text"
      },
      "source": [
        "<a href=\"https://colab.research.google.com/github/gmauricio-toledo/MetodosNumericos/blob/main/Practica3.ipynb\" target=\"_parent\"><img src=\"https://colab.research.google.com/assets/colab-badge.svg\" alt=\"Open In Colab\"/></a>"
      ]
    },
    {
      "cell_type": "markdown",
      "metadata": {
        "id": "0H94sFnCkJnU"
      },
      "source": [
        "**<h1>Práctica ...</h1>**\n"
      ]
    },
    {
      "cell_type": "markdown",
      "source": [
        "Ejecutar la siguiente celda para cargar el archivo de texto del ejercicio 2 en un arreglo de numpy llamado `datos`.\n",
        "\n",
        "**No es necesario entender o modificar esta celda, sólo ejecútala**"
      ],
      "metadata": {
        "id": "KJnahpEu0EAl"
      }
    },
    {
      "cell_type": "code",
      "execution_count": null,
      "metadata": {
        "id": "ilfwwTtvis-j"
      },
      "outputs": [],
      "source": [
        "!pip install wget\n",
        "\n",
        "import wget\n",
        "import numpy as np\n",
        "\n",
        "url = \"https://raw.githubusercontent.com/gmauricio-toledo/MetodosNumericos/main/datos/datos_femur_altura.csv\"\n",
        "fname = url.split('/')[-1]\n",
        "wget.download(url, fname)\n",
        "\n",
        "datos = np.loadtxt(fname=fname,delimiter=' ')"
      ]
    },
    {
      "cell_type": "markdown",
      "source": [
        "Puedes verificar que el arreglo se ha cargado correctamente:"
      ],
      "metadata": {
        "id": "q19C2_q00SDj"
      }
    },
    {
      "cell_type": "code",
      "source": [
        "print(datos)"
      ],
      "metadata": {
        "id": "LLpgOmkR0RUJ"
      },
      "execution_count": null,
      "outputs": []
    },
    {
      "cell_type": "markdown",
      "source": [
        "🔴 Extrae todos los valores de las coordenadas en x en un arreglo `xs`. Extrae todos los valores de las coordenadas en y en un arreglo `ys`"
      ],
      "metadata": {
        "id": "AuZAyRv7QnU-"
      }
    },
    {
      "cell_type": "code",
      "source": [
        "xs =\n",
        "ys ="
      ],
      "metadata": {
        "id": "zq5ln84VOYSo"
      },
      "execution_count": null,
      "outputs": []
    },
    {
      "cell_type": "code",
      "source": [
        "import matplotlib.pyplot as plt\n",
        "\n",
        "plt.figure()\n",
        "plt.scatter(xs,ys)\n",
        "plt.xlabel(\"Longitud del fémur (cm)\")\n",
        "plt.ylabel(\"Altura (cm)\")\n",
        "plt.show()"
      ],
      "metadata": {
        "id": "YX67_k1BOO6X"
      },
      "execution_count": null,
      "outputs": []
    },
    {
      "cell_type": "markdown",
      "source": [
        "🔴 Escribe una función que calcule el error relativo entre dos magnitudes, considerando el signo."
      ],
      "metadata": {
        "id": "r8v36OLuPOus"
      }
    },
    {
      "cell_type": "code",
      "source": [
        "def error_relativo(valor_real,aproximacion):\n",
        "    '''\n",
        "    escribe tu código...\n",
        "    '''\n",
        ""
      ],
      "metadata": {
        "id": "wEKdOR_LPUch"
      },
      "execution_count": null,
      "outputs": []
    },
    {
      "cell_type": "markdown",
      "source": [
        "# 1. Regresión Lineal"
      ],
      "metadata": {
        "id": "BYbwL-KkOK8o"
      }
    },
    {
      "cell_type": "markdown",
      "source": [
        "Inicializamos un objeto de la clase `LinearRegression`"
      ],
      "metadata": {
        "id": "2AkgadEjQ5Mu"
      }
    },
    {
      "cell_type": "code",
      "execution_count": null,
      "metadata": {
        "id": "tBCb_r8vqx-4"
      },
      "outputs": [],
      "source": [
        "from sklearn.linear_model import LinearRegression\n",
        "\n",
        "lr = LinearRegression()"
      ]
    },
    {
      "cell_type": "markdown",
      "source": [
        "Entrenamos el objeto con nuestros datos"
      ],
      "metadata": {
        "id": "H9BvQJM6Q9q4"
      }
    },
    {
      "cell_type": "code",
      "source": [
        "lr.fit(xs.reshape((-1,1)),ys)"
      ],
      "metadata": {
        "id": "8b1LIZwDQ4mu"
      },
      "execution_count": null,
      "outputs": []
    },
    {
      "cell_type": "markdown",
      "source": [
        "Una vez que hemos entrenado, el objeto ya tiene las variables necesarias para consultarlas"
      ],
      "metadata": {
        "id": "1A_8E1nxRBdr"
      }
    },
    {
      "cell_type": "code",
      "source": [
        "m = lr.coef_\n",
        "b = lr.intercept_"
      ],
      "metadata": {
        "id": "OkPMsQTjO4e7"
      },
      "execution_count": null,
      "outputs": []
    },
    {
      "cell_type": "markdown",
      "source": [
        "Podemos obtener, por ejemplo, el coeficiente de determinación"
      ],
      "metadata": {
        "id": "JjKODpx-RNRD"
      }
    },
    {
      "cell_type": "code",
      "source": [
        "lr.score(xs.reshape((-1,1)),\n",
        "         ys)"
      ],
      "metadata": {
        "id": "OeYeAMBeRNE0"
      },
      "execution_count": null,
      "outputs": []
    },
    {
      "cell_type": "markdown",
      "source": [
        "🔴 Usando estos parámetros $m$ y $b$, define la función que realice la aproximación a un valor dado $x$."
      ],
      "metadata": {
        "id": "xMlkQNYxPvrB"
      }
    },
    {
      "cell_type": "code",
      "source": [
        "def f(x):\n",
        "    ..."
      ],
      "metadata": {
        "id": "fn2Kk8j-O-sR"
      },
      "execution_count": null,
      "outputs": []
    },
    {
      "cell_type": "markdown",
      "source": [
        "🔴 Realiza una predicción de tu altura usando esta función que acabas de definir y la longitud de tu fémur"
      ],
      "metadata": {
        "id": "Px0m9wYYPmRd"
      }
    },
    {
      "cell_type": "code",
      "source": [],
      "metadata": {
        "id": "o2S9od5lPFW9"
      },
      "execution_count": null,
      "outputs": []
    },
    {
      "cell_type": "markdown",
      "source": [
        "🔴 Calcula el error relativo entre esta predicción y tu altura real, ¿qué tan buena fue la predicción?"
      ],
      "metadata": {
        "id": "eoLoAAzLPLRs"
      }
    },
    {
      "cell_type": "code",
      "source": [],
      "metadata": {
        "id": "WH9gYbE2PJN8"
      },
      "execution_count": null,
      "outputs": []
    },
    {
      "cell_type": "markdown",
      "source": [
        "🔴 ¿Cómo piensas que se podría mejorar la predicción?\n",
        "\n",
        "**Respuesta:**"
      ],
      "metadata": {
        "id": "YWHczx2HQDdn"
      }
    },
    {
      "cell_type": "markdown",
      "source": [
        "# 2. Integración"
      ],
      "metadata": {
        "id": "u29q6pZxQLLe"
      }
    },
    {
      "cell_type": "code",
      "source": [
        "import matplotlib.pyplot as plt\n",
        "\n",
        "plt.figure()\n",
        "plt.scatter(xs,ys)\n",
        "plt.xlabel(\"Longitud del fémur (cm)\")\n",
        "plt.ylabel(\"Altura (cm)\")\n",
        "plt.show()"
      ],
      "metadata": {
        "id": "QYLoeZRoRbuY"
      },
      "execution_count": null,
      "outputs": []
    },
    {
      "cell_type": "markdown",
      "source": [
        "(1) Integremos usando la regla de Simpson"
      ],
      "metadata": {
        "id": "9MxFfh7PRbad"
      }
    },
    {
      "cell_type": "code",
      "source": [
        "from scipy.integrate import simpson\n",
        "\n",
        "simpson(ys, xs)"
      ],
      "metadata": {
        "id": "mVHSIvg-QKFO"
      },
      "execution_count": null,
      "outputs": []
    },
    {
      "cell_type": "markdown",
      "source": [
        "Encontremos los valores mínimos y máximos de las coordenadas en $x$"
      ],
      "metadata": {
        "id": "olbe6Tr0Sxn-"
      }
    },
    {
      "cell_type": "code",
      "source": [
        "xmin = np.min(xs)\n",
        "xmax = np.max(xs)"
      ],
      "metadata": {
        "id": "zJBgGGsESLvf"
      },
      "execution_count": null,
      "outputs": []
    },
    {
      "cell_type": "markdown",
      "source": [
        "(2) Usando la función `quad`"
      ],
      "metadata": {
        "id": "ZzkMrY6HTPop"
      }
    },
    {
      "cell_type": "code",
      "source": [
        "from scipy.integrate import quad\n",
        "\n",
        "quad(func=f,\n",
        "     a=xmin,\n",
        "     b=xmax)"
      ],
      "metadata": {
        "id": "UC7RxtEuSIb1"
      },
      "execution_count": null,
      "outputs": []
    },
    {
      "cell_type": "markdown",
      "source": [
        "🔴 Define una función que realice la regla del trapecio sencilla usando dos valores $(a,f(a))$ y $(b,f(b))$"
      ],
      "metadata": {
        "id": "ZyKyIbUfR3me"
      }
    },
    {
      "cell_type": "code",
      "source": [
        "def trapecio_sencillo(a,fa,b,fb):\n",
        "    ..."
      ],
      "metadata": {
        "id": "tdo8PIKmQksl"
      },
      "execution_count": null,
      "outputs": []
    },
    {
      "cell_type": "markdown",
      "source": [
        "🔴 (3) Usa esta función para calcular el área bajo la recta que une los dos valores extremos de tus datos"
      ],
      "metadata": {
        "id": "LAMy8eEPS51c"
      }
    },
    {
      "cell_type": "code",
      "source": [],
      "metadata": {
        "id": "JeoafZiSS5hh"
      },
      "execution_count": null,
      "outputs": []
    },
    {
      "cell_type": "markdown",
      "source": [
        "¿Cuál de las 3 opciones (1), (2), (3) crees que es mejor?\n",
        "\n",
        "**Respuesta:**"
      ],
      "metadata": {
        "id": "uO9XmMQVTWx0"
      }
    },
    {
      "cell_type": "code",
      "source": [],
      "metadata": {
        "id": "pH_b3TA3TbWI"
      },
      "execution_count": null,
      "outputs": []
    }
  ],
  "metadata": {
    "colab": {
      "provenance": [],
      "include_colab_link": true
    },
    "kernelspec": {
      "display_name": "Python 3",
      "name": "python3"
    },
    "language_info": {
      "codemirror_mode": {
        "name": "ipython",
        "version": 3
      },
      "file_extension": ".py",
      "mimetype": "text/x-python",
      "name": "python",
      "nbconvert_exporter": "python",
      "pygments_lexer": "ipython3",
      "version": "3.8.10"
    }
  },
  "nbformat": 4,
  "nbformat_minor": 0
}
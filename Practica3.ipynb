{
  "cells": [
    {
      "cell_type": "markdown",
      "metadata": {
        "id": "view-in-github",
        "colab_type": "text"
      },
      "source": [
        "<a href=\"https://colab.research.google.com/github/gmauricio-toledo/MetodosNumericos/blob/main/Practica3.ipynb\" target=\"_parent\"><img src=\"https://colab.research.google.com/assets/colab-badge.svg\" alt=\"Open In Colab\"/></a>"
      ]
    },
    {
      "cell_type": "markdown",
      "metadata": {
        "id": "0H94sFnCkJnU"
      },
      "source": [
        "**<h1>Práctica ...</h1>**\n"
      ]
    },
    {
      "cell_type": "markdown",
      "source": [
        "Ejecutar la siguiente celda para cargar el archivo de texto del ejercicio 2 en un arreglo de numpy llamado `datos`.\n",
        "\n",
        "**No es necesario entender o modificar esta celda, sólo ejecútala**"
      ],
      "metadata": {
        "id": "KJnahpEu0EAl"
      }
    },
    {
      "cell_type": "code",
      "execution_count": 2,
      "metadata": {
        "id": "ilfwwTtvis-j",
        "outputId": "aea8611d-6434-47bf-f584-2bf4845c8fa7",
        "colab": {
          "base_uri": "https://localhost:8080/"
        }
      },
      "outputs": [
        {
          "output_type": "stream",
          "name": "stdout",
          "text": [
            "Requirement already satisfied: wget in /usr/local/lib/python3.10/dist-packages (3.2)\n"
          ]
        }
      ],
      "source": [
        "!pip install wget\n",
        "\n",
        "import wget\n",
        "import numpy as np\n",
        "\n",
        "url = \"https://raw.githubusercontent.com/gmauricio-toledo/MetodosNumericos/main/datos/datos_femur_altura.csv\"\n",
        "fname = url.split('/')[-1]\n",
        "wget.download(url, fname)\n",
        "\n",
        "datos = np.loadtxt(fname=fname,delimiter=' ')"
      ]
    },
    {
      "cell_type": "markdown",
      "source": [
        "Puedes verificar que el arreglo se ha cargado correctamente:"
      ],
      "metadata": {
        "id": "q19C2_q00SDj"
      }
    },
    {
      "cell_type": "code",
      "source": [
        "print(datos)"
      ],
      "metadata": {
        "id": "LLpgOmkR0RUJ",
        "outputId": "5e90ebf5-f16e-4306-90b0-3d18b59174c3",
        "colab": {
          "base_uri": "https://localhost:8080/"
        }
      },
      "execution_count": 3,
      "outputs": [
        {
          "output_type": "stream",
          "name": "stdout",
          "text": [
            "[[ 50.8 171.5]\n",
            " [ 45.4 165. ]\n",
            " [ 47.5 165. ]\n",
            " [ 47.  164. ]\n",
            " [ 52.  185. ]\n",
            " [ 51.4 182. ]\n",
            " [ 44.9 154. ]\n",
            " [ 48.4 170. ]\n",
            " [ 45.6 169. ]\n",
            " [ 47.3 170. ]\n",
            " [ 45.6 166. ]\n",
            " [ 41.6 148. ]\n",
            " [ 48.5 173. ]\n",
            " [ 49.  175. ]\n",
            " [ 47.8 170. ]\n",
            " [ 44.1 153. ]\n",
            " [ 50.8 174.5]\n",
            " [ 45.8 163. ]\n",
            " [ 44.3 159. ]\n",
            " [ 50.  173. ]\n",
            " [ 51.3 179. ]\n",
            " [ 46.1 167.5]\n",
            " [ 50.8 171.5]\n",
            " [ 48.5 170.5]\n",
            " [ 49.3 177. ]\n",
            " [ 47.  164. ]\n",
            " [ 54.4 184. ]\n",
            " [ 52.6 180. ]\n",
            " [ 47.  168. ]\n",
            " [ 47.  170. ]\n",
            " [ 44.5 163. ]\n",
            " [ 48.4 174. ]\n",
            " [ 45.1 161. ]\n",
            " [ 48.  159. ]\n",
            " [ 47.5 171. ]\n",
            " [ 48.  175. ]\n",
            " [ 46.2 166. ]\n",
            " [ 52.  177. ]\n",
            " [ 48.  171.5]\n",
            " [ 46.6 169. ]\n",
            " [ 51.3 172.5]\n",
            " [ 45.6 174. ]\n",
            " [ 50.8 179. ]\n",
            " [ 42.1 157.5]\n",
            " [ 41.7 152.5]\n",
            " [ 50.9 175. ]\n",
            " [ 49.6 173.5]\n",
            " [ 44.1 157.5]\n",
            " [ 43.4 156. ]\n",
            " [ 49.6 174. ]\n",
            " [ 48.3 170. ]\n",
            " [ 52.8 183. ]]\n"
          ]
        }
      ]
    },
    {
      "cell_type": "code",
      "execution_count": null,
      "metadata": {
        "id": "tBCb_r8vqx-4"
      },
      "outputs": [],
      "source": []
    }
  ],
  "metadata": {
    "colab": {
      "provenance": [],
      "include_colab_link": true
    },
    "kernelspec": {
      "display_name": "Python 3",
      "name": "python3"
    },
    "language_info": {
      "codemirror_mode": {
        "name": "ipython",
        "version": 3
      },
      "file_extension": ".py",
      "mimetype": "text/x-python",
      "name": "python",
      "nbconvert_exporter": "python",
      "pygments_lexer": "ipython3",
      "version": "3.8.10"
    }
  },
  "nbformat": 4,
  "nbformat_minor": 0
}
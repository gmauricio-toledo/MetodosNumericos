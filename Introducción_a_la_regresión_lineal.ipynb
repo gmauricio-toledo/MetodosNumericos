{
  "nbformat": 4,
  "nbformat_minor": 0,
  "metadata": {
    "colab": {
      "provenance": [],
      "toc_visible": true,
      "authorship_tag": "ABX9TyORniGF9JAGjKDvf0MdMxGf",
      "include_colab_link": true
    },
    "kernelspec": {
      "name": "python3",
      "display_name": "Python 3"
    },
    "language_info": {
      "name": "python"
    }
  },
  "cells": [
    {
      "cell_type": "markdown",
      "metadata": {
        "id": "view-in-github",
        "colab_type": "text"
      },
      "source": [
        "<a href=\"https://colab.research.google.com/github/gmauricio-toledo/MetodosNumericos/blob/main/Introducci%C3%B3n_a_la_regresi%C3%B3n_lineal.ipynb\" target=\"_parent\"><img src=\"https://colab.research.google.com/assets/colab-badge.svg\" alt=\"Open In Colab\"/></a>"
      ]
    },
    {
      "cell_type": "markdown",
      "source": [
        "<h1>Introducción a la Regresión Lineal</h1>"
      ],
      "metadata": {
        "id": "TGHuDrdZBbXa"
      }
    },
    {
      "cell_type": "markdown",
      "source": [
        "# 1. Ejemplo: La lóngitud del femur"
      ],
      "metadata": {
        "id": "1cGPpaRahj0-"
      }
    },
    {
      "cell_type": "markdown",
      "source": [
        "## Descargamos el archivo de datos desde github"
      ],
      "metadata": {
        "id": "UfOk7C1khLaM"
      }
    },
    {
      "cell_type": "code",
      "source": [
        "!pip -q install wget\n",
        "\n",
        "import wget\n",
        "\n",
        "wget.download(url='https://raw.githubusercontent.com/gmauricio-toledo/MetodosNumericos/main/datos/Dataindsamling.csv',\n",
        "              out='Dataindsamling.csv')"
      ],
      "metadata": {
        "colab": {
          "base_uri": "https://localhost:8080/",
          "height": 35
        },
        "id": "4lzNbim_WT3A",
        "outputId": "03c4b0d2-e17f-4c31-9115-ed37e4d93715"
      },
      "execution_count": 2,
      "outputs": [
        {
          "output_type": "execute_result",
          "data": {
            "text/plain": [
              "'Dataindsamling.csv'"
            ],
            "application/vnd.google.colaboratory.intrinsic+json": {
              "type": "string"
            }
          },
          "metadata": {},
          "execution_count": 2
        }
      ]
    },
    {
      "cell_type": "markdown",
      "source": [
        "## Extraemos los datos"
      ],
      "metadata": {
        "id": "t-MLhit7hSbM"
      }
    },
    {
      "cell_type": "code",
      "execution_count": 3,
      "metadata": {
        "id": "hNdvwvRqlOmH"
      },
      "outputs": [],
      "source": [
        "import pandas as pd"
      ]
    },
    {
      "cell_type": "code",
      "source": [
        "df = pd.read_csv('/content/Dataindsamling.csv')\n",
        "df"
      ],
      "metadata": {
        "colab": {
          "base_uri": "https://localhost:8080/",
          "height": 965
        },
        "id": "eiw_t7LElWpP",
        "outputId": "353fea5b-73e3-46db-9ba2-9b0e4cbf92bc"
      },
      "execution_count": 4,
      "outputs": [
        {
          "output_type": "execute_result",
          "data": {
            "text/plain": [
              "     ID Location Site_Number Grave Number  Canine number  Incisor number  \\\n",
              "0     5     Ribe     ASR1015         G229            0.0             0.0   \n",
              "1     6     Ribe     ASR1015         G257            NaN             NaN   \n",
              "2     7     Ribe     ASR1015          G74            NaN             NaN   \n",
              "3     8     Ribe     ASR1015          G61            NaN             NaN   \n",
              "4     9     Ribe     ASR1015         G377            3.0             NaN   \n",
              "..   ..      ...         ...          ...            ...             ...   \n",
              "112  28     Ribe     ASR1015         G166            5.0             NaN   \n",
              "113  34     G216     ASR1015         G216            1.0             1.0   \n",
              "114  29     Ribe     ASR1015          G70            2.0             3.0   \n",
              "115  40     Ribe     ASR1015         G274            3.0             NaN   \n",
              "116  61     Ribe     ASR1015         G863            0.0             0.0   \n",
              "\n",
              "                               Abnormalities Vertebras  \\\n",
              "0    To hvirvler fusioneret - har ingen betydning f...   \n",
              "1                                                  NaN   \n",
              "2                                                  NaN   \n",
              "3                                                  NaN   \n",
              "4                                                  NaN   \n",
              "..                                                 ...   \n",
              "112                                                NaN   \n",
              "113                                                NaN   \n",
              "114                                                NaN   \n",
              "115                                                NaN   \n",
              "116                                                NaN   \n",
              "\n",
              "                         Abnormalities Femur  \\\n",
              "0                                        NaN   \n",
              "1                                        NaN   \n",
              "2                                        NaN   \n",
              "3                                        NaN   \n",
              "4     Knækkede postmortalt så kan ikke måles   \n",
              "..                                       ...   \n",
              "112                                      NaN   \n",
              "113                                      NaN   \n",
              "114  Meget store og robuste. En rigtig mand.   \n",
              "115                                      NaN   \n",
              "116                                      NaN   \n",
              "\n",
              "                                                 Notes               Date  \\\n",
              "0                                                  NaN  05/08/08 00:00:00   \n",
              "1    Male?, højre femur kan ikke måles da nedbrudt,...  05/08/08 00:00:00   \n",
              "2    kraniet mangler - kig efter om det er på udsti...                NaN   \n",
              "3                         Tænder mere en 1/3 slidt ned  05/08/08 00:00:00   \n",
              "4                       Incisor mere end 1/3 slidt ned  05/08/08 00:00:00   \n",
              "..                                                 ...                ...   \n",
              "112                                                NaN  05/19/08 00:00:00   \n",
              "113                                                NaN                NaN   \n",
              "114         Der er nok noget lepra kørende.I 2 kasser.  05/19/08 00:00:00   \n",
              "115                       Lidt lepra har man jo altid.  05/19/08 00:00:00   \n",
              "116                        Tænder mere end 1/3 slidte.  05/27/08 00:00:00   \n",
              "\n",
              "     ... Age_Maximum     Sex  Canine largest age  Incisor largest age  \\\n",
              "0    ...        60.0    Male                 0.0                  0.0   \n",
              "1    ...        40.0    Male                 NaN                  NaN   \n",
              "2    ...        55.0    Male                 NaN                  NaN   \n",
              "3    ...        40.0    Male                 NaN                  NaN   \n",
              "4    ...        60.0    Male                 3.5                  NaN   \n",
              "..   ...         ...     ...                 ...                  ...   \n",
              "112  ...        45.0    Male                 2.5                  NaN   \n",
              "113  ...        40.0    Male                 3.0                  3.0   \n",
              "114  ...        50.0    Male                 2.5                  2.5   \n",
              "115  ...        40.0  Female                 3.5                  NaN   \n",
              "116  ...        60.0  Female                 0.0                  0.0   \n",
              "\n",
              "    Incisor 2nd largest age  Height in grave  Femur left  Femur right  \\\n",
              "0                       0.0            171.5        50.8         51.3   \n",
              "1                       NaN            165.0        45.4          NaN   \n",
              "2                       NaN            165.0        47.5         46.6   \n",
              "3                       NaN            164.0        47.0         46.4   \n",
              "4                       NaN            166.0         NaN          NaN   \n",
              "..                      ...              ...         ...          ...   \n",
              "112                     NaN            170.0        48.3         47.8   \n",
              "113                     NaN            166.5         0.0         47.3   \n",
              "114                     2.0            183.0        52.8         52.5   \n",
              "115                     NaN            158.0        43.8         43.1   \n",
              "116                     0.0            156.0        47.1         47.0   \n",
              "\n",
              "     Hyperplasia  Teeth Scorable  \n",
              "0              0               1  \n",
              "1              0               0  \n",
              "2              0               0  \n",
              "3              0               0  \n",
              "4              1               1  \n",
              "..           ...             ...  \n",
              "112            1               1  \n",
              "113            1               1  \n",
              "114            1               1  \n",
              "115            1               1  \n",
              "116            0               0  \n",
              "\n",
              "[117 rows x 23 columns]"
            ],
            "text/html": [
              "\n",
              "  <div id=\"df-3356d724-d0af-45c1-9f28-12a803b089c6\" class=\"colab-df-container\">\n",
              "    <div>\n",
              "<style scoped>\n",
              "    .dataframe tbody tr th:only-of-type {\n",
              "        vertical-align: middle;\n",
              "    }\n",
              "\n",
              "    .dataframe tbody tr th {\n",
              "        vertical-align: top;\n",
              "    }\n",
              "\n",
              "    .dataframe thead th {\n",
              "        text-align: right;\n",
              "    }\n",
              "</style>\n",
              "<table border=\"1\" class=\"dataframe\">\n",
              "  <thead>\n",
              "    <tr style=\"text-align: right;\">\n",
              "      <th></th>\n",
              "      <th>ID</th>\n",
              "      <th>Location</th>\n",
              "      <th>Site_Number</th>\n",
              "      <th>Grave Number</th>\n",
              "      <th>Canine number</th>\n",
              "      <th>Incisor number</th>\n",
              "      <th>Abnormalities Vertebras</th>\n",
              "      <th>Abnormalities Femur</th>\n",
              "      <th>Notes</th>\n",
              "      <th>Date</th>\n",
              "      <th>...</th>\n",
              "      <th>Age_Maximum</th>\n",
              "      <th>Sex</th>\n",
              "      <th>Canine largest age</th>\n",
              "      <th>Incisor largest age</th>\n",
              "      <th>Incisor 2nd largest age</th>\n",
              "      <th>Height in grave</th>\n",
              "      <th>Femur left</th>\n",
              "      <th>Femur right</th>\n",
              "      <th>Hyperplasia</th>\n",
              "      <th>Teeth Scorable</th>\n",
              "    </tr>\n",
              "  </thead>\n",
              "  <tbody>\n",
              "    <tr>\n",
              "      <th>0</th>\n",
              "      <td>5</td>\n",
              "      <td>Ribe</td>\n",
              "      <td>ASR1015</td>\n",
              "      <td>G229</td>\n",
              "      <td>0.0</td>\n",
              "      <td>0.0</td>\n",
              "      <td>To hvirvler fusioneret - har ingen betydning f...</td>\n",
              "      <td>NaN</td>\n",
              "      <td>NaN</td>\n",
              "      <td>05/08/08 00:00:00</td>\n",
              "      <td>...</td>\n",
              "      <td>60.0</td>\n",
              "      <td>Male</td>\n",
              "      <td>0.0</td>\n",
              "      <td>0.0</td>\n",
              "      <td>0.0</td>\n",
              "      <td>171.5</td>\n",
              "      <td>50.8</td>\n",
              "      <td>51.3</td>\n",
              "      <td>0</td>\n",
              "      <td>1</td>\n",
              "    </tr>\n",
              "    <tr>\n",
              "      <th>1</th>\n",
              "      <td>6</td>\n",
              "      <td>Ribe</td>\n",
              "      <td>ASR1015</td>\n",
              "      <td>G257</td>\n",
              "      <td>NaN</td>\n",
              "      <td>NaN</td>\n",
              "      <td>NaN</td>\n",
              "      <td>NaN</td>\n",
              "      <td>Male?, højre femur kan ikke måles da nedbrudt,...</td>\n",
              "      <td>05/08/08 00:00:00</td>\n",
              "      <td>...</td>\n",
              "      <td>40.0</td>\n",
              "      <td>Male</td>\n",
              "      <td>NaN</td>\n",
              "      <td>NaN</td>\n",
              "      <td>NaN</td>\n",
              "      <td>165.0</td>\n",
              "      <td>45.4</td>\n",
              "      <td>NaN</td>\n",
              "      <td>0</td>\n",
              "      <td>0</td>\n",
              "    </tr>\n",
              "    <tr>\n",
              "      <th>2</th>\n",
              "      <td>7</td>\n",
              "      <td>Ribe</td>\n",
              "      <td>ASR1015</td>\n",
              "      <td>G74</td>\n",
              "      <td>NaN</td>\n",
              "      <td>NaN</td>\n",
              "      <td>NaN</td>\n",
              "      <td>NaN</td>\n",
              "      <td>kraniet mangler - kig efter om det er på udsti...</td>\n",
              "      <td>NaN</td>\n",
              "      <td>...</td>\n",
              "      <td>55.0</td>\n",
              "      <td>Male</td>\n",
              "      <td>NaN</td>\n",
              "      <td>NaN</td>\n",
              "      <td>NaN</td>\n",
              "      <td>165.0</td>\n",
              "      <td>47.5</td>\n",
              "      <td>46.6</td>\n",
              "      <td>0</td>\n",
              "      <td>0</td>\n",
              "    </tr>\n",
              "    <tr>\n",
              "      <th>3</th>\n",
              "      <td>8</td>\n",
              "      <td>Ribe</td>\n",
              "      <td>ASR1015</td>\n",
              "      <td>G61</td>\n",
              "      <td>NaN</td>\n",
              "      <td>NaN</td>\n",
              "      <td>NaN</td>\n",
              "      <td>NaN</td>\n",
              "      <td>Tænder mere en 1/3 slidt ned</td>\n",
              "      <td>05/08/08 00:00:00</td>\n",
              "      <td>...</td>\n",
              "      <td>40.0</td>\n",
              "      <td>Male</td>\n",
              "      <td>NaN</td>\n",
              "      <td>NaN</td>\n",
              "      <td>NaN</td>\n",
              "      <td>164.0</td>\n",
              "      <td>47.0</td>\n",
              "      <td>46.4</td>\n",
              "      <td>0</td>\n",
              "      <td>0</td>\n",
              "    </tr>\n",
              "    <tr>\n",
              "      <th>4</th>\n",
              "      <td>9</td>\n",
              "      <td>Ribe</td>\n",
              "      <td>ASR1015</td>\n",
              "      <td>G377</td>\n",
              "      <td>3.0</td>\n",
              "      <td>NaN</td>\n",
              "      <td>NaN</td>\n",
              "      <td>Knækkede postmortalt så kan ikke måles</td>\n",
              "      <td>Incisor mere end 1/3 slidt ned</td>\n",
              "      <td>05/08/08 00:00:00</td>\n",
              "      <td>...</td>\n",
              "      <td>60.0</td>\n",
              "      <td>Male</td>\n",
              "      <td>3.5</td>\n",
              "      <td>NaN</td>\n",
              "      <td>NaN</td>\n",
              "      <td>166.0</td>\n",
              "      <td>NaN</td>\n",
              "      <td>NaN</td>\n",
              "      <td>1</td>\n",
              "      <td>1</td>\n",
              "    </tr>\n",
              "    <tr>\n",
              "      <th>...</th>\n",
              "      <td>...</td>\n",
              "      <td>...</td>\n",
              "      <td>...</td>\n",
              "      <td>...</td>\n",
              "      <td>...</td>\n",
              "      <td>...</td>\n",
              "      <td>...</td>\n",
              "      <td>...</td>\n",
              "      <td>...</td>\n",
              "      <td>...</td>\n",
              "      <td>...</td>\n",
              "      <td>...</td>\n",
              "      <td>...</td>\n",
              "      <td>...</td>\n",
              "      <td>...</td>\n",
              "      <td>...</td>\n",
              "      <td>...</td>\n",
              "      <td>...</td>\n",
              "      <td>...</td>\n",
              "      <td>...</td>\n",
              "      <td>...</td>\n",
              "    </tr>\n",
              "    <tr>\n",
              "      <th>112</th>\n",
              "      <td>28</td>\n",
              "      <td>Ribe</td>\n",
              "      <td>ASR1015</td>\n",
              "      <td>G166</td>\n",
              "      <td>5.0</td>\n",
              "      <td>NaN</td>\n",
              "      <td>NaN</td>\n",
              "      <td>NaN</td>\n",
              "      <td>NaN</td>\n",
              "      <td>05/19/08 00:00:00</td>\n",
              "      <td>...</td>\n",
              "      <td>45.0</td>\n",
              "      <td>Male</td>\n",
              "      <td>2.5</td>\n",
              "      <td>NaN</td>\n",
              "      <td>NaN</td>\n",
              "      <td>170.0</td>\n",
              "      <td>48.3</td>\n",
              "      <td>47.8</td>\n",
              "      <td>1</td>\n",
              "      <td>1</td>\n",
              "    </tr>\n",
              "    <tr>\n",
              "      <th>113</th>\n",
              "      <td>34</td>\n",
              "      <td>G216</td>\n",
              "      <td>ASR1015</td>\n",
              "      <td>G216</td>\n",
              "      <td>1.0</td>\n",
              "      <td>1.0</td>\n",
              "      <td>NaN</td>\n",
              "      <td>NaN</td>\n",
              "      <td>NaN</td>\n",
              "      <td>NaN</td>\n",
              "      <td>...</td>\n",
              "      <td>40.0</td>\n",
              "      <td>Male</td>\n",
              "      <td>3.0</td>\n",
              "      <td>3.0</td>\n",
              "      <td>NaN</td>\n",
              "      <td>166.5</td>\n",
              "      <td>0.0</td>\n",
              "      <td>47.3</td>\n",
              "      <td>1</td>\n",
              "      <td>1</td>\n",
              "    </tr>\n",
              "    <tr>\n",
              "      <th>114</th>\n",
              "      <td>29</td>\n",
              "      <td>Ribe</td>\n",
              "      <td>ASR1015</td>\n",
              "      <td>G70</td>\n",
              "      <td>2.0</td>\n",
              "      <td>3.0</td>\n",
              "      <td>NaN</td>\n",
              "      <td>Meget store og robuste. En rigtig mand.</td>\n",
              "      <td>Der er nok noget lepra kørende.I 2 kasser.</td>\n",
              "      <td>05/19/08 00:00:00</td>\n",
              "      <td>...</td>\n",
              "      <td>50.0</td>\n",
              "      <td>Male</td>\n",
              "      <td>2.5</td>\n",
              "      <td>2.5</td>\n",
              "      <td>2.0</td>\n",
              "      <td>183.0</td>\n",
              "      <td>52.8</td>\n",
              "      <td>52.5</td>\n",
              "      <td>1</td>\n",
              "      <td>1</td>\n",
              "    </tr>\n",
              "    <tr>\n",
              "      <th>115</th>\n",
              "      <td>40</td>\n",
              "      <td>Ribe</td>\n",
              "      <td>ASR1015</td>\n",
              "      <td>G274</td>\n",
              "      <td>3.0</td>\n",
              "      <td>NaN</td>\n",
              "      <td>NaN</td>\n",
              "      <td>NaN</td>\n",
              "      <td>Lidt lepra har man jo altid.</td>\n",
              "      <td>05/19/08 00:00:00</td>\n",
              "      <td>...</td>\n",
              "      <td>40.0</td>\n",
              "      <td>Female</td>\n",
              "      <td>3.5</td>\n",
              "      <td>NaN</td>\n",
              "      <td>NaN</td>\n",
              "      <td>158.0</td>\n",
              "      <td>43.8</td>\n",
              "      <td>43.1</td>\n",
              "      <td>1</td>\n",
              "      <td>1</td>\n",
              "    </tr>\n",
              "    <tr>\n",
              "      <th>116</th>\n",
              "      <td>61</td>\n",
              "      <td>Ribe</td>\n",
              "      <td>ASR1015</td>\n",
              "      <td>G863</td>\n",
              "      <td>0.0</td>\n",
              "      <td>0.0</td>\n",
              "      <td>NaN</td>\n",
              "      <td>NaN</td>\n",
              "      <td>Tænder mere end 1/3 slidte.</td>\n",
              "      <td>05/27/08 00:00:00</td>\n",
              "      <td>...</td>\n",
              "      <td>60.0</td>\n",
              "      <td>Female</td>\n",
              "      <td>0.0</td>\n",
              "      <td>0.0</td>\n",
              "      <td>0.0</td>\n",
              "      <td>156.0</td>\n",
              "      <td>47.1</td>\n",
              "      <td>47.0</td>\n",
              "      <td>0</td>\n",
              "      <td>0</td>\n",
              "    </tr>\n",
              "  </tbody>\n",
              "</table>\n",
              "<p>117 rows × 23 columns</p>\n",
              "</div>\n",
              "    <div class=\"colab-df-buttons\">\n",
              "\n",
              "  <div class=\"colab-df-container\">\n",
              "    <button class=\"colab-df-convert\" onclick=\"convertToInteractive('df-3356d724-d0af-45c1-9f28-12a803b089c6')\"\n",
              "            title=\"Convert this dataframe to an interactive table.\"\n",
              "            style=\"display:none;\">\n",
              "\n",
              "  <svg xmlns=\"http://www.w3.org/2000/svg\" height=\"24px\" viewBox=\"0 -960 960 960\">\n",
              "    <path d=\"M120-120v-720h720v720H120Zm60-500h600v-160H180v160Zm220 220h160v-160H400v160Zm0 220h160v-160H400v160ZM180-400h160v-160H180v160Zm440 0h160v-160H620v160ZM180-180h160v-160H180v160Zm440 0h160v-160H620v160Z\"/>\n",
              "  </svg>\n",
              "    </button>\n",
              "\n",
              "  <style>\n",
              "    .colab-df-container {\n",
              "      display:flex;\n",
              "      gap: 12px;\n",
              "    }\n",
              "\n",
              "    .colab-df-convert {\n",
              "      background-color: #E8F0FE;\n",
              "      border: none;\n",
              "      border-radius: 50%;\n",
              "      cursor: pointer;\n",
              "      display: none;\n",
              "      fill: #1967D2;\n",
              "      height: 32px;\n",
              "      padding: 0 0 0 0;\n",
              "      width: 32px;\n",
              "    }\n",
              "\n",
              "    .colab-df-convert:hover {\n",
              "      background-color: #E2EBFA;\n",
              "      box-shadow: 0px 1px 2px rgba(60, 64, 67, 0.3), 0px 1px 3px 1px rgba(60, 64, 67, 0.15);\n",
              "      fill: #174EA6;\n",
              "    }\n",
              "\n",
              "    .colab-df-buttons div {\n",
              "      margin-bottom: 4px;\n",
              "    }\n",
              "\n",
              "    [theme=dark] .colab-df-convert {\n",
              "      background-color: #3B4455;\n",
              "      fill: #D2E3FC;\n",
              "    }\n",
              "\n",
              "    [theme=dark] .colab-df-convert:hover {\n",
              "      background-color: #434B5C;\n",
              "      box-shadow: 0px 1px 3px 1px rgba(0, 0, 0, 0.15);\n",
              "      filter: drop-shadow(0px 1px 2px rgba(0, 0, 0, 0.3));\n",
              "      fill: #FFFFFF;\n",
              "    }\n",
              "  </style>\n",
              "\n",
              "    <script>\n",
              "      const buttonEl =\n",
              "        document.querySelector('#df-3356d724-d0af-45c1-9f28-12a803b089c6 button.colab-df-convert');\n",
              "      buttonEl.style.display =\n",
              "        google.colab.kernel.accessAllowed ? 'block' : 'none';\n",
              "\n",
              "      async function convertToInteractive(key) {\n",
              "        const element = document.querySelector('#df-3356d724-d0af-45c1-9f28-12a803b089c6');\n",
              "        const dataTable =\n",
              "          await google.colab.kernel.invokeFunction('convertToInteractive',\n",
              "                                                    [key], {});\n",
              "        if (!dataTable) return;\n",
              "\n",
              "        const docLinkHtml = 'Like what you see? Visit the ' +\n",
              "          '<a target=\"_blank\" href=https://colab.research.google.com/notebooks/data_table.ipynb>data table notebook</a>'\n",
              "          + ' to learn more about interactive tables.';\n",
              "        element.innerHTML = '';\n",
              "        dataTable['output_type'] = 'display_data';\n",
              "        await google.colab.output.renderOutput(dataTable, element);\n",
              "        const docLink = document.createElement('div');\n",
              "        docLink.innerHTML = docLinkHtml;\n",
              "        element.appendChild(docLink);\n",
              "      }\n",
              "    </script>\n",
              "  </div>\n",
              "\n",
              "\n",
              "<div id=\"df-65130822-c1db-4a2f-aec8-ffc3210f1992\">\n",
              "  <button class=\"colab-df-quickchart\" onclick=\"quickchart('df-65130822-c1db-4a2f-aec8-ffc3210f1992')\"\n",
              "            title=\"Suggest charts.\"\n",
              "            style=\"display:none;\">\n",
              "\n",
              "<svg xmlns=\"http://www.w3.org/2000/svg\" height=\"24px\"viewBox=\"0 0 24 24\"\n",
              "     width=\"24px\">\n",
              "    <g>\n",
              "        <path d=\"M19 3H5c-1.1 0-2 .9-2 2v14c0 1.1.9 2 2 2h14c1.1 0 2-.9 2-2V5c0-1.1-.9-2-2-2zM9 17H7v-7h2v7zm4 0h-2V7h2v10zm4 0h-2v-4h2v4z\"/>\n",
              "    </g>\n",
              "</svg>\n",
              "  </button>\n",
              "\n",
              "<style>\n",
              "  .colab-df-quickchart {\n",
              "      --bg-color: #E8F0FE;\n",
              "      --fill-color: #1967D2;\n",
              "      --hover-bg-color: #E2EBFA;\n",
              "      --hover-fill-color: #174EA6;\n",
              "      --disabled-fill-color: #AAA;\n",
              "      --disabled-bg-color: #DDD;\n",
              "  }\n",
              "\n",
              "  [theme=dark] .colab-df-quickchart {\n",
              "      --bg-color: #3B4455;\n",
              "      --fill-color: #D2E3FC;\n",
              "      --hover-bg-color: #434B5C;\n",
              "      --hover-fill-color: #FFFFFF;\n",
              "      --disabled-bg-color: #3B4455;\n",
              "      --disabled-fill-color: #666;\n",
              "  }\n",
              "\n",
              "  .colab-df-quickchart {\n",
              "    background-color: var(--bg-color);\n",
              "    border: none;\n",
              "    border-radius: 50%;\n",
              "    cursor: pointer;\n",
              "    display: none;\n",
              "    fill: var(--fill-color);\n",
              "    height: 32px;\n",
              "    padding: 0;\n",
              "    width: 32px;\n",
              "  }\n",
              "\n",
              "  .colab-df-quickchart:hover {\n",
              "    background-color: var(--hover-bg-color);\n",
              "    box-shadow: 0 1px 2px rgba(60, 64, 67, 0.3), 0 1px 3px 1px rgba(60, 64, 67, 0.15);\n",
              "    fill: var(--button-hover-fill-color);\n",
              "  }\n",
              "\n",
              "  .colab-df-quickchart-complete:disabled,\n",
              "  .colab-df-quickchart-complete:disabled:hover {\n",
              "    background-color: var(--disabled-bg-color);\n",
              "    fill: var(--disabled-fill-color);\n",
              "    box-shadow: none;\n",
              "  }\n",
              "\n",
              "  .colab-df-spinner {\n",
              "    border: 2px solid var(--fill-color);\n",
              "    border-color: transparent;\n",
              "    border-bottom-color: var(--fill-color);\n",
              "    animation:\n",
              "      spin 1s steps(1) infinite;\n",
              "  }\n",
              "\n",
              "  @keyframes spin {\n",
              "    0% {\n",
              "      border-color: transparent;\n",
              "      border-bottom-color: var(--fill-color);\n",
              "      border-left-color: var(--fill-color);\n",
              "    }\n",
              "    20% {\n",
              "      border-color: transparent;\n",
              "      border-left-color: var(--fill-color);\n",
              "      border-top-color: var(--fill-color);\n",
              "    }\n",
              "    30% {\n",
              "      border-color: transparent;\n",
              "      border-left-color: var(--fill-color);\n",
              "      border-top-color: var(--fill-color);\n",
              "      border-right-color: var(--fill-color);\n",
              "    }\n",
              "    40% {\n",
              "      border-color: transparent;\n",
              "      border-right-color: var(--fill-color);\n",
              "      border-top-color: var(--fill-color);\n",
              "    }\n",
              "    60% {\n",
              "      border-color: transparent;\n",
              "      border-right-color: var(--fill-color);\n",
              "    }\n",
              "    80% {\n",
              "      border-color: transparent;\n",
              "      border-right-color: var(--fill-color);\n",
              "      border-bottom-color: var(--fill-color);\n",
              "    }\n",
              "    90% {\n",
              "      border-color: transparent;\n",
              "      border-bottom-color: var(--fill-color);\n",
              "    }\n",
              "  }\n",
              "</style>\n",
              "\n",
              "  <script>\n",
              "    async function quickchart(key) {\n",
              "      const quickchartButtonEl =\n",
              "        document.querySelector('#' + key + ' button');\n",
              "      quickchartButtonEl.disabled = true;  // To prevent multiple clicks.\n",
              "      quickchartButtonEl.classList.add('colab-df-spinner');\n",
              "      try {\n",
              "        const charts = await google.colab.kernel.invokeFunction(\n",
              "            'suggestCharts', [key], {});\n",
              "      } catch (error) {\n",
              "        console.error('Error during call to suggestCharts:', error);\n",
              "      }\n",
              "      quickchartButtonEl.classList.remove('colab-df-spinner');\n",
              "      quickchartButtonEl.classList.add('colab-df-quickchart-complete');\n",
              "    }\n",
              "    (() => {\n",
              "      let quickchartButtonEl =\n",
              "        document.querySelector('#df-65130822-c1db-4a2f-aec8-ffc3210f1992 button');\n",
              "      quickchartButtonEl.style.display =\n",
              "        google.colab.kernel.accessAllowed ? 'block' : 'none';\n",
              "    })();\n",
              "  </script>\n",
              "</div>\n",
              "    </div>\n",
              "  </div>\n"
            ]
          },
          "metadata": {},
          "execution_count": 4
        }
      ]
    },
    {
      "cell_type": "code",
      "source": [
        "import numpy as np\n",
        "\n",
        "df = df[df['Sex']=='Male'].copy()\n",
        "df_data = df[['Femur left','Height in grave']].copy()\n",
        "df_data.dropna(inplace=True)\n",
        "df_data = df_data[df_data['Femur left']!=0].copy()\n",
        "df_data = df_data[df_data['Height in grave']!=0].copy()\n",
        "\n",
        "datos = df_data.values\n",
        "datos.shape"
      ],
      "metadata": {
        "colab": {
          "base_uri": "https://localhost:8080/"
        },
        "id": "3ZTxOZRQlZUh",
        "outputId": "a33cfed7-f763-4e3d-dd2c-af4ca32fab78"
      },
      "execution_count": 5,
      "outputs": [
        {
          "output_type": "execute_result",
          "data": {
            "text/plain": [
              "(52, 2)"
            ]
          },
          "metadata": {},
          "execution_count": 5
        }
      ]
    },
    {
      "cell_type": "markdown",
      "source": [
        "## Los datos"
      ],
      "metadata": {
        "id": "NozwUxSThXMD"
      }
    },
    {
      "cell_type": "code",
      "source": [
        "datos"
      ],
      "metadata": {
        "colab": {
          "base_uri": "https://localhost:8080/"
        },
        "id": "wzEqrkQPcExB",
        "outputId": "6b1da109-8923-43b5-9a7f-1492b66b75ce"
      },
      "execution_count": 6,
      "outputs": [
        {
          "output_type": "execute_result",
          "data": {
            "text/plain": [
              "array([[ 50.8, 171.5],\n",
              "       [ 45.4, 165. ],\n",
              "       [ 47.5, 165. ],\n",
              "       [ 47. , 164. ],\n",
              "       [ 52. , 185. ],\n",
              "       [ 51.4, 182. ],\n",
              "       [ 44.9, 154. ],\n",
              "       [ 48.4, 170. ],\n",
              "       [ 45.6, 169. ],\n",
              "       [ 47.3, 170. ],\n",
              "       [ 45.6, 166. ],\n",
              "       [ 41.6, 148. ],\n",
              "       [ 48.5, 173. ],\n",
              "       [ 49. , 175. ],\n",
              "       [ 47.8, 170. ],\n",
              "       [ 44.1, 153. ],\n",
              "       [ 50.8, 174.5],\n",
              "       [ 45.8, 163. ],\n",
              "       [ 44.3, 159. ],\n",
              "       [ 50. , 173. ],\n",
              "       [ 51.3, 179. ],\n",
              "       [ 46.1, 167.5],\n",
              "       [ 50.8, 171.5],\n",
              "       [ 48.5, 170.5],\n",
              "       [ 49.3, 177. ],\n",
              "       [ 47. , 164. ],\n",
              "       [ 54.4, 184. ],\n",
              "       [ 52.6, 180. ],\n",
              "       [ 47. , 168. ],\n",
              "       [ 47. , 170. ],\n",
              "       [ 44.5, 163. ],\n",
              "       [ 48.4, 174. ],\n",
              "       [ 45.1, 161. ],\n",
              "       [ 48. , 159. ],\n",
              "       [ 47.5, 171. ],\n",
              "       [ 48. , 175. ],\n",
              "       [ 46.2, 166. ],\n",
              "       [ 52. , 177. ],\n",
              "       [ 48. , 171.5],\n",
              "       [ 46.6, 169. ],\n",
              "       [ 51.3, 172.5],\n",
              "       [ 45.6, 174. ],\n",
              "       [ 50.8, 179. ],\n",
              "       [ 42.1, 157.5],\n",
              "       [ 41.7, 152.5],\n",
              "       [ 50.9, 175. ],\n",
              "       [ 49.6, 173.5],\n",
              "       [ 44.1, 157.5],\n",
              "       [ 43.4, 156. ],\n",
              "       [ 49.6, 174. ],\n",
              "       [ 48.3, 170. ],\n",
              "       [ 52.8, 183. ]])"
            ]
          },
          "metadata": {},
          "execution_count": 6
        }
      ]
    },
    {
      "cell_type": "markdown",
      "source": [
        "Graficamos"
      ],
      "metadata": {
        "id": "3T2fYi8whaLu"
      }
    },
    {
      "cell_type": "code",
      "source": [
        "import matplotlib.pyplot as plt\n",
        "\n",
        "plt.figure(dpi=150)\n",
        "plt.suptitle(\"Relación entre el fémur y la altura\")\n",
        "plt.scatter(datos[:,0],datos[:,1],color='red')\n",
        "plt.xlabel('Largo del fémur (cm)',fontsize=14)\n",
        "plt.ylabel('Altura (cm)',fontsize=14)\n",
        "plt.show()"
      ],
      "metadata": {
        "colab": {
          "base_uri": "https://localhost:8080/",
          "height": 745
        },
        "id": "sOHjbnIalpaF",
        "outputId": "fd16d137-b429-40eb-eba3-cbb26076bd34"
      },
      "execution_count": 5,
      "outputs": [
        {
          "output_type": "display_data",
          "data": {
            "text/plain": [
              "<Figure size 960x720 with 1 Axes>"
            ],
            "image/png": "[encoded data removed]"
          },
          "metadata": {}
        }
      ]
    },
    {
      "cell_type": "code",
      "source": [
        "np.savetxt(fname='datos_femur_altura.csv',X=datos)"
      ],
      "metadata": {
        "id": "Gloi3F9wmczy"
      },
      "execution_count": null,
      "outputs": []
    },
    {
      "cell_type": "markdown",
      "source": [
        "## La regresión lineal"
      ],
      "metadata": {
        "id": "ub2e-OJ9hb-n"
      }
    },
    {
      "cell_type": "code",
      "source": [
        "from sklearn.linear_model import LinearRegression\n",
        "\n",
        "lr = LinearRegression()\n",
        "lr.fit(datos[:,0].reshape(-1,1),datos[:,1])"
      ],
      "metadata": {
        "id": "GgF2xXP_miW9",
        "colab": {
          "base_uri": "https://localhost:8080/",
          "height": 75
        },
        "outputId": "974107e3-bde2-44e9-cd70-e1545bf4123e"
      },
      "execution_count": 7,
      "outputs": [
        {
          "output_type": "execute_result",
          "data": {
            "text/plain": [
              "LinearRegression()"
            ],
            "text/html": [
              "<style>#sk-container-id-1 {color: black;background-color: white;}#sk-container-id-1 pre{padding: 0;}#sk-container-id-1 div.sk-toggleable {background-color: white;}#sk-container-id-1 label.sk-toggleable__label {cursor: pointer;display: block;width: 100%;margin-bottom: 0;padding: 0.3em;box-sizing: border-box;text-align: center;}#sk-container-id-1 label.sk-toggleable__label-arrow:before {content: \"▸\";float: left;margin-right: 0.25em;color: #696969;}#sk-container-id-1 label.sk-toggleable__label-arrow:hover:before {color: black;}#sk-container-id-1 div.sk-estimator:hover label.sk-toggleable__label-arrow:before {color: black;}#sk-container-id-1 div.sk-toggleable__content {max-height: 0;max-width: 0;overflow: hidden;text-align: left;background-color: #f0f8ff;}#sk-container-id-1 div.sk-toggleable__content pre {margin: 0.2em;color: black;border-radius: 0.25em;background-color: #f0f8ff;}#sk-container-id-1 input.sk-toggleable__control:checked~div.sk-toggleable__content {max-height: 200px;max-width: 100%;overflow: auto;}#sk-container-id-1 input.sk-toggleable__control:checked~label.sk-toggleable__label-arrow:before {content: \"▾\";}#sk-container-id-1 div.sk-estimator input.sk-toggleable__control:checked~label.sk-toggleable__label {background-color: #d4ebff;}#sk-container-id-1 div.sk-label input.sk-toggleable__control:checked~label.sk-toggleable__label {background-color: #d4ebff;}#sk-container-id-1 input.sk-hidden--visually {border: 0;clip: rect(1px 1px 1px 1px);clip: rect(1px, 1px, 1px, 1px);height: 1px;margin: -1px;overflow: hidden;padding: 0;position: absolute;width: 1px;}#sk-container-id-1 div.sk-estimator {font-family: monospace;background-color: #f0f8ff;border: 1px dotted black;border-radius: 0.25em;box-sizing: border-box;margin-bottom: 0.5em;}#sk-container-id-1 div.sk-estimator:hover {background-color: #d4ebff;}#sk-container-id-1 div.sk-parallel-item::after {content: \"\";width: 100%;border-bottom: 1px solid gray;flex-grow: 1;}#sk-container-id-1 div.sk-label:hover label.sk-toggleable__label {background-color: #d4ebff;}#sk-container-id-1 div.sk-serial::before {content: \"\";position: absolute;border-left: 1px solid gray;box-sizing: border-box;top: 0;bottom: 0;left: 50%;z-index: 0;}#sk-container-id-1 div.sk-serial {display: flex;flex-direction: column;align-items: center;background-color: white;padding-right: 0.2em;padding-left: 0.2em;position: relative;}#sk-container-id-1 div.sk-item {position: relative;z-index: 1;}#sk-container-id-1 div.sk-parallel {display: flex;align-items: stretch;justify-content: center;background-color: white;position: relative;}#sk-container-id-1 div.sk-item::before, #sk-container-id-1 div.sk-parallel-item::before {content: \"\";position: absolute;border-left: 1px solid gray;box-sizing: border-box;top: 0;bottom: 0;left: 50%;z-index: -1;}#sk-container-id-1 div.sk-parallel-item {display: flex;flex-direction: column;z-index: 1;position: relative;background-color: white;}#sk-container-id-1 div.sk-parallel-item:first-child::after {align-self: flex-end;width: 50%;}#sk-container-id-1 div.sk-parallel-item:last-child::after {align-self: flex-start;width: 50%;}#sk-container-id-1 div.sk-parallel-item:only-child::after {width: 0;}#sk-container-id-1 div.sk-dashed-wrapped {border: 1px dashed gray;margin: 0 0.4em 0.5em 0.4em;box-sizing: border-box;padding-bottom: 0.4em;background-color: white;}#sk-container-id-1 div.sk-label label {font-family: monospace;font-weight: bold;display: inline-block;line-height: 1.2em;}#sk-container-id-1 div.sk-label-container {text-align: center;}#sk-container-id-1 div.sk-container {/* jupyter's `normalize.less` sets `[hidden] { display: none; }` but bootstrap.min.css set `[hidden] { display: none !important; }` so we also need the `!important` here to be able to override the default hidden behavior on the sphinx rendered scikit-learn.org. See: https://github.com/scikit-learn/scikit-learn/issues/21755 */display: inline-block !important;position: relative;}#sk-container-id-1 div.sk-text-repr-fallback {display: none;}</style><div id=\"sk-container-id-1\" class=\"sk-top-container\"><div class=\"sk-text-repr-fallback\"><pre>LinearRegression()</pre><b>In a Jupyter environment, please rerun this cell to show the HTML representation or trust the notebook. <br />On GitHub, the HTML representation is unable to render, please try loading this page with nbviewer.org.</b></div><div class=\"sk-container\" hidden><div class=\"sk-item\"><div class=\"sk-estimator sk-toggleable\"><input class=\"sk-toggleable__control sk-hidden--visually\" id=\"sk-estimator-id-1\" type=\"checkbox\" checked><label for=\"sk-estimator-id-1\" class=\"sk-toggleable__label sk-toggleable__label-arrow\">LinearRegression</label><div class=\"sk-toggleable__content\"><pre>LinearRegression()</pre></div></div></div></div></div>"
            ]
          },
          "metadata": {},
          "execution_count": 7
        }
      ]
    },
    {
      "cell_type": "markdown",
      "source": [
        "Pendiente y ordenada al origen"
      ],
      "metadata": {
        "id": "T06Vx77UBGbE"
      }
    },
    {
      "cell_type": "code",
      "source": [
        "lr.coef_, lr.intercept_"
      ],
      "metadata": {
        "colab": {
          "base_uri": "https://localhost:8080/"
        },
        "id": "KOlorSR2AdWN",
        "outputId": "1f886165-6b14-4a90-d246-fbcbdc0cab20"
      },
      "execution_count": 8,
      "outputs": [
        {
          "output_type": "execute_result",
          "data": {
            "text/plain": [
              "(array([2.54415906]), 47.4414872142391)"
            ]
          },
          "metadata": {},
          "execution_count": 8
        }
      ]
    },
    {
      "cell_type": "code",
      "source": [
        "import matplotlib.pyplot as plt\n",
        "\n",
        "a = np.min(datos[:,0])\n",
        "b = np.max(datos[:,0])\n",
        "\n",
        "x_axis = np.linspace(a,b,100)\n",
        "line = [lr.coef_*x + lr.intercept_ for x in x_axis]\n",
        "\n",
        "plt.figure(dpi=150)\n",
        "plt.suptitle(\"Relación entre el fémur y la altura\")\n",
        "plt.scatter(datos[:,0],datos[:,1],color='red')\n",
        "plt.plot(x_axis,line)\n",
        "plt.xlabel('Largo del fémur (cm)',fontsize=14)\n",
        "plt.ylabel('Altura (cm)',fontsize=14)\n",
        "plt.show()"
      ],
      "metadata": {
        "colab": {
          "base_uri": "https://localhost:8080/",
          "height": 745
        },
        "id": "T-2owiY5Ak8h",
        "outputId": "4328073f-9d73-4ebe-de3e-ecc54dae5926"
      },
      "execution_count": 11,
      "outputs": [
        {
          "output_type": "display_data",
          "data": {
            "text/plain": [
              "<Figure size 960x720 with 1 Axes>"
            ],
            "image/png": "[encoded data removed]"
          },
          "metadata": {}
        }
      ]
    },
    {
      "cell_type": "code",
      "source": [
        "lr.score(datos[:,0].reshape(-1,1),datos[:,1])"
      ],
      "metadata": {
        "colab": {
          "base_uri": "https://localhost:8080/"
        },
        "id": "6DeikUC3A92b",
        "outputId": "30a23a9b-cc5b-4615-b076-fac0267c242d"
      },
      "execution_count": 12,
      "outputs": [
        {
          "output_type": "execute_result",
          "data": {
            "text/plain": [
              "0.8024437811952196"
            ]
          },
          "metadata": {},
          "execution_count": 12
        }
      ]
    },
    {
      "cell_type": "markdown",
      "source": [
        "# 2. Ejemplo de clase"
      ],
      "metadata": {
        "id": "eZv9NWQzC13a"
      }
    },
    {
      "cell_type": "code",
      "source": [
        "ys = np.array([0.5,2.5,2,4,3.5,6,5.5])\n",
        "xs = np.array(list(range(1,8)))\n",
        "\n",
        "lr2 = LinearRegression()\n",
        "lr2.fit(xs.reshape(-1,1),ys)\n",
        "lr2.score(xs.reshape(-1,1),ys)"
      ],
      "metadata": {
        "colab": {
          "base_uri": "https://localhost:8080/"
        },
        "id": "ZBhnHkYJBQ5R",
        "outputId": "b27a2926-ad28-46de-80e9-1e92707ebe5d"
      },
      "execution_count": 14,
      "outputs": [
        {
          "output_type": "execute_result",
          "data": {
            "text/plain": [
              "0.8683176100628931"
            ]
          },
          "metadata": {},
          "execution_count": 14
        }
      ]
    },
    {
      "cell_type": "code",
      "source": [
        "lr2.coef_, lr2.intercept_"
      ],
      "metadata": {
        "colab": {
          "base_uri": "https://localhost:8080/"
        },
        "id": "i7fRHht_DLzP",
        "outputId": "c2ced558-ec99-4cd4-e6dc-fc69ecf5280a"
      },
      "execution_count": 15,
      "outputs": [
        {
          "output_type": "execute_result",
          "data": {
            "text/plain": [
              "(array([0.83928571]), 0.07142857142857117)"
            ]
          },
          "metadata": {},
          "execution_count": 15
        }
      ]
    },
    {
      "cell_type": "code",
      "source": [],
      "metadata": {
        "id": "Xp8hBugIDXmp"
      },
      "execution_count": null,
      "outputs": []
    }
  ]
}
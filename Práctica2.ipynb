{
  "cells": [
    {
      "cell_type": "markdown",
      "metadata": {
        "id": "view-in-github",
        "colab_type": "text"
      },
      "source": [
        "<a href=\"https://colab.research.google.com/github/gmauricio-toledo/MetodosNumericos/blob/main/Pr%C3%A1ctica2.ipynb\" target=\"_parent\"><img src=\"https://colab.research.google.com/assets/colab-badge.svg\" alt=\"Open In Colab\"/></a>"
      ]
    },
    {
      "cell_type": "markdown",
      "metadata": {
        "id": "8C16aeeTvgxL"
      },
      "source": [
        "# <h2>Práctica en clase 2</h2>"
      ]
    },
    {
      "cell_type": "markdown",
      "metadata": {
        "id": "uo2w1Ik8vgxN"
      },
      "source": [
        "Clase y funciones auxiliares"
      ]
    },
    {
      "cell_type": "code",
      "execution_count": null,
      "metadata": {
        "id": "FV6yf5P27B0U"
      },
      "outputs": [],
      "source": [
        "import matplotlib.pyplot as plt\n",
        "from math import fabs\n",
        "import numpy as np\n",
        "\n",
        "def graficar(f,a,b,num=100):\n",
        "    '''\n",
        "    función para graficar una función <f> en un intervalo [a,b]. El parámetro <num>\n",
        "    controla la \"resolución\" de la gráfica. Puede no especificarse.\n",
        "    '''\n",
        "    eje_x = np.linspace(start=a,\n",
        "                    stop=b,\n",
        "                    num=num)\n",
        "    eje_y = [f(x) for x in eje_x]  # Listas de compresión\n",
        "    plt.figure(figsize=(7,5))\n",
        "    plt.plot(eje_x,eje_y,color='red')\n",
        "    plt.axhline(0,color='gray') # Dibujar eje X\n",
        "    plt.show()\n",
        "\n",
        "def error_relativo(x_real,x_aprox):\n",
        "    return fabs(x_real-x_aprox)/fabs(x_real)"
      ]
    },
    {
      "cell_type": "code",
      "execution_count": null,
      "metadata": {
        "id": "gadDs5MCvgxO"
      },
      "outputs": [],
      "source": [
        "from math import sin, cos\n",
        "import matplotlib.pyplot as plt\n",
        "import matplotlib.animation as animation\n",
        "import numpy as np\n",
        "\n",
        "\n",
        "class Shoot:\n",
        "\n",
        "    def __init__(self,v,theta,g=9.81):\n",
        "        self.v = v\n",
        "        self.g = g\n",
        "        assert theta>0 and theta<0.5*np.pi, \"El ángulo debe estar en (0,pi/2)\"  # asegurarse que sea un ángulo en el primer cuadrante\n",
        "        self.theta = theta\n",
        "        self.t_final = 2*self.v*sin(self.theta)/self.g\n",
        "        self.ts = np.linspace(0,self.t_final,100)\n",
        "        self.path = np.array([self.__posicion(t) for t in self.ts])\n",
        "        self.distancia = np.max(self.path[:,0])\n",
        "\n",
        "    def __posicion(self,t):\n",
        "        x = self.v*t*cos(self.theta)\n",
        "        y = self.v*t*sin(self.theta)-0.5*self.g*t**2\n",
        "        if y<0: # just in case\n",
        "            y = 0\n",
        "        return (x,y)\n",
        "\n",
        "    def graficar(self,fname='shoot.gif'):\n",
        "        def update(t):\n",
        "            ax.clear()\n",
        "            fig.suptitle(f\"Distancia alcanzada: {round(self.distancia,2)}\\nt={t}\")\n",
        "            ax.axhline(0,color='gray')\n",
        "            ax.axvline(0,color='gray')\n",
        "            ax.plot(self.path[:,0],self.path[:,1],color='gray',alpha=0.25,linestyle='-')\n",
        "            X = self.__posicion(t)\n",
        "            ax.scatter([X[0]], [X[1]], s=50, color='black')\n",
        "        fig, ax = plt.subplots(figsize=(7,5))\n",
        "        ani = animation.FuncAnimation(fig, update, frames=self.ts, interval=1000/24)\n",
        "        ani.save(fname, writer='pillow')\n",
        "        plt.close(fig)"
      ]
    },
    {
      "cell_type": "markdown",
      "metadata": {
        "id": "8m0PPFw2vgxR"
      },
      "source": [
        "# La ecuación\n",
        "\n",
        "La altura $h$ que alcanzará, en una distancia $d$, un proyectil lanzado con velocidad $v$ y ángulo $\\theta$ está dado por\n",
        "\n",
        "$$h(\\theta,d) = d\\tan(\\theta) - \\frac{gd^2}{2v^2\\cos^2(\\theta)} $$\n",
        "\n",
        "Queremos averiguar el ángulo necesario para alcanzar un objetivo a una distancia $d$, cuando lanzamos el proyectil con velocidad $v$. Para esto, hay que encontrar la raiz de la ecuación anterior, es decir, el valor $d$ tal que $h(d)=0$."
      ]
    },
    {
      "cell_type": "markdown",
      "metadata": {
        "id": "APBPgOMcvgxT"
      },
      "source": [
        "# Probar el módelo"
      ]
    },
    {
      "cell_type": "markdown",
      "metadata": {
        "id": "61FAsujOvgxU"
      },
      "source": [
        "Define tus parámetros"
      ]
    },
    {
      "cell_type": "code",
      "execution_count": null,
      "metadata": {
        "id": "az00WPbbvgxV"
      },
      "outputs": [],
      "source": [
        "g = 9.8\n",
        "theta = 0.3\n",
        "v = 7"
      ]
    },
    {
      "cell_type": "markdown",
      "metadata": {
        "id": "DK2lYpMBvgxV"
      },
      "source": [
        "Prueba el disparo"
      ]
    },
    {
      "cell_type": "code",
      "execution_count": null,
      "metadata": {
        "id": "vDc1D8sbvgxW"
      },
      "outputs": [],
      "source": [
        "from IPython.display import Image\n",
        "\n",
        "disparo = Shoot(v,theta)\n",
        "print(f\"El disparo alcanzó la distancia {disparo.distancia} m en {disparo.t_final} segundos\")\n",
        "disparo.graficar()\n",
        "\n",
        "Image(open('shoot.gif','rb').read())"
      ]
    },
    {
      "cell_type": "markdown",
      "metadata": {
        "id": "UsLZKU5k7B0c"
      },
      "source": [
        "# Ejercicio"
      ]
    },
    {
      "cell_type": "markdown",
      "metadata": {
        "id": "9Y35DCiN7B0c"
      },
      "source": [
        "Encontrar el ángulo necesario para alcanzar una distancia de $1m$. El proyectil será lanzado con una velocidad de $v=4 m/s$, considera $g=9.81m/s^2$ y una tolerancia de $0.0001$.\n",
        "\n",
        "1. Primero, usa cualquier método de encontrar raices que hemos implementado. Recuerda que puedes usar tu implementación o las implementaciones de la notebook de la práctica pasada."
      ]
    },
    {
      "cell_type": "code",
      "execution_count": null,
      "metadata": {
        "id": "MBhRR0te7B0d"
      },
      "outputs": [],
      "source": []
    },
    {
      "cell_type": "markdown",
      "metadata": {
        "id": "41Ld1tOR7B0d"
      },
      "source": [
        "2. Ahora, usa también la implementación de `scipy`.\n",
        "\n",
        "[Documentación](https://docs.scipy.org/doc/scipy/reference/generated/scipy.optimize.root_scalar.html)"
      ]
    },
    {
      "cell_type": "code",
      "execution_count": null,
      "metadata": {
        "id": "-MQV_-12wYJB"
      },
      "outputs": [],
      "source": [
        "from scipy import optimize\n",
        "\n",
        "sol = optimize.root_scalar(f,               # función\n",
        "                           bracket=,  # intervalo que contenga a la raiz\n",
        "                           method='bisect', # método para resolver\n",
        "                           rtol=0.001)      # tolerancia"
      ]
    },
    {
      "cell_type": "code",
      "execution_count": null,
      "metadata": {
        "id": "Y52Rtz-k7B0e"
      },
      "outputs": [],
      "source": []
    },
    {
      "cell_type": "markdown",
      "source": [
        "3. Prueba el disparo con la animación para ver si alcanzas la distancia pedida."
      ],
      "metadata": {
        "id": "TmsxTcNT7Elp"
      }
    },
    {
      "cell_type": "code",
      "source": [
        "g = 9.8\n",
        "theta =\n",
        "v =\n",
        "\n",
        "from IPython.display import Image\n",
        "\n",
        "disparo = Shoot(v,theta)\n",
        "print(f\"El disparo alcanzó la distancia {disparo.distancia} m en {disparo.t_final} segundos\")\n",
        "disparo.graficar()\n",
        "\n",
        "Image(open('shoot.gif','rb').read())"
      ],
      "metadata": {
        "id": "Y-lIuRaM7EUs"
      },
      "execution_count": null,
      "outputs": []
    }
  ],
  "metadata": {
    "colab": {
      "provenance": [],
      "include_colab_link": true
    },
    "kernelspec": {
      "display_name": "Python 3",
      "language": "python",
      "name": "python3"
    },
    "language_info": {
      "codemirror_mode": {
        "name": "ipython",
        "version": 3
      },
      "file_extension": ".py",
      "mimetype": "text/x-python",
      "name": "python",
      "nbconvert_exporter": "python",
      "pygments_lexer": "ipython3",
      "version": "3.8.10"
    },
    "orig_nbformat": 4
  },
  "nbformat": 4,
  "nbformat_minor": 0
}
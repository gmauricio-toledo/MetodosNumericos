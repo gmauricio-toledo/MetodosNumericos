{
 "cells": [
  {
   "cell_type": "markdown",
   "metadata": {},
   "source": [
    "# <h2>Práctica en clase 2</h2>"
   ]
  },
  {
   "cell_type": "markdown",
   "metadata": {},
   "source": [
    "Clase y funciones auxiliares"
   ]
  },
  {
   "cell_type": "code",
   "execution_count": 29,
   "metadata": {},
   "outputs": [],
   "source": [
    "from math import sin, cos\n",
    "import matplotlib.pyplot as plt\n",
    "import matplotlib.animation as animation\n",
    "import numpy as np\n",
    "\n",
    "\n",
    "class Shoot:\n",
    "\n",
    "    def __init__(self,v,theta,g=9.81):\n",
    "        self.v = v\n",
    "        self.g = g\n",
    "        self.theta = theta\n",
    "        self.t_final = 2*self.v*sin(self.theta)/self.g\n",
    "        self.ts = np.linspace(0,self.t_final,100)\n",
    "        self.path = np.array([self.__posicion(t) for t in self.ts])\n",
    "        self.distancia = np.max(self.path[:,0])\n",
    "\n",
    "    def __posicion(self,t):\n",
    "        x = self.v*t*cos(self.theta)\n",
    "        y = self.v*t*sin(self.theta)-0.5*self.g*t**2\n",
    "        if y<0: # just in case\n",
    "            y = 0\n",
    "        return (x,y)\n",
    "\n",
    "    def graficar(self,fname='shoot.gif'):\n",
    "        def update(t):\n",
    "            ax.clear()\n",
    "            fig.suptitle(f\"Distancia alcanzada: {round(self.distancia,2)}\\nt={t}\")\n",
    "            ax.axhline(0,color='gray')\n",
    "            ax.axvline(0,color='gray')\n",
    "            ax.plot(self.path[:,0],self.path[:,1],color='gray',alpha=0.25,linestyle='-')\n",
    "            X = self.__posicion(t)\n",
    "            ax.scatter([X[0]], [X[1]], s=50, color='black')\n",
    "        fig, ax = plt.subplots(figsize=(7,5))\n",
    "        ani = animation.FuncAnimation(fig, update, frames=self.ts, interval=1000/24)\n",
    "        ani.save(fname, writer='pillow')"
   ]
  },
  {
   "cell_type": "markdown",
   "metadata": {},
   "source": [
    "# La ecuación\n",
    "\n",
    "La altura $h$ que alcanzará, en una distancia $d$, un proyectil lanzado con velocidad $v$ y ángulo $\\theta$ está dado por \n",
    "\n",
    "$$h(d) = d\\tan(\\theta) - \\frac{gd^2}{2v^2\\cos^2(\\theta)} $$\n",
    "\n",
    "Queremos averiguar el ángulo necesario para alcanzar un objetivo a una distancia $d$, cuando lanzamos el proyectil con velocidad $v$. Para esto, hay que encontrar la raiz de la ecuación anterior, es decir, el valor $d$ tal que $h(d)=0$."
   ]
  },
  {
   "cell_type": "markdown",
   "metadata": {},
   "source": [
    "# Probar el módelo"
   ]
  },
  {
   "cell_type": "markdown",
   "metadata": {},
   "source": [
    "Define tus parámetros"
   ]
  },
  {
   "cell_type": "code",
   "execution_count": 34,
   "metadata": {},
   "outputs": [],
   "source": [
    "g = 9.8\n",
    "theta = 1\n",
    "v = 3.5"
   ]
  },
  {
   "cell_type": "markdown",
   "metadata": {},
   "source": [
    "Prueba el disparo"
   ]
  },
  {
   "cell_type": "code",
   "execution_count": 35,
   "metadata": {},
   "outputs": [
    {
     "name": "stdout",
     "output_type": "stream",
     "text": [
      "El disparo alcanzó la distancia 1.1354631476671357 m en 0.6004380115856549 segundos\n"
     ]
    },
    {
     "data": {
      "image/png": "[encoded data removed]",
      "text/plain": [
       "<Figure size 504x360 with 1 Axes>"
      ]
     },
     "metadata": {
      "needs_background": "light"
     },
     "output_type": "display_data"
    }
   ],
   "source": [
    "disparo = Shoot(v,theta)\n",
    "print(f\"El disparo alcanzó la distancia {disparo.distancia} m en {disparo.t_final} segundos\")\n",
    "disparo.graficar()"
   ]
  },
  {
   "cell_type": "code",
   "execution_count": null,
   "metadata": {},
   "outputs": [],
   "source": []
  }
 ],
 "metadata": {
  "kernelspec": {
   "display_name": "Python 3",
   "language": "python",
   "name": "python3"
  },
  "language_info": {
   "codemirror_mode": {
    "name": "ipython",
    "version": 3
   },
   "file_extension": ".py",
   "mimetype": "text/x-python",
   "name": "python",
   "nbconvert_exporter": "python",
   "pygments_lexer": "ipython3",
   "version": "3.8.10"
  },
  "orig_nbformat": 4
 },
 "nbformat": 4,
 "nbformat_minor": 2
}

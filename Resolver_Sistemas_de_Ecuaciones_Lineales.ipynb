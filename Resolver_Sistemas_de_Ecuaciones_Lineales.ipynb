{
  "nbformat": 4,
  "nbformat_minor": 0,
  "metadata": {
    "colab": {
      "provenance": [],
      "authorship_tag": "ABX9TyMkk/7R1mAc6bdp9sGUjU4Q",
      "include_colab_link": true
    },
    "kernelspec": {
      "name": "python3",
      "display_name": "Python 3"
    },
    "language_info": {
      "name": "python"
    }
  },
  "cells": [
    {
      "cell_type": "markdown",
      "metadata": {
        "id": "view-in-github",
        "colab_type": "text"
      },
      "source": [
        "<a href=\"https://colab.research.google.com/github/gmauricio-toledo/MetodosNumericos/blob/main/Resolver_Sistemas_de_Ecuaciones_Lineales.ipynb\" target=\"_parent\"><img src=\"https://colab.research.google.com/assets/colab-badge.svg\" alt=\"Open In Colab\"/></a>"
      ]
    },
    {
      "cell_type": "markdown",
      "source": [
        "0. Importamos los módulos necesarios"
      ],
      "metadata": {
        "id": "MNmEEOFrcySc"
      }
    },
    {
      "cell_type": "code",
      "source": [
        "import numpy as np"
      ],
      "metadata": {
        "id": "teFraTlQcyxu"
      },
      "execution_count": 1,
      "outputs": []
    },
    {
      "cell_type": "markdown",
      "source": [
        "1. Definimos la matriz de coeficientes. En este ejemplo,\n",
        "\n",
        "$$A = \\left(\\begin{array}{ccc}\n",
        "8 & 7 & 9 \\\\\n",
        "-2 & -4 & -9 \\\\\n",
        "-4 & -1 & -3 \\\\\n",
        "\\end{array}\\right),\n",
        "b= \\left(\\begin{array}{c}\n",
        "-3 \\\\\n",
        "3 \\\\\n",
        "5 \\\\\n",
        "\\end{array}\\right)$$"
      ],
      "metadata": {
        "id": "cqqGGFhactlS"
      }
    },
    {
      "cell_type": "code",
      "execution_count": 2,
      "metadata": {
        "id": "U8lKPObecqT5"
      },
      "outputs": [],
      "source": [
        "A = np.array([[8,7,9],[-2,-4,-9],[-4,-1,-3]])\n",
        "b = np.array([-3,3,5])"
      ]
    },
    {
      "cell_type": "markdown",
      "source": [
        "2. Resolvemos el sistema"
      ],
      "metadata": {
        "id": "BwOGfdewdr2q"
      }
    },
    {
      "cell_type": "code",
      "source": [
        "x = np.linalg.solve(A,b)\n",
        "\n",
        "print(f\"Solución:\\n{x}\")"
      ],
      "metadata": {
        "colab": {
          "base_uri": "https://localhost:8080/"
        },
        "id": "AG_zbE1ndI2Y",
        "outputId": "9d0c5277-7a22-429a-b405-026dacf5b10f"
      },
      "execution_count": 4,
      "outputs": [
        {
          "output_type": "stream",
          "name": "stdout",
          "text": [
            "Solución:\n",
            "[-1.  2. -1.]\n"
          ]
        }
      ]
    },
    {
      "cell_type": "code",
      "source": [],
      "metadata": {
        "id": "vyFPY1xZdprd"
      },
      "execution_count": null,
      "outputs": []
    }
  ]
}
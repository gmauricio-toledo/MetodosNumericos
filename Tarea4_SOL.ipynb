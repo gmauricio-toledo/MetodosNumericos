{
  "nbformat": 4,
  "nbformat_minor": 0,
  "metadata": {
    "colab": {
      "provenance": [],
      "authorship_tag": "ABX9TyMw6feItgKYgRBfLi9+/HGa",
      "include_colab_link": true
    },
    "kernelspec": {
      "name": "python3",
      "display_name": "Python 3"
    },
    "language_info": {
      "name": "python"
    }
  },
  "cells": [
    {
      "cell_type": "markdown",
      "metadata": {
        "id": "view-in-github",
        "colab_type": "text"
      },
      "source": [
        "<a href=\"https://colab.research.google.com/github/gmauricio-toledo/MetodosNumericos/blob/main/Tarea4_SOL.ipynb\" target=\"_parent\"><img src=\"https://colab.research.google.com/assets/colab-badge.svg\" alt=\"Open In Colab\"/></a>"
      ]
    },
    {
      "cell_type": "markdown",
      "source": [
        "**<h1>Tarea 4</h1>**\n",
        "\n",
        "<h3>Solución</h3>"
      ],
      "metadata": {
        "id": "0H94sFnCkJnU"
      }
    },
    {
      "cell_type": "markdown",
      "source": [
        "Definimos la función que realiza la eliminación Gaussiana. Esta función recibe una matriz aumentada de tamaño $n× (n+1)$.\n",
        "\n",
        "La función también recibe un argumento booleano `resultados_parciales`, el cual por defecto (es decir, si no se especifica) toma el valor `False`. Si este argumento es `True`, la función va imprimiendo los pasos intermedios en el procedimiento de la triangularización superior."
      ],
      "metadata": {
        "id": "zCYTUPoJi3Fd"
      }
    },
    {
      "cell_type": "code",
      "execution_count": null,
      "metadata": {
        "id": "ilfwwTtvis-j"
      },
      "outputs": [],
      "source": [
        "import numpy as np\n",
        "\n",
        "def eliminacion_gaussiana(A,resultados_parciales=False):\n",
        "    if resultados_parciales: print(\"Inicial:\\n\", A)\n",
        "    n = A.shape[0]\n",
        "    for k in range(n-1):\n",
        "        for i in range(k+1,n):\n",
        "            ratio = A[i,k]/A[k,k]\n",
        "            A[i] = A[i]-ratio*A[k]\n",
        "            if resultados_parciales: print(A)\n",
        "    if resultados_parciales: print(\"Forward elimination:\\n\",A)\n",
        "    #--- SUSTITUCIÓN HACIA ATRÁS ---\n",
        "    variables = A[:,n]\n",
        "    for k in reversed(range(n)):\n",
        "        for j in range(k+1,n):\n",
        "            variables[k] = variables[k] - A[k,j]*variables[j]\n",
        "        variables[k] = variables[k]/A[k,k]\n",
        "    print(\"Valor de las variables:\\n\",variables) # Imprimimos las variables\n",
        "    return variables"
      ]
    },
    {
      "cell_type": "markdown",
      "source": [
        "# Ejercicio 1"
      ],
      "metadata": {
        "id": "X7-Mg-P5kp7j"
      }
    },
    {
      "cell_type": "markdown",
      "source": [
        "Definimos la matriz de coeficientes y el vector con los lados derechos de cada ecuación."
      ],
      "metadata": {
        "id": "7Cs8EYaLGrWt"
      }
    },
    {
      "cell_type": "code",
      "source": [
        "A1 = np.array([[3,2,-2,5],[1,-1,3,4],[2,3,1,-1],[1,-3,4,1]],dtype=float)\n",
        "b1 = np.array([5,-3,-2,4],dtype=float)\n",
        "\n",
        "print(A1)\n",
        "print(b1)"
      ],
      "metadata": {
        "colab": {
          "base_uri": "https://localhost:8080/"
        },
        "id": "RLkwsCFbkpoA",
        "outputId": "85a8e06c-59b3-405a-c5be-41dd77584e69"
      },
      "execution_count": null,
      "outputs": [
        {
          "output_type": "stream",
          "name": "stdout",
          "text": [
            "[[ 3.  2. -2.  5.]\n",
            " [ 1. -1.  3.  4.]\n",
            " [ 2.  3.  1. -1.]\n",
            " [ 1. -3.  4.  1.]]\n",
            "[ 5. -3. -2.  4.]\n"
          ]
        }
      ]
    },
    {
      "cell_type": "markdown",
      "source": [
        "Juntamos la matriz $A$ y el vector $b$ en una sola matriz aumentada, para esto usamos el método [hstack](https://numpy.org/doc/stable/reference/generated/numpy.hstack.html) de numpy."
      ],
      "metadata": {
        "id": "GllEAcwhGwpg"
      }
    },
    {
      "cell_type": "code",
      "source": [
        "matriz_aumentada_1 = np.hstack((A1,b1.reshape(-1,1)))\n",
        "print(matriz_aumentada_1)"
      ],
      "metadata": {
        "colab": {
          "base_uri": "https://localhost:8080/"
        },
        "id": "6xtClCSHk8Vq",
        "outputId": "af33acab-2119-41d9-f951-a28e8c3071a8"
      },
      "execution_count": null,
      "outputs": [
        {
          "output_type": "stream",
          "name": "stdout",
          "text": [
            "[[ 3.  2. -2.  5.  5.]\n",
            " [ 1. -1.  3.  4. -3.]\n",
            " [ 2.  3.  1. -1. -2.]\n",
            " [ 1. -3.  4.  1.  4.]]\n"
          ]
        }
      ]
    },
    {
      "cell_type": "markdown",
      "source": [
        "Calculamos la solución del sistema usando la función que realiza la eliminación Gaussiana."
      ],
      "metadata": {
        "id": "uqtT2qYNHFrF"
      }
    },
    {
      "cell_type": "code",
      "source": [
        "solucion = eliminacion_gaussiana(matriz_aumentada_1)"
      ],
      "metadata": {
        "colab": {
          "base_uri": "https://localhost:8080/"
        },
        "id": "_fSNU7-QmF2T",
        "outputId": "11d24051-fb08-4c93-f678-74bd36115616"
      },
      "execution_count": null,
      "outputs": [
        {
          "output_type": "stream",
          "name": "stdout",
          "text": [
            "Valor de las variables:\n",
            " [ 4. -3. -2. -1.]\n"
          ]
        }
      ]
    },
    {
      "cell_type": "markdown",
      "source": [
        "# Ejercicio 2"
      ],
      "metadata": {
        "id": "-HroWvLbmVzf"
      }
    },
    {
      "cell_type": "markdown",
      "source": [
        "Para este ejercicio 2 usamos los mismos pasos del ejercicio 1."
      ],
      "metadata": {
        "id": "Tb7xCHRwHPsT"
      }
    },
    {
      "cell_type": "code",
      "source": [
        "A2 = np.array([[3,2,1,-3,5],[1,4,2,3,0],[-1,0,4,-1,1],[2,-2,1,-1,0],[3,1,1,7,-5]],dtype=float)\n",
        "b2 = np.array([23,27,12,-3,11],dtype=float)\n",
        "\n",
        "print(A2)\n",
        "print(b2)"
      ],
      "metadata": {
        "colab": {
          "base_uri": "https://localhost:8080/"
        },
        "id": "TcJQHt1zmJwA",
        "outputId": "6df297cd-b6b7-47d7-970c-604238f1f05e"
      },
      "execution_count": null,
      "outputs": [
        {
          "output_type": "stream",
          "name": "stdout",
          "text": [
            "[[ 3.  2.  1. -3.  5.]\n",
            " [ 1.  4.  2.  3.  0.]\n",
            " [-1.  0.  4. -1.  1.]\n",
            " [ 2. -2.  1. -1.  0.]\n",
            " [ 3.  1.  1.  7. -5.]]\n",
            "[23. 27. 12. -3. 11.]\n"
          ]
        }
      ]
    },
    {
      "cell_type": "code",
      "source": [
        "matriz_aumentada_2 = np.hstack((A2,b2.reshape(-1,1)))\n",
        "print(f\"Matriz aumentada del sistema:\\n{matriz_aumentada_2}\")"
      ],
      "metadata": {
        "colab": {
          "base_uri": "https://localhost:8080/"
        },
        "id": "_MxiTpRomtl3",
        "outputId": "edddb053-7aa6-4230-d4a9-f736357f7f25"
      },
      "execution_count": null,
      "outputs": [
        {
          "output_type": "stream",
          "name": "stdout",
          "text": [
            "Matriz aumentada del sistema:\n",
            "[[ 3.  2.  1. -3.  5. 23.]\n",
            " [ 1.  4.  2.  3.  0. 27.]\n",
            " [-1.  0.  4. -1.  1. 12.]\n",
            " [ 2. -2.  1. -1.  0. -3.]\n",
            " [ 3.  1.  1.  7. -5. 11.]]\n"
          ]
        }
      ]
    },
    {
      "cell_type": "code",
      "source": [
        "solucion = eliminacion_gaussiana(matriz_aumentada_2)"
      ],
      "metadata": {
        "colab": {
          "base_uri": "https://localhost:8080/"
        },
        "id": "E6jEEAQJmvgn",
        "outputId": "4af98815-24ed-489a-c4ee-fba43ff59cf4"
      },
      "execution_count": null,
      "outputs": [
        {
          "output_type": "stream",
          "name": "stdout",
          "text": [
            "Valor de las variables:\n",
            " [1. 2. 3. 4. 5.]\n"
          ]
        }
      ]
    },
    {
      "cell_type": "markdown",
      "source": [
        "# Ejercicio 3"
      ],
      "metadata": {
        "id": "92rjF_8unEic"
      }
    },
    {
      "cell_type": "markdown",
      "source": [
        "Ahora comprobamos nuestras soluciones con las soluciones proporcionadas por el método [solve](https://numpy.org/doc/stable/reference/generated/numpy.linalg.solve.html) de numpy."
      ],
      "metadata": {
        "id": "kMEtIBihHbAJ"
      }
    },
    {
      "cell_type": "markdown",
      "source": [
        "Ejercicio 1:"
      ],
      "metadata": {
        "id": "8kmW76lxnYXb"
      }
    },
    {
      "cell_type": "code",
      "source": [
        "x = np.linalg.solve(A1,b1)\n",
        "\n",
        "print(f\"Solución:\\n{x}\")"
      ],
      "metadata": {
        "colab": {
          "base_uri": "https://localhost:8080/"
        },
        "id": "vH3wk6hwmxg7",
        "outputId": "4fce11dd-f73e-417b-d89e-90ffe760bf72"
      },
      "execution_count": null,
      "outputs": [
        {
          "output_type": "stream",
          "name": "stdout",
          "text": [
            "Solución:\n",
            "[ 4. -3. -2. -1.]\n"
          ]
        }
      ]
    },
    {
      "cell_type": "markdown",
      "source": [
        "Ejercicio 2:"
      ],
      "metadata": {
        "id": "v4gElHQooxnp"
      }
    },
    {
      "cell_type": "code",
      "source": [
        "x = np.linalg.solve(A2,b2)\n",
        "\n",
        "print(f\"Solución:\\n{x}\")"
      ],
      "metadata": {
        "colab": {
          "base_uri": "https://localhost:8080/"
        },
        "id": "nPkuY0IEnbux",
        "outputId": "36b95b8d-480f-41c2-9c16-3c19199d66d9"
      },
      "execution_count": null,
      "outputs": [
        {
          "output_type": "stream",
          "name": "stdout",
          "text": [
            "Solución:\n",
            "[1. 2. 3. 4. 5.]\n"
          ]
        }
      ]
    },
    {
      "cell_type": "code",
      "source": [],
      "metadata": {
        "id": "v01zjXY9nhC_"
      },
      "execution_count": null,
      "outputs": []
    }
  ]
}
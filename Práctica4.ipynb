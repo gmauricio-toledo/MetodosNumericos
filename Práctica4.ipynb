{
 "cells": [
  {
   "cell_type": "code",
   "execution_count": 1,
   "metadata": {},
   "outputs": [],
   "source": [
    "import numpy as np\n",
    "\n",
    "def runge_kutta_vectorial(f,a,b,h,y0):\n",
    "    '''\n",
    "    Función que implementa el método de Runge-Kutta para resolver \n",
    "    sistemas de EDO\n",
    "    '''\n",
    "    n_eqs = y0.shape[0]\n",
    "    n = int((b-a)/h)\n",
    "    xs = np.linspace(a,b,n+1)  # variables independientes\n",
    "    ys = np.zeros(shape=(n_eqs,xs.shape[0]))\n",
    "    ys[:,0] = y0\n",
    "    for j in range(1,n+1):\n",
    "        k1 = f(xs[j-1],ys[:,j-1])\n",
    "        k2 = f(xs[j-1]+0.5*h,ys[:,j-1]+0.5*k1*h)\n",
    "        k3 = f(xs[j-1]+h,ys[:,j-1]-k1*h + 2*k2*h)\n",
    "        ys[:,j] = ys[:,j-1] + (1/6)*(k1 + 4*k2+k3)*h\n",
    "    return xs,ys"
   ]
  },
  {
   "cell_type": "markdown",
   "metadata": {},
   "source": [
    "# 1. Ecuación de Lotka-Volterra"
   ]
  },
  {
   "cell_type": "code",
   "execution_count": null,
   "metadata": {},
   "outputs": [],
   "source": []
  }
 ],
 "metadata": {
  "kernelspec": {
   "display_name": "Python 3",
   "language": "python",
   "name": "python3"
  },
  "language_info": {
   "codemirror_mode": {
    "name": "ipython",
    "version": 3
   },
   "file_extension": ".py",
   "mimetype": "text/x-python",
   "name": "python",
   "nbconvert_exporter": "python",
   "pygments_lexer": "ipython3",
   "version": "3.8.10"
  }
 },
 "nbformat": 4,
 "nbformat_minor": 2
}

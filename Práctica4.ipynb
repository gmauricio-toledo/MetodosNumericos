{
  "cells": [
    {
      "cell_type": "markdown",
      "metadata": {
        "id": "view-in-github",
        "colab_type": "text"
      },
      "source": [
        "<a href=\"https://colab.research.google.com/github/gmauricio-toledo/MetodosNumericos/blob/main/Pr%C3%A1ctica4.ipynb\" target=\"_parent\"><img src=\"https://colab.research.google.com/assets/colab-badge.svg\" alt=\"Open In Colab\"/></a>"
      ]
    },
    {
      "cell_type": "code",
      "execution_count": null,
      "metadata": {
        "id": "0a7gc8_JWB-g"
      },
      "outputs": [],
      "source": [
        "import numpy as np\n",
        "\n",
        "def runge_kutta_vectorial(f,a,b,h,y0):\n",
        "    '''\n",
        "    Función que implementa el método de Runge-Kutta para resolver\n",
        "    sistemas de EDO\n",
        "    '''\n",
        "    n_eqs = y0.shape[0]\n",
        "    n = int((b-a)/h)\n",
        "    xs = np.linspace(a,b,n+1)  # variables independientes\n",
        "    ys = np.zeros(shape=(n_eqs,xs.shape[0]))\n",
        "    ys[:,0] = y0\n",
        "    for j in range(1,n+1):\n",
        "        k1 = f(xs[j-1],ys[:,j-1])\n",
        "        k2 = f(xs[j-1]+0.5*h,ys[:,j-1]+0.5*k1*h)\n",
        "        k3 = f(xs[j-1]+h,ys[:,j-1]-k1*h + 2*k2*h)\n",
        "        ys[:,j] = ys[:,j-1] + (1/6)*(k1 + 4*k2+k3)*h\n",
        "    return xs,ys"
      ]
    },
    {
      "cell_type": "code",
      "execution_count": null,
      "metadata": {
        "id": "ofJ54zkUWB-k"
      },
      "outputs": [],
      "source": [
        "import matplotlib.pyplot as plt\n",
        "\n",
        "def graficar(X,Y,labels=None):\n",
        "    n_eqs = Y.shape[0]\n",
        "    plt.figure()\n",
        "    for j in range(n_eqs):\n",
        "        if labels is not None:\n",
        "            label = labels[j]\n",
        "        else:\n",
        "            label = f\"variable {str(j+1)}\"\n",
        "        plt.plot(X,Y[j,:],label=label)\n",
        "    plt.legend(loc='best')\n",
        "    plt.show()"
      ]
    },
    {
      "cell_type": "code",
      "execution_count": null,
      "metadata": {
        "id": "OFmIrtZsWB-l"
      },
      "outputs": [],
      "source": [
        "def F(x,ys):\n",
        "    '''\n",
        "    Función del sistema de EDO\n",
        "    x:  variable independiente\n",
        "    y:  vector de variables dependientes\n",
        "    '''\n",
        "    ...\n",
        "    return np.array([funcion_1, funcion_2 ])"
      ]
    },
    {
      "cell_type": "markdown",
      "metadata": {
        "id": "Yss8wgboWB-n"
      },
      "source": [
        "# 1. Ecuación de Lotka-Volterra"
      ]
    },
    {
      "cell_type": "markdown",
      "metadata": {
        "id": "4KoQm2qxWB-p"
      },
      "source": [
        "Estas ecuaciones describen la dinámica de sistemas biológicos donde dos especies interactuan, una como depredador $y$ y otra como presa $x$. Su población cambia en el tiempo de acuerdo a las ecuaciones:\n",
        "\n",
        "$$\\frac{dx}{dt} = \\alpha x - \\beta xy$$\n",
        "$$\\frac{dy}{dt} = \\delta xy - \\gamma y$$\n",
        "\n",
        "donde\n",
        "\n",
        "* $\\alpha$: taza de reproducción de las presas\n",
        "* $\\beta$: taza con que los depredadores consumen a las presas\n",
        "* $\\gamma$: taza de reproducción de los depredadores\n",
        "* $\\delta$: taza con que las presas contribuyen, como alimento, al crecimiento de la población de depredadores."
      ]
    },
    {
      "cell_type": "markdown",
      "metadata": {
        "id": "X-r4OzeTWB-q"
      },
      "source": [
        "**1. Define la función $F$ que describe este sistema de ecuaciones** Considera los parámetros\n",
        "\n",
        "* $\\alpha=0.5$\n",
        "* $\\beta=1$\n",
        "* $\\gamma = 1$\n",
        "* $\\delta=0.5$"
      ]
    },
    {
      "cell_type": "code",
      "execution_count": null,
      "metadata": {
        "id": "ASKWu_p5WB-q"
      },
      "outputs": [],
      "source": [
        "import numpy as np\n",
        "\n",
        "def F(t,ys):\n",
        "    ..."
      ]
    },
    {
      "cell_type": "markdown",
      "metadata": {
        "id": "WsJvyxfKWB-r"
      },
      "source": [
        "**2(a). Define condiciones iniciales de manera que la población de presas no baje de 1**"
      ]
    },
    {
      "cell_type": "code",
      "execution_count": null,
      "metadata": {
        "id": "NKuWN7ZaWB-s"
      },
      "outputs": [],
      "source": [
        "condicion_inicial = np.array([...])"
      ]
    },
    {
      "cell_type": "markdown",
      "metadata": {
        "id": "xjMrn-oTWB-u"
      },
      "source": [
        "Resuelve y grafica para verificar"
      ]
    },
    {
      "cell_type": "code",
      "execution_count": null,
      "metadata": {
        "id": "uu9CeCgZWB-v"
      },
      "outputs": [],
      "source": [
        "X, Y = runge_kutta_vectorial(f=F,a=0,b=25,h=,y0=condicion_inicial)\n",
        "graficar(X,Y,\n",
        "         labels=['presas','depredadores'])"
      ]
    },
    {
      "cell_type": "markdown",
      "metadata": {
        "id": "25VZ1hT1WB-x"
      },
      "source": [
        "**2(c). Define condiciones iniciales de manera que las población de presas revase en algún momento 5**"
      ]
    },
    {
      "cell_type": "code",
      "execution_count": null,
      "metadata": {
        "id": "xhR-6Cs2WB-x"
      },
      "outputs": [],
      "source": [
        "condicion_inicial = np.array([...])"
      ]
    },
    {
      "cell_type": "markdown",
      "metadata": {
        "id": "MJXnKJU_WB-y"
      },
      "source": [
        "Resuelve y grafica para verificar"
      ]
    },
    {
      "cell_type": "code",
      "execution_count": null,
      "metadata": {
        "id": "xfVYAK0nWB-y"
      },
      "outputs": [],
      "source": [
        "X, Y = runge_kutta_vectorial(f=F,a=0,b=25,h=,y0=condicion_inicial)\n",
        "graficar(X,Y,\n",
        "         labels=['presas','depredadores'])"
      ]
    },
    {
      "cell_type": "markdown",
      "metadata": {
        "id": "xZo_ZraTWB-z"
      },
      "source": [
        "**3. Cambia las tazas de reproducción $\\alpha$ y $\\beta$ de manera que la población de presas crezca cada vez más** La condición inicial ahora será fija\n",
        "\n",
        "$(x_0,y_0)=(1,1)$"
      ]
    },
    {
      "cell_type": "code",
      "execution_count": null,
      "metadata": {
        "id": "S_v_W1OEWB-z"
      },
      "outputs": [],
      "source": []
    },
    {
      "cell_type": "code",
      "execution_count": null,
      "metadata": {
        "id": "dA4R4auWWB-z",
        "outputId": "b6337ecb-eb5a-47ec-9bc9-25205c4ff252"
      },
      "outputs": [
        {
          "data": {
            "image/png": "[encoded data removed]",
            "text/plain": [
              "<Figure size 432x288 with 1 Axes>"
            ]
          },
          "metadata": {
            "needs_background": "light"
          },
          "output_type": "display_data"
        }
      ],
      "source": [
        "X, Y = runge_kutta_vectorial(f=F,a=0,b=25,h=,y0=condicion_inicial)\n",
        "graficar(X,Y,\n",
        "         labels=['presas','depredadores'])"
      ]
    },
    {
      "cell_type": "markdown",
      "metadata": {
        "id": "L9tGJc4zWB-0"
      },
      "source": []
    }
  ],
  "metadata": {
    "kernelspec": {
      "display_name": "Python 3",
      "language": "python",
      "name": "python3"
    },
    "language_info": {
      "codemirror_mode": {
        "name": "ipython",
        "version": 3
      },
      "file_extension": ".py",
      "mimetype": "text/x-python",
      "name": "python",
      "nbconvert_exporter": "python",
      "pygments_lexer": "ipython3",
      "version": "3.8.10"
    },
    "colab": {
      "provenance": [],
      "include_colab_link": true
    }
  },
  "nbformat": 4,
  "nbformat_minor": 0
}
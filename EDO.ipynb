{
  "cells": [
    {
      "cell_type": "markdown",
      "metadata": {
        "colab_type": "text",
        "id": "view-in-github"
      },
      "source": [
        "<a href=\"https://colab.research.google.com/github/gmauricio-toledo/MetodosNumericos/blob/main/EDO.ipynb\" target=\"_parent\"><img src=\"https://colab.research.google.com/assets/colab-badge.svg\" alt=\"Open In Colab\"/></a>"
      ]
    },
    {
      "cell_type": "markdown",
      "metadata": {
        "id": "hC6f881iK7kD"
      },
      "source": [
        "# El método de Heun"
      ]
    },
    {
      "cell_type": "code",
      "execution_count": 14,
      "metadata": {
        "id": "lej0NAYiJqMm"
      },
      "outputs": [],
      "source": [
        "import numpy as np\n",
        "\n",
        "def f(x,y):\n",
        "    return (1+4*x)*np.sqrt(y)\n",
        "\n",
        "def sol(x):\n",
        "    return 0.25*(x+2*x**2+2)**2\n",
        "\n",
        "def error_relativo(valor_real,valor_aproximado):\n",
        "    return np.abs((valor_real-valor_aproximado)/valor_real)"
      ]
    },
    {
      "cell_type": "code",
      "execution_count": 15,
      "metadata": {
        "id": "xpg-aqCDJxEN"
      },
      "outputs": [],
      "source": [
        "def heun(a,b,y0,f,h,sol):\n",
        "    n = int((b-a)/h)\n",
        "    xs = np.linspace(a,b,n+1)\n",
        "    ys = np.zeros_like(xs)\n",
        "    ys[0] = y0\n",
        "    for j in range(1,n+1):\n",
        "        predictor = ys[j-1] + h*f(xs[j-1],ys[j-1])\n",
        "        ys[j] = ys[j-1] + h*(f(xs[j-1],ys[j-1])+f(xs[j],predictor))/2\n",
        "    valores_reales = np.array([sol(x) for x in xs])\n",
        "    errores = error_relativo(valores_reales,ys)    \n",
        "    return {'xs': xs,\n",
        "            'ys': ys,\n",
        "            'y_reales': valores_reales,\n",
        "            'errores': errores}"
      ]
    },
    {
      "cell_type": "code",
      "execution_count": 16,
      "metadata": {},
      "outputs": [
        {
          "name": "stdout",
          "output_type": "stream",
          "text": [
            "{'xs': array([0.  , 0.01, 0.02, 0.03, 0.04, 0.05, 0.06, 0.07, 0.08, 0.09, 0.1 ,\n",
            "       0.11, 0.12, 0.13, 0.14, 0.15, 0.16, 0.17, 0.18, 0.19, 0.2 , 0.21,\n",
            "       0.22, 0.23, 0.24, 0.25, 0.26, 0.27, 0.28, 0.29, 0.3 , 0.31, 0.32,\n",
            "       0.33, 0.34, 0.35, 0.36, 0.37, 0.38, 0.39, 0.4 , 0.41, 0.42, 0.43,\n",
            "       0.44, 0.45, 0.46, 0.47, 0.48, 0.49, 0.5 , 0.51, 0.52, 0.53, 0.54,\n",
            "       0.55, 0.56, 0.57, 0.58, 0.59, 0.6 , 0.61, 0.62, 0.63, 0.64, 0.65,\n",
            "       0.66, 0.67, 0.68, 0.69, 0.7 , 0.71, 0.72, 0.73, 0.74, 0.75, 0.76,\n",
            "       0.77, 0.78, 0.79, 0.8 , 0.81, 0.82, 0.83, 0.84, 0.85, 0.86, 0.87,\n",
            "       0.88, 0.89, 0.9 , 0.91, 0.92, 0.93, 0.94, 0.95, 0.96, 0.97, 0.98,\n",
            "       0.99, 1.  ]), 'ys': array([1.        , 1.01022594, 1.020908  , 1.03205256, 1.04366621,\n",
            "       1.05575579, 1.06832838, 1.0813913 , 1.0949521 , 1.1090186 ,\n",
            "       1.12359882, 1.13870105, 1.1543338 , 1.17050583, 1.18722616,\n",
            "       1.204504  , 1.22234885, 1.24077041, 1.25977866, 1.27938379,\n",
            "       1.29959624, 1.32042668, 1.34188605, 1.36398549, 1.3867364 ,\n",
            "       1.41015043, 1.43423946, 1.45901559, 1.4844912 , 1.51067889,\n",
            "       1.53759148, 1.56524206, 1.59364395, 1.62281071, 1.65275614,\n",
            "       1.68349427, 1.71503939, 1.74740601, 1.78060889, 1.81466304,\n",
            "       1.84958369, 1.88538632, 1.92208665, 1.95970064, 1.99824449,\n",
            "       2.03773463, 2.07818775, 2.11962077, 2.16205084, 2.20549537,\n",
            "       2.24997198, 2.29549857, 2.34209325, 2.38977438, 2.43856056,\n",
            "       2.48847063, 2.53952367, 2.59173899, 2.64513615, 2.69973497,\n",
            "       2.75555546, 2.81261792, 2.87094286, 2.93055105, 2.99146347,\n",
            "       3.05370137, 3.11728623, 3.18223977, 3.24858395, 3.31634096,\n",
            "       3.38553325, 3.45618349, 3.52831461, 3.60194976, 3.67711234,\n",
            "       3.75382599, 3.8321146 , 3.91200227, 3.99351337, 4.0766725 ,\n",
            "       4.1615045 , 4.24803444, 4.33628765, 4.42628969, 4.51806635,\n",
            "       4.61164367, 4.70704793, 4.80430566, 4.90344361, 5.00448878,\n",
            "       5.10746841, 5.21240997, 5.3193412 , 5.42829004, 5.5392847 ,\n",
            "       5.65235362, 5.76752547, 5.88482917, 6.00429389, 6.12594902,\n",
            "       6.24982421]), 'y_reales': array([1.        , 1.01022601, 1.02090816, 1.03205281, 1.04366656,\n",
            "       1.05575625, 1.06832896, 1.08139201, 1.09495296, 1.10901961,\n",
            "       1.1236    , 1.13870241, 1.15433536, 1.17050761, 1.18722816,\n",
            "       1.20450625, 1.22235136, 1.24077321, 1.25978176, 1.27938721,\n",
            "       1.2996    , 1.32043081, 1.34189056, 1.36399041, 1.38674176,\n",
            "       1.41015625, 1.43424576, 1.45902241, 1.48449856, 1.51068681,\n",
            "       1.5376    , 1.56525121, 1.59365376, 1.62282121, 1.65276736,\n",
            "       1.68350625, 1.71505216, 1.74741961, 1.78062336, 1.81467841,\n",
            "       1.8496    , 1.88540361, 1.92210496, 1.95972001, 1.99826496,\n",
            "       2.03775625, 2.07821056, 2.11964481, 2.16207616, 2.20552201,\n",
            "       2.25      , 2.29552801, 2.34212416, 2.38980681, 2.43859456,\n",
            "       2.48850625, 2.53956096, 2.59177801, 2.64517696, 2.69977761,\n",
            "       2.7556    , 2.81266441, 2.87099136, 2.93060161, 2.99151616,\n",
            "       3.05375625, 3.11734336, 3.18229921, 3.24864576, 3.31640521,\n",
            "       3.3856    , 3.45625281, 3.52838656, 3.60202441, 3.67718976,\n",
            "       3.75390625, 3.83219776, 3.91208841, 3.99360256, 4.07676481,\n",
            "       4.1616    , 4.24813321, 4.33638976, 4.42639521, 4.51817536,\n",
            "       4.61175625, 4.70716416, 4.80442561, 4.90356736, 5.00461641,\n",
            "       5.1076    , 5.21254561, 5.31948096, 5.42843401, 5.53943296,\n",
            "       5.65250625, 5.76768256, 5.88499081, 6.00446016, 6.12612001,\n",
            "       6.25      ]), 'errores': array([0.00000000e+00, 7.39210996e-08, 1.54112748e-07, 2.40850077e-07,\n",
            "       3.34393401e-07, 4.34986849e-07, 5.42857127e-07, 6.58212426e-07,\n",
            "       7.81241466e-07, 9.12112686e-07, 1.05097358e-06, 1.19795017e-06,\n",
            "       1.35314662e-06, 1.51664500e-06, 1.68850515e-06, 1.86876470e-06,\n",
            "       2.05743921e-06, 2.25452238e-06, 2.45998644e-06, 2.67378260e-06,\n",
            "       2.89584155e-06, 3.12607412e-06, 3.36437198e-06, 3.61060841e-06,\n",
            "       3.86463909e-06, 4.12630303e-06, 4.39542347e-06, 4.67180880e-06,\n",
            "       4.95525362e-06, 5.24553965e-06, 5.54243683e-06, 5.84570429e-06,\n",
            "       6.15509140e-06, 6.47033879e-06, 6.79117935e-06, 7.11733922e-06,\n",
            "       7.44853878e-06, 7.78449362e-06, 8.12491543e-06, 8.46951293e-06,\n",
            "       8.81799272e-06, 9.17006011e-06, 9.52541995e-06, 9.88377733e-06,\n",
            "       1.02448384e-05, 1.06083108e-05, 1.09739048e-05, 1.13413332e-05,\n",
            "       1.17103127e-05, 1.20805636e-05, 1.24518109e-05, 1.28237844e-05,\n",
            "       1.31962194e-05, 1.35688566e-05, 1.39414430e-05, 1.43137315e-05,\n",
            "       1.46854820e-05, 1.50564608e-05, 1.54264414e-05, 1.57952044e-05,\n",
            "       1.61625376e-05, 1.65282361e-05, 1.68921026e-05, 1.72539472e-05,\n",
            "       1.76135875e-05, 1.79708488e-05, 1.83255638e-05, 1.86775727e-05,\n",
            "       1.90267233e-05, 1.93728706e-05, 1.97158771e-05, 2.00556123e-05,\n",
            "       2.03919532e-05, 2.07247836e-05, 2.10539941e-05, 2.13794821e-05,\n",
            "       2.17011520e-05, 2.20189141e-05, 2.23326855e-05, 2.26423892e-05,\n",
            "       2.29479544e-05, 2.32493160e-05, 2.35464146e-05, 2.38391965e-05,\n",
            "       2.41276130e-05, 2.44116209e-05, 2.46911819e-05, 2.49662624e-05,\n",
            "       2.52368335e-05, 2.55028710e-05, 2.57643546e-05, 2.60212687e-05,\n",
            "       2.62736011e-05, 2.65213437e-05, 2.67644922e-05, 2.70030456e-05,\n",
            "       2.72370062e-05, 2.74663796e-05, 2.76911744e-05, 2.79114022e-05,\n",
            "       2.81270771e-05])}\n"
          ]
        }
      ],
      "source": [
        "solucion = heun(0,1,1,f,0.01,sol)\n",
        "print(solucion)"
      ]
    },
    {
      "cell_type": "code",
      "execution_count": 8,
      "metadata": {},
      "outputs": [
        {
          "data": {
            "text/plain": [
              "array([0.  , 0.25, 0.5 , 0.75, 1.  ])"
            ]
          },
          "execution_count": 8,
          "metadata": {},
          "output_type": "execute_result"
        }
      ],
      "source": [
        "solucion['xs']"
      ]
    },
    {
      "cell_type": "code",
      "execution_count": 13,
      "metadata": {},
      "outputs": [
        {
          "data": {
            "image/png": "[encoded data removed]",
            "text/plain": [
              "<Figure size 432x288 with 1 Axes>"
            ]
          },
          "metadata": {
            "needs_background": "light"
          },
          "output_type": "display_data"
        }
      ],
      "source": [
        "import matplotlib.pyplot as plt\n",
        "\n",
        "plt.figure()\n",
        "plt.plot(solucion['xs'],solucion['ys'],label='Aproximación')\n",
        "plt.plot(solucion['xs'],solucion['y_reales'],label='Solución Real')\n",
        "plt.legend()\n",
        "plt.show()"
      ]
    },
    {
      "cell_type": "code",
      "execution_count": null,
      "metadata": {},
      "outputs": [],
      "source": []
    }
  ],
  "metadata": {
    "colab": {
      "authorship_tag": "ABX9TyPEbXXHL+pricnx85fcBFih",
      "include_colab_link": true,
      "provenance": []
    },
    "kernelspec": {
      "display_name": "Python 3",
      "name": "python3"
    },
    "language_info": {
      "codemirror_mode": {
        "name": "ipython",
        "version": 3
      },
      "file_extension": ".py",
      "mimetype": "text/x-python",
      "name": "python",
      "nbconvert_exporter": "python",
      "pygments_lexer": "ipython3",
      "version": "3.8.10"
    }
  },
  "nbformat": 4,
  "nbformat_minor": 0
}

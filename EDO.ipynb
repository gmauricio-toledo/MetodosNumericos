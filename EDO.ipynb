{
  "nbformat": 4,
  "nbformat_minor": 0,
  "metadata": {
    "colab": {
      "provenance": [],
      "authorship_tag": "ABX9TyPEbXXHL+pricnx85fcBFih",
      "include_colab_link": true
    },
    "kernelspec": {
      "name": "python3",
      "display_name": "Python 3"
    },
    "language_info": {
      "name": "python"
    }
  },
  "cells": [
    {
      "cell_type": "markdown",
      "metadata": {
        "id": "view-in-github",
        "colab_type": "text"
      },
      "source": [
        "<a href=\"https://colab.research.google.com/github/gmauricio-toledo/MetodosNumericos/blob/main/EDO.ipynb\" target=\"_parent\"><img src=\"https://colab.research.google.com/assets/colab-badge.svg\" alt=\"Open In Colab\"/></a>"
      ]
    },
    {
      "cell_type": "markdown",
      "source": [
        "# El método de Heun"
      ],
      "metadata": {
        "id": "hC6f881iK7kD"
      }
    },
    {
      "cell_type": "code",
      "execution_count": 3,
      "metadata": {
        "id": "lej0NAYiJqMm"
      },
      "outputs": [],
      "source": [
        "import numpy as np\n",
        "\n",
        "def f(x,y):\n",
        "    return (1+4*x)*np.sqrt(y)\n",
        "\n",
        "def sol(x):\n",
        "    return 0.25*(x+2*x**2+2)**2\n",
        "\n",
        "def error_relativo(valor_real,valor_aproximado):\n",
        "    return np.abs((valor_real-valor_aproximado)/valor_real)"
      ]
    },
    {
      "cell_type": "code",
      "source": [
        "def heun(a,b,f,h,sol):\n",
        "    ...\n",
        "    return {'xs': xs,\n",
        "            'ys': ys,\n",
        "            'errores': errores}"
      ],
      "metadata": {
        "id": "xpg-aqCDJxEN"
      },
      "execution_count": null,
      "outputs": []
    }
  ]
}
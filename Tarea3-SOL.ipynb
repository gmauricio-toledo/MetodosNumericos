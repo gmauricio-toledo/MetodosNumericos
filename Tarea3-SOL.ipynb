{
  "cells": [
    {
      "cell_type": "markdown",
      "metadata": {
        "id": "view-in-github",
        "colab_type": "text"
      },
      "source": [
        "<a href=\"https://colab.research.google.com/github/gmauricio-toledo/MetodosNumericos/blob/main/Tarea3-SOL.ipynb\" target=\"_parent\"><img src=\"https://colab.research.google.com/assets/colab-badge.svg\" alt=\"Open In Colab\"/></a>"
      ]
    },
    {
      "cell_type": "markdown",
      "source": [
        "# Tarea 3\n",
        "<h2>Solución</h2>"
      ],
      "metadata": {
        "id": "FCIQbOz00PBH"
      }
    },
    {
      "cell_type": "code",
      "execution_count": 1,
      "metadata": {
        "id": "tMcBtf_A4lo0"
      },
      "outputs": [],
      "source": [
        "import numpy as np\n",
        "import matplotlib.pyplot as plt\n",
        "from math import fabs"
      ]
    },
    {
      "cell_type": "markdown",
      "metadata": {
        "id": "x1Pgr9Rw4lo5"
      },
      "source": [
        "Función para graficar y para el error relativo"
      ]
    },
    {
      "cell_type": "code",
      "execution_count": 2,
      "metadata": {
        "id": "Ngli2s0f4lo7"
      },
      "outputs": [],
      "source": [
        "def graficar(f,a,b,num=100):\n",
        "    eje_x = np.linspace(start=a,\n",
        "                    stop=b,\n",
        "                    num=num)\n",
        "    eje_y = [f(x) for x in eje_x]  # Listas de compresión\n",
        "    plt.figure(figsize=(7,5))\n",
        "    plt.plot(eje_x,eje_y,color='red')\n",
        "    plt.axhline(0,color='gray') # Dibujar eje X\n",
        "    plt.show()\n",
        "\n",
        "def error_relativo(x_real,x_aprox):\n",
        "    return fabs(x_real-x_aprox)/fabs(x_real)"
      ]
    },
    {
      "cell_type": "markdown",
      "metadata": {
        "id": "KLTPCIQX4lo-"
      },
      "source": [
        "**Método de Newton**. El método está implementado como una función que regresa un diccionario con la raiz encontrada, el error final y el número de interaciones necesarias para obtener la raiz deseada. Además, la función imprime la aproximación y error relativo en cada iteración."
      ]
    },
    {
      "cell_type": "code",
      "execution_count": 5,
      "metadata": {
        "id": "XwodavEP4lo_"
      },
      "outputs": [],
      "source": [
        "def newton(f,df,x0,tolerancia):\n",
        "    '''\n",
        "    f:  función a la que encontraremos la raiz\n",
        "    df: derivada de la función\n",
        "    x0: aproximación inicial de la raiz\n",
        "    '''\n",
        "    x_r = x0\n",
        "    error = 2*tolerancia\n",
        "    n_iteraciones = 0\n",
        "    while (error>tolerancia):\n",
        "        x_r_old = x_r\n",
        "        x_r = x_r - f(x_r)/df(x_r)\n",
        "        if x_r != 0:\n",
        "            error = error_relativo(x_r,x_r_old)\n",
        "        print(f\"Iteración: {n_iteraciones+1} --- Aproximación: {x_r} --- Error: {error}\")\n",
        "        n_iteraciones += 1\n",
        "    return {'raiz': x_r,\n",
        "            'error': error,\n",
        "            'iteraciones': n_iteraciones\n",
        "            }"
      ]
    },
    {
      "cell_type": "markdown",
      "metadata": {
        "id": "4wKYzpbA4lpB"
      },
      "source": [
        "**Método de la secante**. El método está implementado como una función que regresa un diccionario con la raiz encontrada, el error final y el número de interaciones necesarias para obtener la raiz deseada. Además, la función imprime la aproximación y error relativo en cada iteración."
      ]
    },
    {
      "cell_type": "code",
      "execution_count": 6,
      "metadata": {
        "id": "aZXEROUa4lpC"
      },
      "outputs": [],
      "source": [
        "def secante(f,x0,x1,tolerancia):\n",
        "    '''\n",
        "    f:  función a la que encontraremos la raiz\n",
        "    x0: primera aproximación de la raiz\n",
        "    x1: segunda aproximación de la raiz\n",
        "    '''\n",
        "    error = 2*tolerancia\n",
        "    n_iteraciones = 0\n",
        "    while (error>tolerancia):\n",
        "        x_next = x1 - f(x1)*(x0-x1)/(f(x0)-f(x1))\n",
        "        if x1 != 0:\n",
        "            error = error_relativo(x_next,x1)\n",
        "        x0 = x1\n",
        "        x1 = x_next\n",
        "        print(f\"Iteración: {n_iteraciones} --- Aproximación: {x_next} --- Error: {error}\")\n",
        "        n_iteraciones += 1\n",
        "    return {'raiz': x_next,\n",
        "            'error': error,\n",
        "            'iteraciones': n_iteraciones\n",
        "            }"
      ]
    },
    {
      "cell_type": "markdown",
      "source": [
        "**Método de iteración de punto fijo**. El método está implementado como una función que regresa un diccionario con la raiz encontrada, el error final y el número de interaciones necesarias para obtener la raiz deseada. Además, la función imprime la aproximación y error relativo en cada iteración."
      ],
      "metadata": {
        "id": "4LqDpEPP4Tuk"
      }
    },
    {
      "cell_type": "code",
      "source": [
        "def punto_fijo(g,x0,tolerancia):\n",
        "    '''\n",
        "    g:  función que describe el problema de punto fijo\n",
        "    x0: aproximación inicial a la raiz\n",
        "    '''\n",
        "    error = 2*tolerancia\n",
        "    n_iteraciones = 0\n",
        "    while (error>tolerancia):\n",
        "        x_anterior = x0\n",
        "        x0 = g(x0)\n",
        "        if x0 != 0:\n",
        "            error = error_relativo(x0,x_anterior)\n",
        "        print(f\"Iteración: {n_iteraciones} --- Aproximación: {x0} --- Error: {error}\")\n",
        "        n_iteraciones += 1\n",
        "    return {'raiz': x0,\n",
        "            'error': error,\n",
        "            'iteraciones': n_iteraciones\n",
        "            }"
      ],
      "metadata": {
        "id": "btMse-4f4WXH"
      },
      "execution_count": 18,
      "outputs": []
    },
    {
      "cell_type": "markdown",
      "metadata": {
        "id": "CW-Bc4gm4lpE"
      },
      "source": [
        "# Ejercicio 1"
      ]
    },
    {
      "cell_type": "markdown",
      "metadata": {
        "id": "0wDGHULb4lpF"
      },
      "source": [
        "Primero, convertir el problema en un problema de encontrar la raiz de una ecuación:\n",
        "\n",
        "$$x^3-9x^2+26x-23.8=0 $$\n",
        "\n",
        "y entonces, la función que usaremos es\n",
        "\n",
        "$$f(x)=x^3-9x^2+26x-23.8$$"
      ]
    },
    {
      "cell_type": "code",
      "execution_count": 28,
      "metadata": {
        "id": "6L_Gge6E4lpH"
      },
      "outputs": [],
      "source": [
        "def f(x):\n",
        "    y = x**3 - 9*x**2 + 26*x - 23.8\n",
        "    return y"
      ]
    },
    {
      "cell_type": "markdown",
      "source": [
        "Definimos la tolerancia para todos los métodos"
      ],
      "metadata": {
        "id": "_ocDUOPx3x_3"
      }
    },
    {
      "cell_type": "code",
      "source": [
        "tolerancia = 1e-6"
      ],
      "metadata": {
        "id": "saTytnBJ30fk"
      },
      "execution_count": 23,
      "outputs": []
    },
    {
      "cell_type": "markdown",
      "source": [
        "Graficamos la función"
      ],
      "metadata": {
        "id": "_zGdgh_e2wTP"
      }
    },
    {
      "cell_type": "code",
      "execution_count": 8,
      "metadata": {
        "id": "Z3Nbwf5d4lpI",
        "outputId": "e421e35e-2829-4320-d654-c2cf26c60bfb",
        "colab": {
          "base_uri": "https://localhost:8080/",
          "height": 445
        }
      },
      "outputs": [
        {
          "output_type": "display_data",
          "data": {
            "text/plain": [
              "<Figure size 700x500 with 1 Axes>"
            ],
            "image/png": "[encoded data removed]"
          },
          "metadata": {}
        }
      ],
      "source": [
        "graficar(f,1.5,4.5)"
      ]
    },
    {
      "cell_type": "markdown",
      "source": [
        "## Método de Newton"
      ],
      "metadata": {
        "id": "1rFa85aP4HjF"
      }
    },
    {
      "cell_type": "markdown",
      "metadata": {
        "id": "CanPZ3X14lpJ"
      },
      "source": [
        "Usando el método de Newton. Necesitamos la derivada, la cual es\n",
        "\n",
        "$$f'(x)=3x^2-18x+26$$"
      ]
    },
    {
      "cell_type": "code",
      "source": [
        "def df(x):\n",
        "    return 3*x**2-18*x+26"
      ],
      "metadata": {
        "id": "KnAS7QoW3H9g"
      },
      "execution_count": 26,
      "outputs": []
    },
    {
      "cell_type": "code",
      "execution_count": 29,
      "metadata": {
        "id": "oifObvfu4lpK",
        "outputId": "e42f1f4e-0861-46cb-b657-2e52672c7ecf",
        "colab": {
          "base_uri": "https://localhost:8080/"
        }
      },
      "outputs": [
        {
          "output_type": "stream",
          "name": "stdout",
          "text": [
            "Iteración: 1 --- Aproximación: 0.9153846153846155 --- Error: 1.0\n",
            "Iteración: 2 --- Aproximación: 1.4781835047016467 --- Error: 0.38073682159687294\n",
            "Iteración: 3 --- Aproximación: 1.7812542571101082 --- Error: 0.17014457717011208\n",
            "Iteración: 4 --- Aproximación: 1.8945369062446449 --- Error: 0.05979437442529731\n",
            "Iteración: 5 --- Aproximación: 1.9115902072232507 --- Error: 0.008921002479593777\n",
            "Iteración: 6 --- Aproximación: 1.9119659046942497 --- Error: 0.00019649799720620518\n",
            "Iteración: 7 --- Aproximación: 1.9119660853086689 --- Error: 9.446528397459445e-08\n",
            "Solución aproximada: 1.9119660853086689\n",
            "Error relativo aproximado: 9.446528397459445e-08\n",
            "Evaluación: -1.0658141036401503e-13\n",
            "Número de iteraciones necesarias: 7\n"
          ]
        }
      ],
      "source": [
        "x_0 = 0\n",
        "\n",
        "resultado = newton(f,df,x_0,tolerancia)\n",
        "\n",
        "raiz = resultado['raiz']\n",
        "error = resultado['error']\n",
        "iteraciones = resultado['iteraciones']\n",
        "secante\n",
        "print(f\"Solución aproximada: {raiz}\")\n",
        "print(f\"Error relativo aproximado: {error}\")\n",
        "print(f\"Evaluación: {f(raiz)}\")\n",
        "print(f\"Número de iteraciones necesarias: {iteraciones}\")"
      ]
    },
    {
      "cell_type": "markdown",
      "metadata": {
        "id": "M2yubOvB4lpK"
      },
      "source": [
        "## Método de la secante"
      ]
    },
    {
      "cell_type": "code",
      "execution_count": 30,
      "metadata": {
        "id": "RidXoSRF4lpK",
        "outputId": "0f115d1b-fbb0-4dbb-f577-1bed28b022a5",
        "colab": {
          "base_uri": "https://localhost:8080/"
        }
      },
      "outputs": [
        {
          "output_type": "stream",
          "name": "stdout",
          "text": [
            "Iteración: 0 --- Aproximación: 1.9833333333333334 --- Error: 0.008403361344537785\n",
            "Iteración: 1 --- Aproximación: 1.9024522422435999 --- Error: 0.042514124293784546\n",
            "Iteración: 2 --- Aproximación: 1.9128897024191094 --- Error: 0.0054563836912864955\n",
            "Iteración: 3 --- Aproximación: 1.9119772335116476 --- Error: 0.00047723837474041416\n",
            "Iteración: 4 --- Aproximación: 1.9119660721240763 --- Error: 5.8376493882501464e-06\n",
            "Iteración: 5 --- Aproximación: 1.9119660853088962 --- Error: 6.895948627877487e-09\n",
            "Solución aproximada: 1.9119660853088962\n",
            "Error relativo aproximado: 6.895948627877487e-09\n",
            "Evaluación: 4.760636329592671e-13\n",
            "Número de iteraciones necesarias: 6\n"
          ]
        }
      ],
      "source": [
        "x_0 = 0\n",
        "x_1 = 2\n",
        "\n",
        "resultado = secante(f,0,2,tolerancia)\n",
        "\n",
        "raiz = resultado['raiz']\n",
        "error = resultado['error']\n",
        "iteraciones = resultado['iteraciones']\n",
        "\n",
        "print(f\"Solución aproximada: {raiz}\")\n",
        "print(f\"Error relativo aproximado: {error}\")\n",
        "print(f\"Evaluación: {f(raiz)}\")\n",
        "print(f\"Número de iteraciones necesarias: {iteraciones}\")"
      ]
    },
    {
      "cell_type": "markdown",
      "source": [
        "## Método de iteración de punto fijo\n",
        "\n",
        "El problema de punto fijo que hay que resolver es $h(x)=x$ donde\n",
        "\n",
        "$$h(x)=\\frac{x^3-9x^2-23.8}{-26}$$"
      ],
      "metadata": {
        "id": "l37p-yGO3-iD"
      }
    },
    {
      "cell_type": "markdown",
      "source": [
        "Definimos la función $h$"
      ],
      "metadata": {
        "id": "jrLgFmyH5R2v"
      }
    },
    {
      "cell_type": "code",
      "source": [
        "def h(x):\n",
        "    return (x**3-9*x**2-23.8)/(-26)"
      ],
      "metadata": {
        "id": "yrgThYf-4F_g"
      },
      "execution_count": 31,
      "outputs": []
    },
    {
      "cell_type": "code",
      "source": [
        "x_0 = 0\n",
        "\n",
        "resultado = punto_fijo(h,0,tolerancia)\n",
        "\n",
        "raiz = resultado['raiz']\n",
        "error = resultado['error']\n",
        "iteraciones = resultado['iteraciones']\n",
        "\n",
        "print(f\"Solución aproximada: {raiz}\")\n",
        "print(f\"Error relativo aproximado: {error}\")\n",
        "print(f\"Evaluación: {f(raiz)}\")\n",
        "print(f\"Número de iteraciones necesarias: {iteraciones}\")"
      ],
      "metadata": {
        "colab": {
          "base_uri": "https://localhost:8080/"
        },
        "id": "fAPIuKgd5ZT6",
        "outputId": "b340e312-00a6-44ea-e43d-f7fca34c9ab8"
      },
      "execution_count": 32,
      "outputs": [
        {
          "output_type": "stream",
          "name": "stdout",
          "text": [
            "Iteración: 0 --- Aproximación: 0.9153846153846155 --- Error: 1.0\n",
            "Iteración: 1 --- Aproximación: 1.175935909106824 --- Error: 0.2215692978710965\n",
            "Iteración: 2 --- Aproximación: 1.3315120568827608 --- Error: 0.11684171162532342\n",
            "Iteración: 3 --- Aproximación: 1.4382941946346057 --- Error: 0.07424220868733511\n",
            "Iteración: 4 --- Aproximación: 1.5170317931400856 --- Error: 0.05190240498684731\n",
            "Iteración: 5 --- Aproximación: 1.5777382399757518 --- Error: 0.03847688120723953\n",
            "Iteración: 6 --- Aproximación: 1.6259970816128062 --- Error: 0.029679537671240507\n",
            "Iteración: 7 --- Aproximación: 1.6652261290861656 --- Error: 0.023557790013112118\n",
            "Iteración: 8 --- Aproximación: 1.6976602702452408 --- Error: 0.01910520127468719\n",
            "Iteración: 9 --- Aproximación: 1.724835041892091 --- Error: 0.015754997426907755\n",
            "Iteración: 10 --- Aproximación: 1.747847022701777 --- Error: 0.013165900968904418\n",
            "Iteración: 11 --- Aproximación: 1.7675040033242422 --- Error: 0.011121321697430478\n",
            "Iteración: 12 --- Aproximación: 1.784416410542872 --- Error: 0.009477836629783343\n",
            "Iteración: 13 --- Aproximación: 1.7990554703575867 --- Error: 0.008137080849322057\n",
            "Iteración: 14 --- Aproximación: 1.8117915877016617 --- Error: 0.0070295708571156985\n",
            "Iteración: 15 --- Aproximación: 1.822920466119195 --- Error: 0.006104972007487189\n",
            "Iteración: 16 --- Aproximación: 1.8326813608588184 --- Error: 0.005326018449300652\n",
            "Iteración: 17 --- Aproximación: 1.8412701313501605 --- Error: 0.004664590135421442\n",
            "Iteración: 18 --- Aproximación: 1.8488487650855414 --- Error: 0.0040991096072859595\n",
            "Iteración: 19 --- Aproximación: 1.8555524521456852 --- Error: 0.00361277152386176\n",
            "Iteración: 20 --- Aproximación: 1.8614949248236763 --- Error: 0.0031923120491741145\n",
            "Iteración: 21 --- Aproximación: 1.8667725460389475 --- Error: 0.002827136721326675\n",
            "Iteración: 22 --- Aproximación: 1.8714674806290417 --- Error: 0.002508691515449741\n",
            "Iteración: 23 --- Aproximación: 1.8756501844669689 --- Error: 0.002230002093442516\n",
            "Iteración: 24 --- Aproximación: 1.8793813793435479 --- Error: 0.001985331406168502\n",
            "Iteración: 25 --- Aproximación: 1.8827136354465532 --- Error: 0.0017699219043553565\n",
            "Iteración: 26 --- Aproximación: 1.8856926510226155 --- Error: 0.0015797991122502152\n",
            "Iteración: 27 --- Aproximación: 1.888358295918882 --- Error: 0.0014116202958027175\n",
            "Iteración: 28 --- Aproximación: 1.890745469231534 --- Error: 0.0012625566748665311\n",
            "Iteración: 29 --- Aproximación: 1.8928848092876458 --- Error: 0.001130200868861603\n",
            "Iteración: 30 --- Aproximación: 1.8948032853409142 --- Error: 0.0010124935227369917\n",
            "Iteración: 31 --- Aproximación: 1.8965246937708287 --- Error: 0.0009076646539686068\n",
            "Iteración: 32 --- Aproximación: 1.8980700766147818 --- Error: 0.0008141864006988152\n",
            "Iteración: 33 --- Aproximación: 1.8994580764949907 --- Error: 0.0007307346750027306\n",
            "Iteración: 34 --- Aproximación: 1.9007052391151797 --- Error: 0.0006561578273807844\n",
            "Iteración: 35 --- Aproximación: 1.9018262722717802 --- Error: 0.0005894508730607665\n",
            "Iteración: 36 --- Aproximación: 1.9028342685881827 --- Error: 0.0005297341618460333\n",
            "Iteración: 37 --- Aproximación: 1.9037408978191057 --- Error: 0.0004762356221698103\n",
            "Iteración: 38 --- Aproximación: 1.904556573497139 --- Error: 0.00042827589864425584\n",
            "Iteración: 39 --- Aproximación: 1.9052905978391397 --- Error: 0.00038525584644837584\n",
            "Iteración: 40 --- Aproximación: 1.905951288146875 --- Error: 0.00034664595671680536\n",
            "Iteración: 41 --- Aproximación: 1.906546087386606 --- Error: 0.0003119773729395481\n",
            "Iteración: 42 --- Aproximación: 1.907081661187505 --- Error: 0.00028083422529766116\n",
            "Iteración: 43 --- Aproximación: 1.9075639831369342 --- Error: 0.00025284706237535743\n",
            "Iteración: 44 --- Aproximación: 1.9079984099546377 --- Error: 0.00022768720111972037\n",
            "Iteración: 45 --- Aproximación: 1.9083897478845793 --- Error: 0.0002050618488049453\n",
            "Iteración: 46 --- Aproximación: 1.9087423114421425 --- Error: 0.00018470987699581735\n",
            "Iteración: 47 --- Aproximación: 1.9090599754875488 --- Error: 0.00016639814855749275\n",
            "Iteración: 48 --- Aproximación: 1.9093462214571881 --- Error: 0.00014991831571587494\n",
            "Iteración: 49 --- Aproximación: 1.9096041784679973 --- Error: 0.0001350840209284454\n",
            "Iteración: 50 --- Aproximación: 1.9098366599119492 --- Error: 0.00012172844350078851\n",
            "Iteración: 51 --- Aproximación: 1.9100461960748605 --- Error: 0.00010970214403290451\n",
            "Iteración: 52 --- Aproximación: 1.9102350632434595 --- Error: 9.887116629422584e-05\n",
            "Iteración: 53 --- Aproximación: 1.9104053097047968 --- Error: 8.911536231212075e-05\n",
            "Iteración: 54 --- Aproximación: 1.9105587789909426 --- Error: 8.03269115995716e-05\n",
            "Iteración: 55 --- Aproximación: 1.9106971306780238 --- Error: 7.240900970637415e-05\n",
            "Iteración: 56 --- Aproximación: 1.9108218590108974 --- Error: 6.527470485299127e-05\n",
            "Iteración: 57 --- Aproximación: 1.9109343095921294 --- Error: 5.884586438557097e-05\n",
            "Iteración: 58 --- Aproximación: 1.9110356943457003 --- Error: 5.305225531416466e-05\n",
            "Iteración: 59 --- Aproximación: 1.9111271049413021 --- Error: 4.7830725316729605e-05\n",
            "Iteración: 60 --- Aproximación: 1.9112095248437069 --- Error: 4.3124472400011886e-05\n",
            "Iteración: 61 --- Aproximación: 1.9112838401329932 --- Error: 3.8882392937091446e-05\n",
            "Iteración: 62 --- Aproximación: 1.9113508492250557 --- Error: 3.505849911838211e-05\n",
            "Iteración: 63 --- Aproximación: 1.9114112716074532 --- Error: 3.161139797330881e-05\n",
            "Iteración: 64 --- Aproximación: 1.9114657556930106 --- Error: 2.850382508561465e-05\n",
            "Iteración: 65 --- Aproximación: 1.9115148858824458 --- Error: 2.570222696043367e-05\n",
            "Iteración: 66 --- Aproximación: 1.911559188917456 --- Error: 2.3176386725026642e-05\n",
            "Iteración: 67 --- Aproximación: 1.9115991395969805 --- Error: 2.0899088463170838e-05\n",
            "Iteración: 68 --- Aproximación: 1.9116351659216433 --- Error: 1.8845816034907395e-05\n",
            "Iteración: 69 --- Aproximación: 1.9116676537245316 --- Error: 1.6994482709921033e-05\n",
            "Iteración: 70 --- Aproximación: 1.9116969508403692 --- Error: 1.5325188348847156e-05\n",
            "Iteración: 71 --- Aproximación: 1.9117233708597259 --- Error: 1.3820001240466337e-05\n",
            "Iteración: 72 --- Aproximación: 1.9117471965100823 --- Error: 1.2462762022042833e-05\n",
            "Iteración: 73 --- Aproximación: 1.9117686827012472 --- Error: 1.123890738422033e-05\n",
            "Iteración: 74 --- Aproximación: 1.9117880592687941 --- Error: 1.0135311523142762e-05\n",
            "Iteración: 75 --- Aproximación: 1.911805533445728 --- Error: 9.140143507367779e-06\n",
            "Iteración: 76 --- Aproximación: 1.911821292089536 --- Error: 8.242738938675211e-06\n",
            "Iteración: 77 --- Aproximación: 1.9118355036890102 --- Error: 7.433484442935077e-06\n",
            "Iteración: 78 --- Aproximación: 1.9118483201727652 --- Error: 6.703713688852378e-06\n",
            "Iteración: 79 --- Aproximación: 1.911859878539172 --- Error: 6.04561376940632e-06\n",
            "Iteración: 80 --- Aproximación: 1.9118703023254398 --- Error: 5.452140898376117e-06\n",
            "Iteración: 81 --- Aproximación: 1.9118797029317929 --- Error: 4.9169444807179314e-06\n",
            "Iteración: 82 --- Aproximación: 1.9118881808151105 --- Error: 4.434298722416929e-06\n",
            "Iteración: 83 --- Aproximación: 1.9118958265649424 --- Error: 3.999041017656429e-06\n",
            "Iteración: 84 --- Aproximación: 1.9119027218735372 --- Error: 3.6065164382477946e-06\n",
            "Iteración: 85 --- Aproximación: 1.91190894041036 --- Error: 3.2525277179131755e-06\n",
            "Iteración: 86 --- Aproximación: 1.9119145486105273 --- Error: 2.933290178396667e-06\n",
            "Iteración: 87 --- Aproximación: 1.9119196063856592 --- Error: 2.6453911110749787e-06\n",
            "Iteración: 88 --- Aproximación: 1.911924167764801 --- Error: 2.3857531687905177e-06\n",
            "Iteración: 89 --- Aproximación: 1.9119282814723098 --- Error: 2.1516013695290213e-06\n",
            "Iteración: 90 --- Aproximación: 1.9119319914489152 --- Error: 1.9404333533171514e-06\n",
            "Iteración: 91 --- Aproximación: 1.9119353373215555 --- Error: 1.7499925729541448e-06\n",
            "Iteración: 92 --- Aproximación: 1.9119383548270308 --- Error: 1.578244124685594e-06\n",
            "Iteración: 93 --- Aproximación: 1.911941076194022 --- Error: 1.4233529606083819e-06\n",
            "Iteración: 94 --- Aproximación: 1.9119435304875696 --- Error: 1.283664244455394e-06\n",
            "Iteración: 95 --- Aproximación: 1.9119457439197072 --- Error: 1.1576856428147607e-06\n",
            "Iteración: 96 --- Aproximación: 1.9119477401295806 --- Error: 1.0440713579677934e-06\n",
            "Iteración: 97 --- Aproximación: 1.9119495404360483 --- Error: 9.416077305420026e-07\n",
            "Solución aproximada: 1.9119495404360483\n",
            "Error relativo aproximado: 9.416077305420026e-07\n",
            "Evaluación: -4.221436507734211e-05\n",
            "Número de iteraciones necesarias: 98\n"
          ]
        }
      ]
    },
    {
      "cell_type": "markdown",
      "metadata": {
        "id": "Y_F6hTSH4lpM"
      },
      "source": [
        "# Ejercicio 2"
      ]
    },
    {
      "cell_type": "markdown",
      "metadata": {
        "id": "z_iPGZJZ4lpM"
      },
      "source": [
        "Primero, convertir el problema en un problema de encontrar la raiz de una ecuación:\n",
        "\n",
        "$$v - \\sqrt{2gH}\\tanh\\left(\\frac{\\sqrt{2gH}}{2L}t\\right)=0 $$\n",
        "\n",
        "y entonces, la función que usaremos es\n",
        "\n",
        "$$f(H)=v - \\sqrt{2gH}\\tanh\\left(\\frac{\\sqrt{2gH}}{2L}t\\right)$$\n",
        "\n",
        "con $v=5 m/s$, $t=2.5s$, $L=4m$ y $g=9.81 m/s^2$."
      ]
    },
    {
      "cell_type": "code",
      "execution_count": 33,
      "metadata": {
        "id": "4Uk5azzw4lpM"
      },
      "outputs": [],
      "source": [
        "from math import tanh, sqrt\n",
        "\n",
        "v = 5\n",
        "L = 4\n",
        "g = 9.81\n",
        "t = 2.5\n",
        "\n",
        "def f(H):\n",
        "    return v-sqrt(2*g*H)*tanh((sqrt(2*g*H)*t)/(2*L))"
      ]
    },
    {
      "cell_type": "markdown",
      "source": [
        "Definimos la tolerancia para todos los métodos"
      ],
      "metadata": {
        "id": "1piVtU6M5xlL"
      }
    },
    {
      "cell_type": "code",
      "source": [
        "tolerancia = 1e-7"
      ],
      "metadata": {
        "id": "I20LTeuE5xlN"
      },
      "execution_count": 34,
      "outputs": []
    },
    {
      "cell_type": "code",
      "execution_count": 35,
      "metadata": {
        "id": "VOP7LU7r4lpM",
        "outputId": "06b5bcd2-33d5-4fda-f19b-4f4fd4375c49",
        "colab": {
          "base_uri": "https://localhost:8080/",
          "height": 445
        }
      },
      "outputs": [
        {
          "output_type": "display_data",
          "data": {
            "text/plain": [
              "<Figure size 700x500 with 1 Axes>"
            ],
            "image/png": "[encoded data removed]"
          },
          "metadata": {}
        }
      ],
      "source": [
        "graficar(f,0,3)"
      ]
    },
    {
      "cell_type": "markdown",
      "metadata": {
        "id": "oJKAmI_44lpN"
      },
      "source": [
        "## Método de Newton\n",
        "\n",
        "La derivada es..."
      ]
    },
    {
      "cell_type": "code",
      "execution_count": null,
      "metadata": {
        "id": "jvZDPY004lpN",
        "outputId": "2c47a5de-c076-45fe-db5d-c61c70beb207"
      },
      "outputs": [
        {
          "name": "stdout",
          "output_type": "stream",
          "text": [
            "Solución aproximada: 1.4658945798873901\n",
            "Error relativo aproximado: 8.132187074457899e-08\n",
            "Evaluación: 1.809196170654559e-08\n",
            "Número de iteraciones necesarias: 24\n"
          ]
        }
      ],
      "source": [
        "x_0 = 0\n",
        "x_1 = 2\n",
        "tolerancia = 1e-7\n",
        "\n",
        "resultado = newton(f,0,2,tolerancia)\n",
        "\n",
        "raiz = resultado['raiz']\n",
        "error = resultado['error']\n",
        "iteraciones = resultado['iteraciones']\n",
        "\n",
        "print(f\"Solución aproximada: {raiz}\")\n",
        "print(f\"Error relativo aproximado: {error}\")\n",
        "print(f\"Evaluación: {f(raiz)}\")\n",
        "print(f\"Número de iteraciones necesarias: {iteraciones}\")"
      ]
    },
    {
      "cell_type": "markdown",
      "source": [
        "## Método de la secante"
      ],
      "metadata": {
        "id": "jRHzoEji6jAN"
      }
    },
    {
      "cell_type": "code",
      "execution_count": 36,
      "metadata": {
        "id": "1-XvtGN94lpO",
        "outputId": "688de885-90c5-4d40-b35a-d4db727a2feb",
        "colab": {
          "base_uri": "https://localhost:8080/"
        }
      },
      "outputs": [
        {
          "output_type": "stream",
          "name": "stdout",
          "text": [
            "Iteración: 0 --- Aproximación: 1.661330146513786 --- Error: 0.20385463671799067\n",
            "Iteración: 1 --- Aproximación: 1.446145788331646 --- Error: 0.148798523577895\n",
            "Iteración: 2 --- Aproximación: 1.4666765184969581 --- Error: 0.013998131085068389\n",
            "Iteración: 3 --- Aproximación: 1.4658977937095734 --- Error: 0.0005312272047385344\n",
            "Iteración: 4 --- Aproximación: 1.4658945879578944 --- Error: 2.1868909983962805e-06\n",
            "Iteración: 5 --- Aproximación: 1.4658945884767887 --- Error: 3.539778814734894e-10\n",
            "Solución aproximada: 1.4658945884767887\n",
            "Error relativo aproximado: 3.539778814734894e-10\n",
            "Evaluación: -8.881784197001252e-16\n",
            "Número de iteraciones necesarias: 6\n"
          ]
        }
      ],
      "source": [
        "x_0 = 0\n",
        "x_1 = 2\n",
        "\n",
        "resultado = secante(f,0,2,tolerancia)\n",
        "\n",
        "raiz = resultado['raiz']\n",
        "error = resultado['error']\n",
        "iteraciones = resultado['iteraciones']\n",
        "\n",
        "print(f\"Solución aproximada: {raiz}\")\n",
        "print(f\"Error relativo aproximado: {error}\")\n",
        "print(f\"Evaluación: {f(raiz)}\")\n",
        "print(f\"Número de iteraciones necesarias: {iteraciones}\")"
      ]
    },
    {
      "cell_type": "markdown",
      "source": [
        "## Método de iteración de punto fijo"
      ],
      "metadata": {
        "id": "ahGLvMFu6pV5"
      }
    },
    {
      "cell_type": "code",
      "source": [
        "def h(x):\n",
        "    pass"
      ],
      "metadata": {
        "id": "2CLOtuz56rTc"
      },
      "execution_count": null,
      "outputs": []
    },
    {
      "cell_type": "markdown",
      "metadata": {
        "id": "KtN4iG034lpO"
      },
      "source": [
        "Fue más rápido el método de la falsa posición ya que sólo necesito 17 iteraciones contra 24 que necesito el método de la bisección"
      ]
    },
    {
      "cell_type": "markdown",
      "source": [],
      "metadata": {
        "id": "qno9LlZM6pA6"
      }
    },
    {
      "cell_type": "code",
      "execution_count": null,
      "metadata": {
        "id": "v2Dq4t4d4lpP"
      },
      "outputs": [],
      "source": []
    }
  ],
  "metadata": {
    "kernelspec": {
      "display_name": "Python 3",
      "language": "python",
      "name": "python3"
    },
    "language_info": {
      "codemirror_mode": {
        "name": "ipython",
        "version": 3
      },
      "file_extension": ".py",
      "mimetype": "text/x-python",
      "name": "python",
      "nbconvert_exporter": "python",
      "pygments_lexer": "ipython3",
      "version": "3.8.10"
    },
    "orig_nbformat": 4,
    "colab": {
      "provenance": [],
      "include_colab_link": true
    }
  },
  "nbformat": 4,
  "nbformat_minor": 0
}
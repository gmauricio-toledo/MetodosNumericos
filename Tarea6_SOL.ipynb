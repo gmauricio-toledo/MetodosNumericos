{
  "cells": [
    {
      "cell_type": "markdown",
      "metadata": {
        "id": "view-in-github",
        "colab_type": "text"
      },
      "source": [
        "<a href=\"https://colab.research.google.com/github/gmauricio-toledo/MetodosNumericos/blob/main/Tarea6_SOL.ipynb\" target=\"_parent\"><img src=\"https://colab.research.google.com/assets/colab-badge.svg\" alt=\"Open In Colab\"/></a>"
      ]
    },
    {
      "cell_type": "markdown",
      "metadata": {
        "id": "0H94sFnCkJnU"
      },
      "source": [
        "**<h1>Tarea 6</h1>**\n",
        "\n",
        "<h3>Solución</h3>"
      ]
    },
    {
      "cell_type": "markdown",
      "source": [
        "Ejecutar la siguiente celda para cargar el archivo de texto en un arreglo de numpy llamado `datos`"
      ],
      "metadata": {
        "id": "KJnahpEu0EAl"
      }
    },
    {
      "cell_type": "code",
      "execution_count": null,
      "metadata": {
        "id": "ilfwwTtvis-j"
      },
      "outputs": [],
      "source": [
        "!pip install wget\n",
        "\n",
        "import wget\n",
        "import numpy as np\n",
        "\n",
        "url = \"https://raw.githubusercontent.com/gmauricio-toledo/numerical-methods/master/datos.txt\"\n",
        "fname = url.split('/')[-1]\n",
        "wget.download(url, fname)\n",
        "\n",
        "datos = np.loadtxt(fname=fname,delimiter=',')"
      ]
    },
    {
      "cell_type": "markdown",
      "source": [
        "Puedes verificar que el arreglo se ha cargado correctamente:"
      ],
      "metadata": {
        "id": "q19C2_q00SDj"
      }
    },
    {
      "cell_type": "code",
      "source": [
        "print(datos)"
      ],
      "metadata": {
        "id": "LLpgOmkR0RUJ"
      },
      "execution_count": null,
      "outputs": []
    },
    {
      "cell_type": "markdown",
      "metadata": {
        "id": "X7-Mg-P5kp7j"
      },
      "source": [
        "# Ejercicio 1"
      ]
    },
    {
      "cell_type": "markdown",
      "metadata": {
        "id": "-HroWvLbmVzf"
      },
      "source": [
        "# Ejercicio 2"
      ]
    },
    {
      "cell_type": "markdown",
      "metadata": {
        "id": "iwwQpb61qx-2"
      },
      "source": [
        "# Ejercicio 3"
      ]
    },
    {
      "cell_type": "code",
      "execution_count": null,
      "metadata": {
        "id": "tBCb_r8vqx-4"
      },
      "outputs": [],
      "source": []
    }
  ],
  "metadata": {
    "colab": {
      "provenance": [],
      "include_colab_link": true
    },
    "kernelspec": {
      "display_name": "Python 3",
      "name": "python3"
    },
    "language_info": {
      "codemirror_mode": {
        "name": "ipython",
        "version": 3
      },
      "file_extension": ".py",
      "mimetype": "text/x-python",
      "name": "python",
      "nbconvert_exporter": "python",
      "pygments_lexer": "ipython3",
      "version": "3.8.10"
    }
  },
  "nbformat": 4,
  "nbformat_minor": 0
}
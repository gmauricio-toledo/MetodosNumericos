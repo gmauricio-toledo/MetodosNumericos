{
  "cells": [
    {
      "cell_type": "markdown",
      "metadata": {
        "id": "view-in-github",
        "colab_type": "text"
      },
      "source": [
        "<a href=\"https://colab.research.google.com/github/gmauricio-toledo/MetodosNumericos/blob/main/Tarea6_SOL.ipynb\" target=\"_parent\"><img src=\"https://colab.research.google.com/assets/colab-badge.svg\" alt=\"Open In Colab\"/></a>"
      ]
    },
    {
      "cell_type": "markdown",
      "metadata": {
        "id": "0H94sFnCkJnU"
      },
      "source": [
        "**<h1>Tarea 6</h1>**\n",
        "\n",
        "<h3>Solución</h3>"
      ]
    },
    {
      "cell_type": "code",
      "source": [
        "import numpy as np\n",
        "\n",
        "def error_relativo(valor_real,aproximacion):\n",
        "    return np.abs((valor_real-aproximacion)/valor_real)"
      ],
      "metadata": {
        "id": "e-L1CjLk-fof"
      },
      "execution_count": 1,
      "outputs": []
    },
    {
      "cell_type": "markdown",
      "source": [
        "Implementación de la regla del trapecio compuesta, como función."
      ],
      "metadata": {
        "id": "wfB72un87aJO"
      }
    },
    {
      "cell_type": "code",
      "source": [
        "def trapecio_compuesto(f,a,b,n,prom_df2=None,int_real=None):\n",
        "    '''\n",
        "    f:          Funcion\n",
        "    [a,b]:      Intervalo de integración\n",
        "    n:          Número de subintervalos a considerar\n",
        "    prom_df2:   Promedio de la segunda derivada en el intervalo\n",
        "    int_real:   Valor real de la integral en el intervalo [a,b]\n",
        "    '''\n",
        "    if a<=b:\n",
        "        # --- Cálculo de la aproximación a la integral ---\n",
        "        nodos = np.linspace(a,b,num=n+1)\n",
        "        f_nodos_interiores = f(nodos[1:-1])\n",
        "        suma = np.sum(f_nodos_interiores)\n",
        "        aproximacion = (b-a)*(f(a)+2*suma+f(b))/(2*n)\n",
        "        resultado = {'aproximación': aproximacion}\n",
        "        # --- Cálculo del error aproximado ---\n",
        "        if int_real is not None:\n",
        "            error = error_relativo(int_real,aproximacion)\n",
        "            resultado['error relativo'] = error\n",
        "        if prom_df2 is not None:\n",
        "            error_aprox = -(prom_df2*(b-a)**3)/(12*n**2)\n",
        "            resultado['error aproximado'] = error_aprox\n",
        "        return resultado"
      ],
      "metadata": {
        "id": "dXRwo_ok7YGF"
      },
      "execution_count": 4,
      "outputs": []
    },
    {
      "cell_type": "code",
      "source": [
        "def simpson_compuesta(f,a,b,n,prom_df4=None,int_real=None):\n",
        "    '''\n",
        "    f:          Funcion\n",
        "    [a,b]:      Intervalo de integración\n",
        "    n:          Número de subintervalos a considerar\n",
        "    prom_df4:   Promedio de la segunda derivada en el intervalo\n",
        "    int_real:   Valor real de la integral en el intervalo [a,b]\n",
        "    '''\n",
        "    if a<=b and n%2==0: # Hay que verificar que el número de subintervalos sea par\n",
        "        # --- Cálculo de la aproximación a la integral ---\n",
        "        h = (b-a)/n\n",
        "        nodos = np.linspace(a,b,n+1)\n",
        "        suma_nodos_pares = 0\n",
        "        suma_nodos_impares = 0\n",
        "        for j in range(n//2):\n",
        "            suma_nodos_impares += f(a + (2*j+1)*h)\n",
        "        for j in range(1,n//2):\n",
        "            suma_nodos_pares += f(a + (2*j)*h)\n",
        "        aproximacion = (b-a)*(f(a)+4*suma_nodos_impares+2*suma_nodos_pares+f(b))/(3*n)\n",
        "        resultado = {'aproximación': aproximacion}\n",
        "        # --- Cálculo del error aproximado ---\n",
        "        if int_real is not None:\n",
        "            error = error_relativo(int_real,aproximacion)\n",
        "            resultado['error relativo'] = error\n",
        "        if prom_df4 is not None:\n",
        "            error_aprox = -(prom_df4*(b-a)**5)/(180*n**4)\n",
        "            resultado['error aproximado'] = error_aprox\n",
        "        return resultado\n",
        "    else:\n",
        "        print(\"revisar los parámetros\")"
      ],
      "metadata": {
        "id": "xmQshGTjHHLF"
      },
      "execution_count": 6,
      "outputs": []
    },
    {
      "cell_type": "markdown",
      "metadata": {
        "id": "X7-Mg-P5kp7j"
      },
      "source": [
        "# Ejercicio 1"
      ]
    },
    {
      "cell_type": "markdown",
      "source": [
        "**(a)** Si integramos analíticamente usando integración por partes obtenemos\n",
        "\n",
        "$$\\int_0^5 x e^{-x} dx =  1 - \\frac{6}{e^5} \\approx 0.95957$$\n",
        "\n"
      ],
      "metadata": {
        "id": "86ULhnPrEb_V"
      }
    },
    {
      "cell_type": "code",
      "source": [
        "from numpy import e\n",
        "\n",
        "def f(x):\n",
        "    return x*e**(-x)\n",
        "\n",
        "valor_real = 0.95957"
      ],
      "metadata": {
        "id": "_TnzJ4KbInJv"
      },
      "execution_count": 10,
      "outputs": []
    },
    {
      "cell_type": "markdown",
      "source": [
        "**(b)** Aproximamos la integral usando la regla del trapecio con 20 subintérvalos."
      ],
      "metadata": {
        "id": "Vn0py7ANFVX0"
      }
    },
    {
      "cell_type": "code",
      "source": [
        "trapecio_compuesto(f,0,5,n=20,int_real=valor_real)"
      ],
      "metadata": {
        "id": "UIRvl3h3Afeh",
        "outputId": "d58acc66-0d8e-4ddf-a7d4-b483d5e948a4",
        "colab": {
          "base_uri": "https://localhost:8080/"
        }
      },
      "execution_count": 11,
      "outputs": [
        {
          "output_type": "execute_result",
          "data": {
            "text/plain": [
              "{'aproximación': 0.9542399196501983, 'error relativo': 0.005554655053619598}"
            ]
          },
          "metadata": {},
          "execution_count": 11
        }
      ]
    },
    {
      "cell_type": "markdown",
      "source": [
        "**(c)** Aproximamos la integral usando la regla de Simpson compuesta con 20 subintérvalos."
      ],
      "metadata": {
        "id": "EJQUivjMFf1O"
      }
    },
    {
      "cell_type": "code",
      "source": [
        "simpson_compuesta(f,0,5,n=20,int_real=valor_real)"
      ],
      "metadata": {
        "id": "RsxzyqmHIkwD",
        "outputId": "3e597f6c-e18a-44fe-da80-48d18ff03752",
        "colab": {
          "base_uri": "https://localhost:8080/"
        }
      },
      "execution_count": 12,
      "outputs": [
        {
          "output_type": "execute_result",
          "data": {
            "text/plain": [
              "{'aproximación': 0.9595077213936274, 'error relativo': 6.490261926972027e-05}"
            ]
          },
          "metadata": {},
          "execution_count": 12
        }
      ]
    },
    {
      "cell_type": "markdown",
      "source": [
        "El método de Simpson dió un error relativo más bajo."
      ],
      "metadata": {
        "id": "La4Be1fvJAZv"
      }
    },
    {
      "cell_type": "markdown",
      "metadata": {
        "id": "-HroWvLbmVzf"
      },
      "source": [
        "# Ejercicio 2"
      ]
    },
    {
      "cell_type": "markdown",
      "source": [
        "**No les expliqué cómo implementar esta variación de las reglas de integración. Si alguien lo hizo correctamente se lo tomaré como extra. De lo contrario, no tomaré en cuenta este ejercicio**"
      ],
      "metadata": {
        "id": "myYM5MjLLf4n"
      }
    },
    {
      "cell_type": "markdown",
      "source": [
        "Ejecutar la siguiente celda para cargar el archivo de texto del ejercicio 2 en un arreglo de numpy llamado `datos`.\n",
        "\n",
        "**No es necesario entender o modificar esta celda, sólo ejecútala**"
      ],
      "metadata": {
        "id": "KJnahpEu0EAl"
      }
    },
    {
      "cell_type": "code",
      "execution_count": 20,
      "metadata": {
        "id": "ilfwwTtvis-j",
        "outputId": "cb6c47f9-3605-460e-a892-cf99dab72dfd",
        "colab": {
          "base_uri": "https://localhost:8080/"
        }
      },
      "outputs": [
        {
          "output_type": "stream",
          "name": "stdout",
          "text": [
            "Collecting wget\n",
            "  Downloading wget-3.2.zip (10 kB)\n",
            "  Preparing metadata (setup.py) ... \u001b[?25l\u001b[?25hdone\n",
            "Building wheels for collected packages: wget\n",
            "  Building wheel for wget (setup.py) ... \u001b[?25l\u001b[?25hdone\n",
            "  Created wheel for wget: filename=wget-3.2-py3-none-any.whl size=9657 sha256=d08052f47069a90a59e306a8f9d11fc71cf2b2f55ea815df2d8e9c3f6943ca5f\n",
            "  Stored in directory: /root/.cache/pip/wheels/8b/f1/7f/5c94f0a7a505ca1c81cd1d9208ae2064675d97582078e6c769\n",
            "Successfully built wget\n",
            "Installing collected packages: wget\n",
            "Successfully installed wget-3.2\n"
          ]
        }
      ],
      "source": [
        "!pip install wget\n",
        "\n",
        "import wget\n",
        "import numpy as np\n",
        "\n",
        "url = \"https://raw.githubusercontent.com/gmauricio-toledo/numerical-methods/master/datos.txt\"\n",
        "fname = url.split('/')[-1]\n",
        "wget.download(url, fname)\n",
        "\n",
        "datos = np.loadtxt(fname=fname,delimiter=',')"
      ]
    },
    {
      "cell_type": "markdown",
      "source": [
        "Puedes verificar que el arreglo se ha cargado correctamente:"
      ],
      "metadata": {
        "id": "q19C2_q00SDj"
      }
    },
    {
      "cell_type": "code",
      "source": [
        "print(datos)"
      ],
      "metadata": {
        "id": "LLpgOmkR0RUJ",
        "outputId": "7a2c4547-21da-4e84-cfd0-1a0f19631ab3",
        "colab": {
          "base_uri": "https://localhost:8080/"
        }
      },
      "execution_count": 21,
      "outputs": [
        {
          "output_type": "stream",
          "name": "stdout",
          "text": [
            "[[-3.000000e+00  2.444290e+01]\n",
            " [-2.741900e+00  4.036090e+01]\n",
            " [-2.483900e+00  5.099270e+01]\n",
            " [-2.225800e+00  6.223780e+01]\n",
            " [-1.967700e+00  7.139190e+01]\n",
            " [-1.709700e+00  7.782020e+01]\n",
            " [-1.451600e+00  8.585100e+01]\n",
            " [-1.193500e+00  8.929850e+01]\n",
            " [-9.355000e-01  9.366080e+01]\n",
            " [-6.774000e-01  9.571730e+01]\n",
            " [-4.194000e-01  9.919320e+01]\n",
            " [-1.613000e-01  9.971780e+01]\n",
            " [ 9.680000e-02  9.986840e+01]\n",
            " [ 3.548000e-01  9.948160e+01]\n",
            " [ 6.129000e-01  9.994230e+01]\n",
            " [ 8.710000e-01  9.949310e+01]\n",
            " [ 1.129000e+00  9.604870e+01]\n",
            " [ 1.387100e+00  9.419480e+01]\n",
            " [ 1.645200e+00  9.231690e+01]\n",
            " [ 1.903200e+00  9.024870e+01]\n",
            " [ 2.161300e+00  8.884260e+01]\n",
            " [ 2.419400e+00  8.717590e+01]\n",
            " [ 2.677400e+00  8.631270e+01]\n",
            " [ 2.935500e+00  8.458370e+01]\n",
            " [ 3.193500e+00  8.424330e+01]\n",
            " [ 3.451600e+00  8.415830e+01]\n",
            " [ 3.709700e+00  8.573370e+01]\n",
            " [ 3.967700e+00  8.623840e+01]\n",
            " [ 4.225800e+00  9.032920e+01]\n",
            " [ 4.483900e+00  9.387690e+01]\n",
            " [ 4.741900e+00  9.925700e+01]\n",
            " [ 5.000000e+00  1.042416e+02]]\n"
          ]
        }
      ]
    },
    {
      "cell_type": "markdown",
      "metadata": {
        "id": "iwwQpb61qx-2"
      },
      "source": [
        "# Ejercicio 3"
      ]
    },
    {
      "cell_type": "code",
      "execution_count": 17,
      "metadata": {
        "id": "tBCb_r8vqx-4"
      },
      "outputs": [],
      "source": [
        "from numpy import e\n",
        "\n",
        "def f(x):\n",
        "    return e**(-x**2)\n",
        "\n",
        "promedio_2da_derivada = -0.146525111    # Realizando f'(2)-f'(-2)\n",
        "promedio_4ta_derivada = -1.465251111    # Realizando f'''(2)-f'''(-2)"
      ]
    },
    {
      "cell_type": "markdown",
      "source": [
        "**(a)** Esta integral no puede realizarse de manera analítica"
      ],
      "metadata": {
        "id": "70GLDx6oKKaU"
      }
    },
    {
      "cell_type": "markdown",
      "source": [
        "**(b)** Aproximamos la integral usando la regla del trapecio con 100 subintervalos"
      ],
      "metadata": {
        "id": "wQilwZq-KQMX"
      }
    },
    {
      "cell_type": "code",
      "source": [
        "trapecio_compuesto(f,-2,2,n=100,\n",
        "                   prom_df2=promedio_2da_derivada)"
      ],
      "metadata": {
        "id": "wBLGwsHnKIrs",
        "outputId": "0e006b96-3546-41d7-fb98-774a7a85f25d",
        "colab": {
          "base_uri": "https://localhost:8080/"
        }
      },
      "execution_count": 18,
      "outputs": [
        {
          "output_type": "execute_result",
          "data": {
            "text/plain": [
              "{'aproximación': 1.7641432500532226, 'error aproximado': 7.814672586666668e-05}"
            ]
          },
          "metadata": {},
          "execution_count": 18
        }
      ]
    },
    {
      "cell_type": "code",
      "source": [
        "simpson_compuesta(f,-2,2,n=100,\n",
        "                  prom_df4=promedio_4ta_derivada)"
      ],
      "metadata": {
        "id": "qE0uW1UoKb4O",
        "outputId": "4276ad60-b385-4b8b-b782-8196b813955e",
        "colab": {
          "base_uri": "https://localhost:8080/"
        }
      },
      "execution_count": 19,
      "outputs": [
        {
          "output_type": "execute_result",
          "data": {
            "text/plain": [
              "{'aproximación': 1.7641627606841808, 'error aproximado': 8.3356507648e-08}"
            ]
          },
          "metadata": {},
          "execution_count": 19
        }
      ]
    },
    {
      "cell_type": "markdown",
      "source": [
        "Una vez más, el método de Simpson produjo aproximaciones más cercanas."
      ],
      "metadata": {
        "id": "Z1paoMoILRzc"
      }
    }
  ],
  "metadata": {
    "colab": {
      "provenance": [],
      "include_colab_link": true
    },
    "kernelspec": {
      "display_name": "Python 3",
      "name": "python3"
    },
    "language_info": {
      "codemirror_mode": {
        "name": "ipython",
        "version": 3
      },
      "file_extension": ".py",
      "mimetype": "text/x-python",
      "name": "python",
      "nbconvert_exporter": "python",
      "pygments_lexer": "ipython3",
      "version": "3.8.10"
    }
  },
  "nbformat": 4,
  "nbformat_minor": 0
}
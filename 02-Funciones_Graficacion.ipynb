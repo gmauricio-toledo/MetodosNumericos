{
  "nbformat": 4,
  "nbformat_minor": 0,
  "metadata": {
    "colab": {
      "provenance": [],
      "toc_visible": true,
      "include_colab_link": true
    },
    "kernelspec": {
      "name": "python3",
      "display_name": "Python 3"
    },
    "language_info": {
      "name": "python"
    }
  },
  "cells": [
    {
      "cell_type": "markdown",
      "metadata": {
        "id": "view-in-github",
        "colab_type": "text"
      },
      "source": [
        "<a href=\"https://colab.research.google.com/github/gmauricio-toledo/MetodosNumericos/blob/main/02-Funciones_Graficacion.ipynb\" target=\"_parent\"><img src=\"https://colab.research.google.com/assets/colab-badge.svg\" alt=\"Open In Colab\"/></a>"
      ]
    },
    {
      "cell_type": "markdown",
      "source": [
        "<h1>Introducción a Python</h1>\n",
        "\n",
        "<h3>Métodos Numéricos y Programación</h3>\n",
        "<h4>Dr. Mauricio Toledo Acosta</h4>\n",
        "\n",
        "\n",
        "---\n",
        "\n"
      ],
      "metadata": {
        "id": "vgJ5WK_13w2X"
      }
    },
    {
      "cell_type": "markdown",
      "source": [
        "![python-logo.png](data:image/png;base64,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)"
      ],
      "metadata": {
        "id": "JgeWCMquz1wK"
      }
    },
    {
      "cell_type": "markdown",
      "source": [
        "# Funciones"
      ],
      "metadata": {
        "id": "lf02LwQkVbNG"
      }
    },
    {
      "cell_type": "markdown",
      "source": [
        "En Python, una **función es un bloque de código organizado, reutilizable (DRY- Don't Repeat Yourself) con un nombre** que se utiliza para realizar una única tarea específica. Puede tomar argumentos y puede devuelve algún valor.\n",
        "\n",
        "Las funciones ayudan a dividir nuestro programa en partes más pequeñas y modulares. A medida que nuestro programa se hace más grande, las funciones lo hacen más organizado y manejable.\n",
        "\n",
        "Además, mejoran la eficiencia y reducen los errores gracias a la reutilización de un código.\n",
        "\n",
        "**<h4>Tipos de funciones</h4>**\n",
        "\n",
        "Python soporta dos tipos de funciones\n",
        "\n",
        "1. **Función Built-in**: Las funciones que vienen con Python se denominan funciones incorporadas o predefinidas. Algunas de ellas son:\n",
        "\n",
        "        `range()`, `print()`, `input()`, `type()`, `id()`, `eval()`, ...\n",
        "\n",
        "2. **Función definida por el usuario**: Son funciones creadas explícitamente por el programador según los requisitos respectivos."
      ],
      "metadata": {
        "id": "VfBB-LAHfqnL"
      }
    },
    {
      "cell_type": "markdown",
      "source": [
        "**Syntaxis:**\n",
        "\n",
        "```python\n",
        "def function_name(parameter1, parameter2, ...):\n",
        "    '''\n",
        "    Descripción ... # <---- descripción de la función (opcional)\n",
        "    '''  \n",
        "    # function body    \n",
        "    return value # Opcional\n",
        "```\n",
        "\n",
        "<div>\n",
        "<img src=\"https://github.com/gmauricio-toledo/MetodosNumericos/blob/main/img/f1.png?raw=1\" width=\"550\"/>\n",
        "</div>"
      ],
      "metadata": {
        "id": "p2_aqbT4o2xw"
      }
    },
    {
      "cell_type": "markdown",
      "source": [
        "**Ejemplo:** Una función sin parámetros ni `return`"
      ],
      "metadata": {
        "id": "pUM4bPudp-Tj"
      }
    },
    {
      "cell_type": "code",
      "source": [
        "def saludar():\n",
        "    print(\"Welcome to Python\")"
      ],
      "metadata": {
        "id": "lyo6l2ZDfrNL"
      },
      "execution_count": null,
      "outputs": []
    },
    {
      "cell_type": "code",
      "source": [
        "saludar()\n",
        "# saludar()"
      ],
      "metadata": {
        "id": "ObMHYfCTqIwX"
      },
      "execution_count": null,
      "outputs": []
    },
    {
      "cell_type": "markdown",
      "source": [
        "**Ejemplo:** Una función sin parámetros y que regrese un valor"
      ],
      "metadata": {
        "id": "C3j2B9vrqaXX"
      }
    },
    {
      "cell_type": "code",
      "source": [
        "def sumar_numeros():\n",
        "    numero_1 = 3\n",
        "    numero_2 = 6\n",
        "    total = numero_1 + numero_2\n",
        "    return total"
      ],
      "metadata": {
        "id": "R3SCRe8qqe4u"
      },
      "execution_count": null,
      "outputs": []
    },
    {
      "cell_type": "code",
      "source": [
        "sumar_numeros()"
      ],
      "metadata": {
        "id": "KzEK1DgtqyBO"
      },
      "execution_count": null,
      "outputs": []
    },
    {
      "cell_type": "markdown",
      "source": [
        "**Ejemplo:** Una función con parámetros y que regresa un valor"
      ],
      "metadata": {
        "id": "FSzAY77Mq-lQ"
      }
    },
    {
      "cell_type": "code",
      "source": [
        "def convertir_km_millas(x):\n",
        "    y = 0.621371*x\n",
        "    return y\n",
        "\n",
        "def sumar_dos_numeros(x,y):\n",
        "    z = x+y\n",
        "    return z"
      ],
      "metadata": {
        "id": "8h2GTuxqrEXv"
      },
      "execution_count": null,
      "outputs": []
    },
    {
      "cell_type": "code",
      "source": [
        "convertir_km_millas(6.5)"
      ],
      "metadata": {
        "id": "pQkkkxb4rL6M"
      },
      "execution_count": null,
      "outputs": []
    },
    {
      "cell_type": "code",
      "source": [
        "sumar_dos_numeros(3.04,-4.62)"
      ],
      "metadata": {
        "id": "4vFA_O6lrY-N"
      },
      "execution_count": null,
      "outputs": []
    },
    {
      "cell_type": "markdown",
      "source": [
        "**Ejemplo:** Una función también puede regresar otro tipo de valores"
      ],
      "metadata": {
        "id": "hx4EWIuGr_tm"
      }
    },
    {
      "cell_type": "code",
      "source": [
        "from math import fabs\n",
        "\n",
        "def son_cercanos(x,y):\n",
        "    if fabs(x-y)<0.5:\n",
        "        return True\n",
        "    else:\n",
        "        return False"
      ],
      "metadata": {
        "id": "oRXQryifr9ti"
      },
      "execution_count": null,
      "outputs": []
    },
    {
      "cell_type": "code",
      "source": [
        "son_cercanos(3,6.5)"
      ],
      "metadata": {
        "id": "Xe6wj7NOsTJG"
      },
      "execution_count": null,
      "outputs": []
    },
    {
      "cell_type": "markdown",
      "source": [
        "Una función también puede tomar argumentos nombrados"
      ],
      "metadata": {
        "id": "YvUsrJnqsnqa"
      }
    },
    {
      "cell_type": "code",
      "source": [
        "def dividir(dividendo,divisor):\n",
        "    cociente = dividendo//divisor\n",
        "    residuo = dividendo%divisor\n",
        "    return (cociente,residuo) # Regresamos una tupla\n",
        "\n",
        "# def dividir(dividendo,divisor):\n",
        "#     cociente = dividendo//divisor\n",
        "#     residuo = dividendo%divisor\n",
        "#     return {'cociente':cociente, 'residuo':residuo} # Regresamos un diccionario"
      ],
      "metadata": {
        "id": "8w4UiBQhsrio"
      },
      "execution_count": null,
      "outputs": []
    },
    {
      "cell_type": "code",
      "source": [
        "dividir(divisor=13,dividendo=152)"
      ],
      "metadata": {
        "id": "x1pgyX4ts9mV"
      },
      "execution_count": null,
      "outputs": []
    },
    {
      "cell_type": "code",
      "source": [
        "x = dividir(divisor=13,dividendo=152)\n",
        "\n",
        "print(x)\n",
        "\n",
        "# x['residuo']"
      ],
      "metadata": {
        "id": "EbL7Fz9ltS5p"
      },
      "execution_count": null,
      "outputs": []
    },
    {
      "cell_type": "markdown",
      "source": [
        "# Graficación"
      ],
      "metadata": {
        "id": "OAQZrYuHVchj"
      }
    },
    {
      "cell_type": "markdown",
      "source": [
        "[Matplotlib](https://matplotlib.org/stable/users/index) es una biblioteca muy completa para crear visualizaciones estáticas, animadas e interactivas en Python. El submodulo [pyplot](https://matplotlib.org/3.5.3/api/_as_gen/matplotlib.pyplot.html) es la interface de matplotlib con el usuario.\n",
        "\n",
        "Se acostumbra importar como"
      ],
      "metadata": {
        "id": "t-gL8R90ZJS5"
      }
    },
    {
      "cell_type": "code",
      "source": [
        "import matplotlib.pyplot as plt"
      ],
      "metadata": {
        "id": "4BhTyMmQYnQi"
      },
      "execution_count": null,
      "outputs": []
    },
    {
      "cell_type": "markdown",
      "source": [
        "Una de las clases fundamentales para graficar es [Figure](https://matplotlib.org/3.5.3/api/_as_gen/matplotlib.pyplot.figure.html).\n",
        "\n",
        "Otra clase importante es [Axes](https://matplotlib.org/stable/api/_as_gen/matplotlib.axes.Axes.html#matplotlib.axes.Axes), la cual sirve para crear subfiguras dentro de una `Figure`.\n",
        "\n",
        "Con el método `show()` podemos mostrar la figura creada."
      ],
      "metadata": {
        "id": "lp6V_9TppYFG"
      }
    },
    {
      "cell_type": "code",
      "source": [
        "plt.figure()\n",
        "plt.show()"
      ],
      "metadata": {
        "id": "XfiTlMNopqjs"
      },
      "execution_count": null,
      "outputs": []
    },
    {
      "cell_type": "markdown",
      "source": [
        "Hay varios métodos para añadir *información* a la figura:\n",
        "\n",
        "* Una gráfica ([plot](https://matplotlib.org/stable/api/_as_gen/matplotlib.pyplot.plot.html))\n",
        "* Puntos ([scatter](https://matplotlib.org/stable/api/_as_gen/matplotlib.pyplot.scatter.html))\n",
        "* Histogramas ([hist](https://matplotlib.org/stable/api/_as_gen/matplotlib.pyplot.hist.html))\n",
        "* Boxplots ([boxplot](https://matplotlib.org/3.1.1/api/_as_gen/matplotlib.pyplot.boxplot.html))\n",
        "* Imágenes ([imshow](https://matplotlib.org/stable/api/_as_gen/matplotlib.pyplot.imshow.html))\n",
        "* ..."
      ],
      "metadata": {
        "id": "3bpieIHAp7Rb"
      }
    },
    {
      "cell_type": "markdown",
      "source": [
        "**Ejemplo:** Graficar varios puntos en el plano"
      ],
      "metadata": {
        "id": "3XXCD9-WspRi"
      }
    },
    {
      "cell_type": "code",
      "source": [
        "coordenadas_x = [-1,0,2,0.5,3.5]    # Coordenadas en x\n",
        "coordenadas_y = [1,3,-1,-3,4]     # Coordenadas en y\n",
        "\n",
        "plt.figure()\n",
        "plt.scatter(coordenadas_x,coordenadas_y)\n",
        "# Podríamos agregar más parámetros para personalizar la gráfica\n",
        "# plt.scatter(coordenadas_x,coordenadas_y,\n",
        "#             alpha=0.75,\n",
        "#             s=80,\n",
        "#             c='red',\n",
        "#             marker='x',\n",
        "#             linewidth=3\n",
        "#             )\n",
        "# # ------------------\n",
        "plt.show()"
      ],
      "metadata": {
        "id": "T7WjpxExpuI1"
      },
      "execution_count": null,
      "outputs": []
    },
    {
      "cell_type": "markdown",
      "source": [
        "**Ejemplo:** Graficar la función\n",
        "$$f(x)=\\frac{\\sqrt{x}}{1-\\sqrt{x}}$$\n",
        "en el intervalo [0,1] graficando varios puntos en el plano y uniéndolos con líneas."
      ],
      "metadata": {
        "id": "1yPsN8G3s1kg"
      }
    },
    {
      "cell_type": "code",
      "source": [
        "import math\n",
        "\n",
        "def f(x):\n",
        "    return math.sqrt(x)/(1-math.sqrt(x))\n",
        "\n",
        "valores_x = []  # Aquí guardaremos las coordenadas en x\n",
        "valores_y = []  # Aquí guardaremos las coordenadas en x\n",
        "\n",
        "for k in range(20):\n",
        "    x = 0.05*k # Calculamos el valor de x\n",
        "    valores_x.append(x)\n",
        "    valores_y.append(f(x))\n",
        "\n",
        "plt.figure()\n",
        "plt.plot(valores_x,valores_y)\n",
        "# plt.scatter(valores_x,valores_y,color='black')\n",
        "plt.axhline(0,color='gray')\n",
        "plt.axvline(0,color='gray')\n",
        "plt.xlabel(\"x\")\n",
        "plt.ylabel(\"f(x)\")\n",
        "plt.show()"
      ],
      "metadata": {
        "id": "15TOb8hsx4qn"
      },
      "execution_count": null,
      "outputs": []
    },
    {
      "cell_type": "markdown",
      "source": [
        "#🔴 Ejercicios"
      ],
      "metadata": {
        "id": "HZd9BvJdDXnO"
      }
    },
    {
      "cell_type": "markdown",
      "source": [
        "🔶 1. Escribe una función que calcule el error absoluto y el error  relativo entre dos valores."
      ],
      "metadata": {
        "id": "bXAZnaxhDcK-"
      }
    },
    {
      "cell_type": "code",
      "source": [
        "# Solución:\n"
      ],
      "metadata": {
        "id": "GIx5EVT-Ecjv"
      },
      "execution_count": null,
      "outputs": []
    },
    {
      "cell_type": "markdown",
      "source": [
        "🔶 2. Calcula y grafica los errores relativos entre el valor real y las siguientes aproximaciones.\n",
        "\n",
        "    valor_real = 4.5\n",
        "    Aproximaciones sucesivas = 2.5, 3.5, 3.9, 4, 3.9, 4.2, 4.6, 4.55, 4.503\n",
        "\n",
        "<div>\n",
        "<img src=\"https://github.com/gmauricio-toledo/MetodosNumericos/blob/main/img/errores.png?raw=1\" width=\"550\"/>\n",
        "</div>"
      ],
      "metadata": {
        "id": "bKrsslKYEVmC"
      }
    },
    {
      "cell_type": "code",
      "source": [
        "# Solución:\n"
      ],
      "metadata": {
        "id": "SQir4E2PDbPw"
      },
      "execution_count": null,
      "outputs": []
    }
  ]
}
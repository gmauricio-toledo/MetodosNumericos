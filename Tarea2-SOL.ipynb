{
  "cells": [
    {
      "cell_type": "markdown",
      "metadata": {
        "id": "view-in-github",
        "colab_type": "text"
      },
      "source": [
        "<a href=\"https://colab.research.google.com/github/gmauricio-toledo/MetodosNumericos/blob/main/Tarea2-SOL.ipynb\" target=\"_parent\"><img src=\"https://colab.research.google.com/assets/colab-badge.svg\" alt=\"Open In Colab\"/></a>"
      ]
    },
    {
      "cell_type": "code",
      "execution_count": null,
      "metadata": {
        "id": "tMcBtf_A4lo0"
      },
      "outputs": [],
      "source": [
        "import numpy as np\n",
        "import matplotlib.pyplot as plt\n",
        "from math import fabs"
      ]
    },
    {
      "cell_type": "markdown",
      "metadata": {
        "id": "x1Pgr9Rw4lo5"
      },
      "source": [
        "Función para graficar y para el error relativo"
      ]
    },
    {
      "cell_type": "code",
      "execution_count": null,
      "metadata": {
        "id": "Ngli2s0f4lo7"
      },
      "outputs": [],
      "source": [
        "def graficar(f,a,b,num=100):\n",
        "    eje_x = np.linspace(start=a,\n",
        "                    stop=b,\n",
        "                    num=num)\n",
        "    eje_y = [f(x) for x in eje_x]  # Listas de compresión\n",
        "    plt.figure(figsize=(7,5))\n",
        "    plt.plot(eje_x,eje_y,color='red')\n",
        "    plt.axhline(0,color='gray') # Dibujar eje X\n",
        "    plt.show()\n",
        "\n",
        "def error_relativo(x_real,x_aprox):\n",
        "    return fabs(x_real-x_aprox)/fabs(x_real)"
      ]
    },
    {
      "cell_type": "markdown",
      "metadata": {
        "id": "KLTPCIQX4lo-"
      },
      "source": [
        "Método de la bisección. El método está implementado como una función que regresa un diccionario con la raiz encontrada, el error final y el número de interaciones necesarias para obtener la raiz deseada."
      ]
    },
    {
      "cell_type": "code",
      "execution_count": null,
      "metadata": {
        "id": "XwodavEP4lo_"
      },
      "outputs": [],
      "source": [
        "def biseccion(f,xl,xu,tol):\n",
        "    x_m = xl\n",
        "    error = 2*tol\n",
        "    n_iteraciones = 0\n",
        "    while (error>tol):\n",
        "        n_iteraciones += 1\n",
        "        x_m_old = x_m\n",
        "        x_m = (xl+xu)/2\n",
        "        if x_m != 0:\n",
        "            error = error_relativo(x_m,x_m_old)\n",
        "        test = f(xl)*f(x_m)\n",
        "        if test<0:\n",
        "            xu = x_m\n",
        "        elif test>0:\n",
        "            xl = x_m\n",
        "        else:\n",
        "            error = 0\n",
        "    return {'raiz': x_m,\n",
        "            'error': error,\n",
        "            'iteraciones': n_iteraciones\n",
        "            }"
      ]
    },
    {
      "cell_type": "markdown",
      "metadata": {
        "id": "4wKYzpbA4lpB"
      },
      "source": [
        "Método de la falsa posición. El método está implementado como una función que regresa un diccionario con la raiz encontrada, el error final y el número de interaciones necesarias para obtener la raiz deseada."
      ]
    },
    {
      "cell_type": "code",
      "execution_count": null,
      "metadata": {
        "id": "aZXEROUa4lpC"
      },
      "outputs": [],
      "source": [
        "def falsa_posicion(f,xl,xu,tol):\n",
        "    x_m = xl\n",
        "    error = 2*tol\n",
        "    n_iteraciones = 0\n",
        "    while (error>tol):\n",
        "        n_iteraciones += 1\n",
        "        x_m_old = x_m\n",
        "        x_m = xu - (f(xu)*(xl-xu))/(f(xl)-f(xu))\n",
        "        if x_m != 0:\n",
        "            error = error_relativo(x_m,x_m_old)\n",
        "        test = f(xl)*f(x_m)\n",
        "        if test<0:\n",
        "            xu = x_m\n",
        "        elif test>0:\n",
        "            xl = x_m\n",
        "        else:\n",
        "            error = 0\n",
        "    return {'raiz': x_m,\n",
        "            'error': error,\n",
        "            'iteraciones': n_iteraciones\n",
        "            }"
      ]
    },
    {
      "cell_type": "markdown",
      "metadata": {
        "id": "CW-Bc4gm4lpE"
      },
      "source": [
        "# Ejercicio 1"
      ]
    },
    {
      "cell_type": "markdown",
      "metadata": {
        "id": "0wDGHULb4lpF"
      },
      "source": [
        "Primero, convertir el problema en un problema de encontrar la raiz de una ecuación:\n",
        "\n",
        "$$x^3-9x^2+26x-23.8=0 $$\n",
        "\n",
        "y entonces, la función que usaremos es\n",
        "\n",
        "$$f(x)=x^3-9x^2+26x-23.8$$"
      ]
    },
    {
      "cell_type": "code",
      "execution_count": null,
      "metadata": {
        "id": "6L_Gge6E4lpH"
      },
      "outputs": [],
      "source": [
        "def f(x):\n",
        "    y = x**3 - 9*x**2 + 26*x - 23.8\n",
        "    return y"
      ]
    },
    {
      "cell_type": "code",
      "execution_count": null,
      "metadata": {
        "id": "Z3Nbwf5d4lpI",
        "outputId": "f9e8fcda-f27b-4c9c-ca1d-065decf9d78e"
      },
      "outputs": [
        {
          "data": {
            "image/png": "[encoded data removed]",
            "text/plain": [
              "<Figure size 504x360 with 1 Axes>"
            ]
          },
          "metadata": {
            "needs_background": "light"
          },
          "output_type": "display_data"
        }
      ],
      "source": [
        "graficar(f,1.5,4.5)"
      ]
    },
    {
      "cell_type": "markdown",
      "metadata": {
        "id": "CanPZ3X14lpJ"
      },
      "source": [
        "Usando el método de la bisección"
      ]
    },
    {
      "cell_type": "code",
      "execution_count": null,
      "metadata": {
        "id": "oifObvfu4lpK",
        "outputId": "188672ae-24ba-4c29-cf47-17501cd003e0"
      },
      "outputs": [
        {
          "name": "stdout",
          "output_type": "stream",
          "text": [
            "Solución aproximada: 1.911966323852539\n",
            "Error relativo aproximado: 9.975848470852066e-07\n",
            "Evaluación: 6.086332753341139e-07\n",
            "Número de iteraciones necesarias: 20\n"
          ]
        }
      ],
      "source": [
        "x_0 = 0\n",
        "x_1 = 2\n",
        "tolerancia = 0.000001\n",
        "\n",
        "resultado = biseccion(f,0,2,tolerancia)\n",
        "\n",
        "raiz = resultado['raiz']\n",
        "error = resultado['error']\n",
        "iteraciones = resultado['iteraciones']\n",
        "\n",
        "print(f\"Solución aproximada: {raiz}\")\n",
        "print(f\"Error relativo aproximado: {error}\")\n",
        "print(f\"Evaluación: {f(raiz)}\")\n",
        "print(f\"Número de iteraciones necesarias: {iteraciones}\")"
      ]
    },
    {
      "cell_type": "markdown",
      "metadata": {
        "id": "M2yubOvB4lpK"
      },
      "source": [
        "Usando el método de la falsa posición"
      ]
    },
    {
      "cell_type": "code",
      "execution_count": null,
      "metadata": {
        "id": "RidXoSRF4lpK",
        "outputId": "a44b911d-3a28-4395-b445-ac06e57c7f93"
      },
      "outputs": [
        {
          "name": "stdout",
          "output_type": "stream",
          "text": [
            "Solución aproximada: 1.9119724533086446\n",
            "Error relativo aproximado: 8.586677232438753e-07\n",
            "Evaluación: 1.624752270501517e-05\n",
            "Número de iteraciones necesarias: 42\n"
          ]
        }
      ],
      "source": [
        "x_0 = 0\n",
        "x_1 = 2\n",
        "tolerancia = 0.000001\n",
        "\n",
        "resultado = falsa_posicion(f,0,2,tolerancia)\n",
        "\n",
        "raiz = resultado['raiz']\n",
        "error = resultado['error']\n",
        "iteraciones = resultado['iteraciones']\n",
        "\n",
        "print(f\"Solución aproximada: {raiz}\")\n",
        "print(f\"Error relativo aproximado: {error}\")\n",
        "print(f\"Evaluación: {f(raiz)}\")\n",
        "print(f\"Número de iteraciones necesarias: {iteraciones}\")"
      ]
    },
    {
      "cell_type": "markdown",
      "metadata": {
        "id": "Y_F6hTSH4lpM"
      },
      "source": [
        "# Ejercicio 2"
      ]
    },
    {
      "cell_type": "markdown",
      "metadata": {
        "id": "z_iPGZJZ4lpM"
      },
      "source": [
        "Primero, convertir el problema en un problema de encontrar la raiz de una ecuación:\n",
        "\n",
        "$$v - \\sqrt{2gH}\\tanh\\left(\\frac{\\sqrt{2gH}}{2L}t\\right)=0 $$\n",
        "\n",
        "y entonces, la función que usaremos es\n",
        "\n",
        "$$f(H)=v - \\sqrt{2gH}\\tanh\\left(\\frac{\\sqrt{2gH}}{2L}t\\right)$$\n",
        "\n",
        "con $v=5 m/s$, $t=2.5s$, $L=4m$ y $g=9.81 m/s^2$."
      ]
    },
    {
      "cell_type": "code",
      "execution_count": null,
      "metadata": {
        "id": "4Uk5azzw4lpM"
      },
      "outputs": [],
      "source": [
        "from math import tanh, sqrt\n",
        "\n",
        "v = 5\n",
        "L = 4\n",
        "g = 9.81\n",
        "t = 2.5\n",
        "\n",
        "def f(H):\n",
        "    return v-sqrt(2*g*H)*tanh((sqrt(2*g*H)*t)/(2*L))"
      ]
    },
    {
      "cell_type": "code",
      "execution_count": null,
      "metadata": {
        "id": "VOP7LU7r4lpM",
        "outputId": "eb90ab35-c2f4-45df-a5a4-e0c2b2013c58"
      },
      "outputs": [
        {
          "data": {
            "image/png": "[encoded data removed]",
            "text/plain": [
              "<Figure size 504x360 with 1 Axes>"
            ]
          },
          "metadata": {
            "needs_background": "light"
          },
          "output_type": "display_data"
        }
      ],
      "source": [
        "graficar(f,0,3)"
      ]
    },
    {
      "cell_type": "markdown",
      "metadata": {
        "id": "oJKAmI_44lpN"
      },
      "source": [
        "Usando el método de la bisección"
      ]
    },
    {
      "cell_type": "code",
      "execution_count": null,
      "metadata": {
        "id": "jvZDPY004lpN",
        "outputId": "2c47a5de-c076-45fe-db5d-c61c70beb207"
      },
      "outputs": [
        {
          "name": "stdout",
          "output_type": "stream",
          "text": [
            "Solución aproximada: 1.4658945798873901\n",
            "Error relativo aproximado: 8.132187074457899e-08\n",
            "Evaluación: 1.809196170654559e-08\n",
            "Número de iteraciones necesarias: 24\n"
          ]
        }
      ],
      "source": [
        "x_0 = 0\n",
        "x_1 = 2\n",
        "tolerancia = 1e-7\n",
        "\n",
        "resultado = biseccion(f,0,2,tolerancia)\n",
        "\n",
        "raiz = resultado['raiz']\n",
        "error = resultado['error']\n",
        "iteraciones = resultado['iteraciones']\n",
        "\n",
        "print(f\"Solución aproximada: {raiz}\")\n",
        "print(f\"Error relativo aproximado: {error}\")\n",
        "print(f\"Evaluación: {f(raiz)}\")\n",
        "print(f\"Número de iteraciones necesarias: {iteraciones}\")"
      ]
    },
    {
      "cell_type": "code",
      "execution_count": null,
      "metadata": {
        "id": "1-XvtGN94lpO",
        "outputId": "85f65065-e13a-43e7-f00e-bf30f121e162"
      },
      "outputs": [
        {
          "name": "stdout",
          "output_type": "stream",
          "text": [
            "Solución aproximada: 1.465894628371328\n",
            "Error relativo aproximado: 4.394051880646743e-08\n",
            "Evaluación: -8.403039419846436e-08\n",
            "Número de iteraciones necesarias: 17\n"
          ]
        }
      ],
      "source": [
        "x_0 = 0\n",
        "x_1 = 2\n",
        "tolerancia = 1e-7\n",
        "\n",
        "resultado = falsa_posicion(f,0,2,tolerancia)\n",
        "\n",
        "raiz = resultado['raiz']\n",
        "error = resultado['error']\n",
        "iteraciones = resultado['iteraciones']\n",
        "\n",
        "print(f\"Solución aproximada: {raiz}\")\n",
        "print(f\"Error relativo aproximado: {error}\")\n",
        "print(f\"Evaluación: {f(raiz)}\")\n",
        "print(f\"Número de iteraciones necesarias: {iteraciones}\")"
      ]
    },
    {
      "cell_type": "markdown",
      "metadata": {
        "id": "KtN4iG034lpO"
      },
      "source": [
        "Fue más rápido el método de la falsa posición ya que sólo necesito 17 iteraciones contra 24 que necesito el método de la bisección"
      ]
    },
    {
      "cell_type": "code",
      "execution_count": null,
      "metadata": {
        "id": "v2Dq4t4d4lpP"
      },
      "outputs": [],
      "source": []
    }
  ],
  "metadata": {
    "kernelspec": {
      "display_name": "Python 3",
      "language": "python",
      "name": "python3"
    },
    "language_info": {
      "codemirror_mode": {
        "name": "ipython",
        "version": 3
      },
      "file_extension": ".py",
      "mimetype": "text/x-python",
      "name": "python",
      "nbconvert_exporter": "python",
      "pygments_lexer": "ipython3",
      "version": "3.8.10"
    },
    "orig_nbformat": 4,
    "colab": {
      "provenance": [],
      "include_colab_link": true
    }
  },
  "nbformat": 4,
  "nbformat_minor": 0
}
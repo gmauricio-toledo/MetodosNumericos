{
  "cells": [
    {
      "cell_type": "markdown",
      "metadata": {
        "colab_type": "text",
        "id": "view-in-github"
      },
      "source": [
        "<a href=\"https://colab.research.google.com/github/gmauricio-toledo/MetodosNumericos/blob/main/Pr%C3%A1ctica1_SOL.ipynb\" target=\"_parent\"><img src=\"https://colab.research.google.com/assets/colab-badge.svg\" alt=\"Open In Colab\"/></a>"
      ]
    },
    {
      "cell_type": "markdown",
      "metadata": {
        "id": "mSPzfQp99DmU"
      },
      "source": [
        "# Instrucciones"
      ]
    },
    {
      "cell_type": "markdown",
      "metadata": {
        "id": "8bjzffcN9BDE"
      },
      "source": [
        "## Funciones auxiliares"
      ]
    },
    {
      "cell_type": "code",
      "execution_count": 1,
      "metadata": {
        "id": "0nCQdS2h9GmV"
      },
      "outputs": [],
      "source": [
        "import matplotlib.pyplot as plt\n",
        "from math import fabs\n",
        "import numpy as np\n",
        "\n",
        "def graficar(f,a,b,num=100):\n",
        "    '''\n",
        "    función para graficar una función <f> en un intervalo [a,b]. El parámetro <num>\n",
        "    controla la \"resolución\" de la gráfica. Puede no especificarse.\n",
        "    '''\n",
        "    eje_x = np.linspace(start=a,\n",
        "                    stop=b,\n",
        "                    num=num)\n",
        "    eje_y = [f(x) for x in eje_x]  # Listas de compresión\n",
        "    plt.figure(figsize=(7,5))\n",
        "    plt.plot(eje_x,eje_y,color='red')\n",
        "    plt.axhline(0,color='gray') # Dibujar eje X\n",
        "    plt.show()\n",
        "\n",
        "def error_relativo(x_real,x_aprox):\n",
        "    return fabs(x_real-x_aprox)/fabs(x_real)"
      ]
    },
    {
      "cell_type": "markdown",
      "metadata": {
        "id": "t0wMvDe095U_"
      },
      "source": [
        "Funciones que implementen el método de la bisección y la falsa posición"
      ]
    },
    {
      "cell_type": "code",
      "execution_count": 2,
      "metadata": {
        "id": "MwcnM5D894AD"
      },
      "outputs": [],
      "source": [
        "def biseccion(f,xl,xu,tol):\n",
        "    x_m = xl\n",
        "    error = 2*tol\n",
        "    n_iteraciones = 0\n",
        "    while (error>tol):\n",
        "        n_iteraciones += 1\n",
        "        x_m_old = x_m\n",
        "        x_m = (xl+xu)/2\n",
        "        if x_m != 0:\n",
        "            error = error_relativo(x_m,x_m_old)\n",
        "        test = f(xl)*f(x_m)\n",
        "        if test<0:\n",
        "            xu = x_m\n",
        "        elif test>0:\n",
        "            xl = x_m\n",
        "        else:\n",
        "            error = 0\n",
        "    return {'raiz': x_m,\n",
        "            'error': error,\n",
        "            'iteraciones': n_iteraciones\n",
        "            }\n",
        "\n",
        "\n",
        "def falsa_posicion(f,xl,xu,tol):\n",
        "    x_m = xl\n",
        "    error = 2*tol\n",
        "    n_iteraciones = 0\n",
        "    while (error>tol):\n",
        "        n_iteraciones += 1\n",
        "        x_m_old = x_m\n",
        "        x_m = xu - (f(xu)*(xl-xu))/(f(xl)-f(xu))\n",
        "        if x_m != 0:\n",
        "            error = error_relativo(x_m,x_m_old)\n",
        "        test = f(xl)*f(x_m)\n",
        "        if test<0:\n",
        "            xu = x_m\n",
        "        elif test>0:\n",
        "            xl = x_m\n",
        "        else:\n",
        "            error = 0\n",
        "    return {'raiz': x_m,\n",
        "            'error': error,\n",
        "            'iteraciones': n_iteraciones\n",
        "            }"
      ]
    },
    {
      "cell_type": "markdown",
      "metadata": {
        "id": "eA50F3aBHA6v"
      },
      "source": [
        "Considera la siguiente implementación del método de Newton"
      ]
    },
    {
      "cell_type": "code",
      "execution_count": 3,
      "metadata": {
        "id": "LkFItPj8HApV"
      },
      "outputs": [],
      "source": [
        "def newton(f,df,x0,tol):\n",
        "    error = 2*tol\n",
        "    n_iteraciones = 0\n",
        "    while (error>tol):\n",
        "        n_iteraciones += 1\n",
        "        x0_anterior = x0\n",
        "        x0 = x0 - f(x0)/df(x0)\n",
        "        # print(x0) # Imprimir la aproximación actual para inspeccionar la convergencia\n",
        "        if x0 != 0:\n",
        "            error = error_relativo(x0,x0_anterior)\n",
        "    return {'raiz': x0,\n",
        "            'error': error,\n",
        "            'iteraciones': n_iteraciones\n",
        "            }"
      ]
    },
    {
      "cell_type": "markdown",
      "metadata": {
        "id": "sed_7Ax--3YO"
      },
      "source": [
        "# Ejercicio 1\n",
        "\n",
        "Considerar la ecuación\n",
        "\n",
        "$$x^{10}=0.8$$\n",
        "\n",
        "Usando los métodos de la bisección y falsa posición, encuentra una solución a esta ecuación con una tolerancia de 0.001%.\n",
        "\n",
        "1. Define la función y grafica\n",
        "\n",
        "2. Encuentra la raiz de la función usando cada uno de los dos métodos (bisección y falsa posición)\n",
        "\n",
        "3. ¿Cuál fue el método que necesitó menos iteraciones?"
      ]
    },
    {
      "cell_type": "code",
      "execution_count": 4,
      "metadata": {
        "id": "vbI4CCQ3Dw1Q"
      },
      "outputs": [],
      "source": [
        "def f(x):\n",
        "    return x**10-0.8"
      ]
    },
    {
      "cell_type": "code",
      "execution_count": 5,
      "metadata": {
        "colab": {
          "base_uri": "https://localhost:8080/",
          "height": 445
        },
        "id": "7gykxfytEDg-",
        "outputId": "eed8d539-ec2d-4a18-8e43-43d1af9b496b"
      },
      "outputs": [
        {
          "data": {
            "image/png": "[encoded data removed]",
            "text/plain": [
              "<Figure size 504x360 with 1 Axes>"
            ]
          },
          "metadata": {
            "needs_background": "light"
          },
          "output_type": "display_data"
        }
      ],
      "source": [
        "graficar(f,-1,1)"
      ]
    },
    {
      "cell_type": "code",
      "execution_count": 6,
      "metadata": {
        "colab": {
          "base_uri": "https://localhost:8080/"
        },
        "id": "4dYUgCOP-uGE",
        "outputId": "bb030278-d03f-45a2-83da-13a67729c9b0"
      },
      "outputs": [
        {
          "data": {
            "text/plain": [
              "{'raiz': 0.9779281616210938, 'error': 7.80158996403467e-06, 'iteraciones': 17}"
            ]
          },
          "execution_count": 6,
          "metadata": {},
          "output_type": "execute_result"
        }
      ],
      "source": [
        "biseccion(f,0,1,0.00001)"
      ]
    },
    {
      "cell_type": "code",
      "execution_count": 7,
      "metadata": {
        "colab": {
          "base_uri": "https://localhost:8080/"
        },
        "id": "6DV8KNm5D6DO",
        "outputId": "51ec2878-804f-4c4c-c1b4-68324d232562"
      },
      "outputs": [
        {
          "data": {
            "text/plain": [
              "{'raiz': 0.9779325603602953, 'error': 1.9729053326387938e-06, 'iteraciones': 7}"
            ]
          },
          "execution_count": 7,
          "metadata": {},
          "output_type": "execute_result"
        }
      ],
      "source": [
        "falsa_posicion(f,0,1,0.00001)"
      ]
    },
    {
      "cell_type": "markdown",
      "metadata": {
        "id": "jEN_u_GXC9ML"
      },
      "source": [
        "# Ejercicio 2\n",
        "\n",
        "Calcula el valor de $\\pi$ con una tolerancia de 0.0001%. Para esto, encuentra la solución a la ecuación\n",
        "\n",
        "$$\\cos\\left(\\frac{x}{2}\\right)=0$$\n",
        "\n",
        "Usa el método que prefieras y escoge los valores iniciales de tu elección de manera que obtengas, como solución, $\\pi$.\n",
        "\n",
        "¿Cuántos dígitos correctos de $\\pi$ obtuviste?\n",
        "\n",
        "\n"
      ]
    },
    {
      "cell_type": "code",
      "execution_count": 23,
      "metadata": {
        "colab": {
          "base_uri": "https://localhost:8080/",
          "height": 445
        },
        "id": "wdWByzvBI0mn",
        "outputId": "49238edd-50c8-4287-ba05-8f87cf8a97ae"
      },
      "outputs": [
        {
          "data": {
            "image/png": "[encoded data removed]",
            "text/plain": [
              "<Figure size 504x360 with 1 Axes>"
            ]
          },
          "metadata": {
            "needs_background": "light"
          },
          "output_type": "display_data"
        }
      ],
      "source": [
        "from math import cos, pi\n",
        "\n",
        "def f(x):\n",
        "    return cos(x/2)\n",
        "\n",
        "graficar(f,0,2*pi)"
      ]
    },
    {
      "cell_type": "code",
      "execution_count": 9,
      "metadata": {
        "colab": {
          "base_uri": "https://localhost:8080/"
        },
        "id": "bLG8wj3IEh6D",
        "outputId": "e91fec9d-4149-4b1a-d647-acfdb183510b"
      },
      "outputs": [
        {
          "data": {
            "text/plain": [
              "{'raiz': 3.141592653589793, 'error': 6.161495630748596e-09, 'iteraciones': 5}"
            ]
          },
          "execution_count": 9,
          "metadata": {},
          "output_type": "execute_result"
        }
      ],
      "source": [
        "falsa_posicion(f,0,5,0.000001)"
      ]
    },
    {
      "cell_type": "markdown",
      "metadata": {
        "id": "95z215bCI0PR"
      },
      "source": [
        "# Ejercicio 3:\n",
        "\n",
        "En este ejemplo no tendremos convergencia usando el método de Newton, estaremos atrapados en un ciclo de longitud 2. Considera la función\n",
        "\n",
        "$$f(x)=\\begin{cases}\n",
        "\\sqrt{x}, & x\\geq 0 \\\\\n",
        "-\\sqrt{-x}, & x< 0 \\\\\n",
        "\\end{cases}\n",
        "$$\n",
        "\n",
        "\n"
      ]
    },
    {
      "cell_type": "markdown",
      "metadata": {
        "id": "VvwQwUawIAjs"
      },
      "source": [
        "La derivada es\n",
        "\n",
        "$$f(x)=\\begin{cases}\n",
        "\\frac{1}{2\\sqrt{x}}, & x\\geq 0 \\\\\n",
        "\\frac{1}{2\\sqrt{-x}}, & x< 0 \\\\\n",
        "\\end{cases}\n",
        "$$"
      ]
    },
    {
      "cell_type": "markdown",
      "metadata": {
        "id": "V0nYFKMmXu8a"
      },
      "source": [
        "Define la función y su derivada"
      ]
    },
    {
      "cell_type": "code",
      "execution_count": 10,
      "metadata": {
        "colab": {
          "base_uri": "https://localhost:8080/",
          "height": 445
        },
        "id": "Tt3CMhHlRrN3",
        "outputId": "a86715ce-1372-4dbf-d33a-27abda7098b3"
      },
      "outputs": [],
      "source": [
        "from math import sqrt\n",
        "\n",
        "def f(x):\n",
        "    if x>=0:\n",
        "        y = sqrt(x)\n",
        "    else:\n",
        "        y = -sqrt(-x)\n",
        "    return y\n",
        "\n",
        "def df(x):\n",
        "    if x>=0:\n",
        "        y = 1/(2*sqrt(x))\n",
        "    else:\n",
        "        y = 1/(2*sqrt(-x))\n",
        "    return y"
      ]
    },
    {
      "cell_type": "markdown",
      "metadata": {
        "id": "QRHQgfcqXxjq"
      },
      "source": [
        "1. Grafica la función"
      ]
    },
    {
      "cell_type": "code",
      "execution_count": 11,
      "metadata": {
        "colab": {
          "base_uri": "https://localhost:8080/"
        },
        "id": "YdaPlyLjFQSc",
        "outputId": "4667325a-e651-4cce-dc6f-d63a17fa5505"
      },
      "outputs": [
        {
          "data": {
            "image/png": "[encoded data removed]",
            "text/plain": [
              "<Figure size 504x360 with 1 Axes>"
            ]
          },
          "metadata": {
            "needs_background": "light"
          },
          "output_type": "display_data"
        }
      ],
      "source": [
        "graficar(f,-3,3)"
      ]
    },
    {
      "cell_type": "markdown",
      "metadata": {
        "id": "ZoXLmJwQYFrp"
      },
      "source": [
        "2. Encuentra la raiz usando el método de la bisección o falsa posición."
      ]
    },
    {
      "cell_type": "code",
      "execution_count": 12,
      "metadata": {
        "id": "Hac8lja3YLqw"
      },
      "outputs": [
        {
          "data": {
            "text/plain": [
              "{'raiz': 0.0, 'error': 0, 'iteraciones': 1}"
            ]
          },
          "execution_count": 12,
          "metadata": {},
          "output_type": "execute_result"
        }
      ],
      "source": [
        "falsa_posicion(f,-1,1,0.000001)"
      ]
    },
    {
      "cell_type": "markdown",
      "metadata": {
        "id": "whyzfZHZYLAS"
      },
      "source": [
        "3. Ahora, usa el método de Newton. Activa la opción de imprimir las iteraciones para que puedas ver qué está sucediendo."
      ]
    },
    {
      "cell_type": "code",
      "execution_count": 25,
      "metadata": {
        "id": "9E_4a9XhIC2j"
      },
      "outputs": [
        {
          "ename": "OverflowError",
          "evalue": "(34, 'Numerical result out of range')",
          "output_type": "error",
          "traceback": [
            "\u001b[0;31m---------------------------------------------------------------------------\u001b[0m",
            "\u001b[0;31mOverflowError\u001b[0m                             Traceback (most recent call last)",
            "\u001b[0;32m<ipython-input-25-06d1b0e710a2>\u001b[0m in \u001b[0;36m<module>\u001b[0;34m\u001b[0m\n\u001b[0;32m----> 1\u001b[0;31m \u001b[0mnewton\u001b[0m\u001b[0;34m(\u001b[0m\u001b[0mf\u001b[0m\u001b[0;34m,\u001b[0m\u001b[0mdf\u001b[0m\u001b[0;34m,\u001b[0m\u001b[0;36m0.5\u001b[0m\u001b[0;34m,\u001b[0m\u001b[0;36m0.000001\u001b[0m\u001b[0;34m)\u001b[0m\u001b[0;34m\u001b[0m\u001b[0;34m\u001b[0m\u001b[0m\n\u001b[0m",
            "\u001b[0;32m<ipython-input-3-f5ec4c7795a3>\u001b[0m in \u001b[0;36mnewton\u001b[0;34m(f, df, x0, tol)\u001b[0m\n\u001b[1;32m      5\u001b[0m         \u001b[0mn_iteraciones\u001b[0m \u001b[0;34m+=\u001b[0m \u001b[0;36m1\u001b[0m\u001b[0;34m\u001b[0m\u001b[0;34m\u001b[0m\u001b[0m\n\u001b[1;32m      6\u001b[0m         \u001b[0mx0_anterior\u001b[0m \u001b[0;34m=\u001b[0m \u001b[0mx0\u001b[0m\u001b[0;34m\u001b[0m\u001b[0;34m\u001b[0m\u001b[0m\n\u001b[0;32m----> 7\u001b[0;31m         \u001b[0mx0\u001b[0m \u001b[0;34m=\u001b[0m \u001b[0mx0\u001b[0m \u001b[0;34m-\u001b[0m \u001b[0mf\u001b[0m\u001b[0;34m(\u001b[0m\u001b[0mx0\u001b[0m\u001b[0;34m)\u001b[0m\u001b[0;34m/\u001b[0m\u001b[0mdf\u001b[0m\u001b[0;34m(\u001b[0m\u001b[0mx0\u001b[0m\u001b[0;34m)\u001b[0m\u001b[0;34m\u001b[0m\u001b[0;34m\u001b[0m\u001b[0m\n\u001b[0m\u001b[1;32m      8\u001b[0m         \u001b[0;31m# print(x0) # Imprimir la aproximación actual para inspeccionar la convergencia\u001b[0m\u001b[0;34m\u001b[0m\u001b[0;34m\u001b[0m\u001b[0;34m\u001b[0m\u001b[0m\n\u001b[1;32m      9\u001b[0m         \u001b[0;32mif\u001b[0m \u001b[0mx0\u001b[0m \u001b[0;34m!=\u001b[0m \u001b[0;36m0\u001b[0m\u001b[0;34m:\u001b[0m\u001b[0;34m\u001b[0m\u001b[0;34m\u001b[0m\u001b[0m\n",
            "\u001b[0;32m<ipython-input-15-edabbb31b6f8>\u001b[0m in \u001b[0;36mdf\u001b[0;34m(x)\u001b[0m\n\u001b[1;32m      3\u001b[0m \u001b[0;34m\u001b[0m\u001b[0m\n\u001b[1;32m      4\u001b[0m \u001b[0;32mdef\u001b[0m \u001b[0mdf\u001b[0m\u001b[0;34m(\u001b[0m\u001b[0mx\u001b[0m\u001b[0;34m)\u001b[0m\u001b[0;34m:\u001b[0m\u001b[0;34m\u001b[0m\u001b[0;34m\u001b[0m\u001b[0m\n\u001b[0;32m----> 5\u001b[0;31m     \u001b[0;32mreturn\u001b[0m \u001b[0;34m-\u001b[0m\u001b[0;34m(\u001b[0m\u001b[0;36m2\u001b[0m\u001b[0;34m*\u001b[0m\u001b[0mx\u001b[0m\u001b[0;34m)\u001b[0m\u001b[0;34m/\u001b[0m\u001b[0;34m(\u001b[0m\u001b[0;36m1\u001b[0m\u001b[0;34m+\u001b[0m\u001b[0mx\u001b[0m\u001b[0;34m**\u001b[0m\u001b[0;36m2\u001b[0m\u001b[0;34m)\u001b[0m\u001b[0;34m**\u001b[0m\u001b[0;36m2\u001b[0m\u001b[0;34m\u001b[0m\u001b[0;34m\u001b[0m\u001b[0m\n\u001b[0m",
            "\u001b[0;31mOverflowError\u001b[0m: (34, 'Numerical result out of range')"
          ]
        }
      ],
      "source": [
        "newton(f,df,0.5,0.000001)"
      ]
    },
    {
      "cell_type": "markdown",
      "metadata": {
        "id": "E4mIAiPAC6SA"
      },
      "source": [
        "# Ejercicio 4"
      ]
    },
    {
      "cell_type": "markdown",
      "metadata": {
        "id": "I4or1hDgDA74"
      },
      "source": [
        "Encuentra las raíces de la función\n",
        "\n",
        "$$f(x)=\\frac{1-x^2}{2(1+x^2)}.$$\n",
        "\n",
        "La derivada es\n",
        "\n",
        "$$f'(x) = -\\frac{2 x}{(1 + x^2)^2}$$\n"
      ]
    },
    {
      "cell_type": "markdown",
      "metadata": {
        "id": "TMJ7H2xIXcsc"
      },
      "source": [
        "0. Define la función y derivada"
      ]
    },
    {
      "cell_type": "code",
      "execution_count": 27,
      "metadata": {
        "id": "CbSvOzuDC7gx"
      },
      "outputs": [],
      "source": [
        "def f(x):\n",
        "    return (1-x**2)/(2*(1+x**2))\n",
        "\n",
        "def df(x):\n",
        "    return -(2*x)/(1+x**2)**2"
      ]
    },
    {
      "cell_type": "markdown",
      "metadata": {
        "id": "Q4Of5mqoXHtO"
      },
      "source": [
        "1. Verifica, manualmente, que las raíces son -1 y 1."
      ]
    },
    {
      "cell_type": "markdown",
      "metadata": {
        "id": "bq7r0QTlXYpW"
      },
      "source": [
        "2. Grafica la función"
      ]
    },
    {
      "cell_type": "code",
      "execution_count": 16,
      "metadata": {
        "id": "-WvspY2NXajl"
      },
      "outputs": [
        {
          "data": {
            "image/png": "[encoded data removed]",
            "text/plain": [
              "<Figure size 504x360 with 1 Axes>"
            ]
          },
          "metadata": {
            "needs_background": "light"
          },
          "output_type": "display_data"
        }
      ],
      "source": [
        "graficar(f,-3,3)"
      ]
    },
    {
      "cell_type": "markdown",
      "metadata": {
        "id": "O_JUUBSoWoW-"
      },
      "source": [
        "2. Ahora usa el método de la bisección o falsa posición. Encuentra ambas raíces."
      ]
    },
    {
      "cell_type": "code",
      "execution_count": 19,
      "metadata": {
        "colab": {
          "base_uri": "https://localhost:8080/"
        },
        "id": "eHHnHl5gG4AV",
        "outputId": "614929fa-7025-452d-bda4-3733a70c9147"
      },
      "outputs": [
        {
          "data": {
            "text/plain": [
              "{'raiz': 1.0000019073486328, 'error': 5.722034984521895e-06, 'iteraciones': 18}"
            ]
          },
          "execution_count": 19,
          "metadata": {},
          "output_type": "execute_result"
        }
      ],
      "source": [
        "biseccion(f,0,1.5,0.00001)"
      ]
    },
    {
      "cell_type": "code",
      "execution_count": 20,
      "metadata": {},
      "outputs": [
        {
          "data": {
            "text/plain": [
              "{'raiz': -1.0000019073486328,\n",
              " 'error': 5.722034984521895e-06,\n",
              " 'iteraciones': 18}"
            ]
          },
          "execution_count": 20,
          "metadata": {},
          "output_type": "execute_result"
        }
      ],
      "source": [
        "biseccion(f,0,-1.5,0.00001)"
      ]
    },
    {
      "cell_type": "markdown",
      "metadata": {
        "id": "ZUntEw1RUq8x"
      },
      "source": [
        "3. Ahora prueba con el método de Newton, usa\n",
        "\n",
        "* Aproximación inicial $x_0=2$, ¿a cuál raiz debería converger?\n",
        "* Aproximación inicial $x_0=-2$, ¿a cuál raiz debería converger?"
      ]
    },
    {
      "cell_type": "code",
      "execution_count": 29,
      "metadata": {
        "colab": {
          "base_uri": "https://localhost:8080/"
        },
        "id": "JM2D7Ap8T1rY",
        "outputId": "d0cb343d-58f9-4547-f4b2-88f15121eaa8"
      },
      "outputs": [
        {
          "data": {
            "text/plain": [
              "{'raiz': 0.9999999999999828, 'error': 1.855925597649165e-07, 'iteraciones': 9}"
            ]
          },
          "execution_count": 29,
          "metadata": {},
          "output_type": "execute_result"
        }
      ],
      "source": [
        "newton(f,df,-2,0.00001)"
      ]
    },
    {
      "cell_type": "markdown",
      "metadata": {
        "id": "efxSLrv2TgWh"
      },
      "source": [
        "# Lo que aprendemos de todo esto\n",
        "\n",
        "Los métodos cerrados (bisección y falsa posición) son métodos que siempre convergen, aunque lo hacen lentamente. Los métodos abiertos (Newton, Secante y Punto fijo) suelen tener una convergencia más rápida, sin embargo, no siempre convergen o no siempre producen el resultado que buscamos."
      ]
    },
    {
      "cell_type": "markdown",
      "metadata": {},
      "source": [
        "# Soluciones usando `scipy`"
      ]
    },
    {
      "cell_type": "code",
      "execution_count": null,
      "metadata": {
        "id": "BiN-uBMDTjzj"
      },
      "outputs": [],
      "source": [
        "from scipy import optimize\n",
        "\n",
        "sol = optimize.root_scalar(f, bracket=[0, 3], method='bisect',rtol=0.001)"
      ]
    }
  ],
  "metadata": {
    "colab": {
      "authorship_tag": "ABX9TyNOk6Vly8RkTB310TmqROW9",
      "include_colab_link": true,
      "provenance": []
    },
    "kernelspec": {
      "display_name": "Python 3",
      "name": "python3"
    },
    "language_info": {
      "codemirror_mode": {
        "name": "ipython",
        "version": 3
      },
      "file_extension": ".py",
      "mimetype": "text/x-python",
      "name": "python",
      "nbconvert_exporter": "python",
      "pygments_lexer": "ipython3",
      "version": "3.8.10"
    }
  },
  "nbformat": 4,
  "nbformat_minor": 0
}

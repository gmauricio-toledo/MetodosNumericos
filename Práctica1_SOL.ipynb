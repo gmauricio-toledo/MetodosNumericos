{
  "nbformat": 4,
  "nbformat_minor": 0,
  "metadata": {
    "colab": {
      "provenance": [],
      "authorship_tag": "ABX9TyNOk6Vly8RkTB310TmqROW9",
      "include_colab_link": true
    },
    "kernelspec": {
      "name": "python3",
      "display_name": "Python 3"
    },
    "language_info": {
      "name": "python"
    }
  },
  "cells": [
    {
      "cell_type": "markdown",
      "metadata": {
        "id": "view-in-github",
        "colab_type": "text"
      },
      "source": [
        "<a href=\"https://colab.research.google.com/github/gmauricio-toledo/MetodosNumericos/blob/main/Pr%C3%A1ctica1_SOL.ipynb\" target=\"_parent\"><img src=\"https://colab.research.google.com/assets/colab-badge.svg\" alt=\"Open In Colab\"/></a>"
      ]
    },
    {
      "cell_type": "markdown",
      "source": [
        "# Instrucciones"
      ],
      "metadata": {
        "id": "mSPzfQp99DmU"
      }
    },
    {
      "cell_type": "markdown",
      "source": [
        "## Funciones auxiliares"
      ],
      "metadata": {
        "id": "8bjzffcN9BDE"
      }
    },
    {
      "cell_type": "code",
      "source": [
        "import matplotlib.pyplot as plt\n",
        "from math import fabs\n",
        "import numpy as np\n",
        "\n",
        "def graficar(f,a,b,num=100):\n",
        "    '''\n",
        "    función para graficar una función <f> en un intervalo [a,b]. El parámetro <num>\n",
        "    controla la \"resolución\" de la gráfica. Puede no especificarse.\n",
        "    '''\n",
        "    eje_x = np.linspace(start=a,\n",
        "                    stop=b,\n",
        "                    num=num)\n",
        "    eje_y = [f(x) for x in eje_x]  # Listas de compresión\n",
        "    plt.figure(figsize=(7,5))\n",
        "    plt.plot(eje_x,eje_y,color='red')\n",
        "    plt.axhline(0,color='gray') # Dibujar eje X\n",
        "    plt.show()\n",
        "\n",
        "def error_relativo(x_real,x_aprox):\n",
        "    return fabs(x_real-x_aprox)/fabs(x_real)"
      ],
      "metadata": {
        "id": "0nCQdS2h9GmV"
      },
      "execution_count": null,
      "outputs": []
    },
    {
      "cell_type": "markdown",
      "source": [
        "Funciones que implementen el método de la bisección y la falsa posición"
      ],
      "metadata": {
        "id": "t0wMvDe095U_"
      }
    },
    {
      "cell_type": "code",
      "source": [
        "def biseccion(f,xl,xu,tol):\n",
        "    x_m = xl\n",
        "    error = 2*tol\n",
        "    n_iteraciones = 0\n",
        "    while (error>tol):\n",
        "        n_iteraciones += 1\n",
        "        x_m_old = x_m\n",
        "        x_m = (xl+xu)/2\n",
        "        if x_m != 0:\n",
        "            error = error_relativo(x_m,x_m_old)\n",
        "        test = f(xl)*f(x_m)\n",
        "        if test<0:\n",
        "            xu = x_m\n",
        "        elif test>0:\n",
        "            xl = x_m\n",
        "        else:\n",
        "            error = 0\n",
        "    return {'raiz': x_m,\n",
        "            'error': error,\n",
        "            'iteraciones': n_iteraciones\n",
        "            }\n",
        "\n",
        "\n",
        "def falsa_posicion(f,xl,xu,tol):\n",
        "    x_m = xl\n",
        "    error = 2*tol\n",
        "    n_iteraciones = 0\n",
        "    while (error>tol):\n",
        "        n_iteraciones += 1\n",
        "        x_m_old = x_m\n",
        "        x_m = xu - (f(xu)*(xl-xu))/(f(xl)-f(xu))\n",
        "        if x_m != 0:\n",
        "            error = error_relativo(x_m,x_m_old)\n",
        "        test = f(xl)*f(x_m)\n",
        "        if test<0:\n",
        "            xu = x_m\n",
        "        elif test>0:\n",
        "            xl = x_m\n",
        "        else:\n",
        "            error = 0\n",
        "    return {'raiz': x_m,\n",
        "            'error': error,\n",
        "            'iteraciones': n_iteraciones\n",
        "            }"
      ],
      "metadata": {
        "id": "MwcnM5D894AD"
      },
      "execution_count": null,
      "outputs": []
    },
    {
      "cell_type": "markdown",
      "source": [
        "Considera la siguiente implementación del método de Newton"
      ],
      "metadata": {
        "id": "eA50F3aBHA6v"
      }
    },
    {
      "cell_type": "code",
      "source": [
        "def newton(f,df,x0,tol):\n",
        "    error = 2*tol\n",
        "    n_iteraciones = 0\n",
        "    while (error>tol):\n",
        "        n_iteraciones += 1\n",
        "        x0_anterior = x0\n",
        "        x0 = x0 - f(x0)/df(x0)\n",
        "        # print(x0) # Imprimir la aproximación actual para inspeccionar la convergencia\n",
        "        if x0 != 0:\n",
        "            error = error_relativo(x0,x0_anterior)\n",
        "    return {'raiz': x0,\n",
        "            'error': error,\n",
        "            'iteraciones': n_iteraciones\n",
        "            }"
      ],
      "metadata": {
        "id": "LkFItPj8HApV"
      },
      "execution_count": null,
      "outputs": []
    },
    {
      "cell_type": "markdown",
      "source": [
        "# Ejercicio 1\n",
        "\n",
        "Considerar la ecuación\n",
        "\n",
        "$$x^{10}=0.8$$\n",
        "\n",
        "Usando los métodos de la bisección y falsa posición, encuentra una solución a esta ecuación con una tolerancia de 0.001%.\n",
        "\n",
        "1. Define la función y grafica\n",
        "\n",
        "2. Encuentra la raiz de la función usando cada uno de los dos métodos (bisección y falsa posición)\n",
        "\n",
        "3. ¿Cuál fue el método que necesitó menos iteraciones?"
      ],
      "metadata": {
        "id": "sed_7Ax--3YO"
      }
    },
    {
      "cell_type": "code",
      "source": [
        "def f(x):\n",
        "    return x**10-0.8"
      ],
      "metadata": {
        "id": "vbI4CCQ3Dw1Q"
      },
      "execution_count": null,
      "outputs": []
    },
    {
      "cell_type": "code",
      "source": [
        "graficar(f,-1,1)"
      ],
      "metadata": {
        "colab": {
          "base_uri": "https://localhost:8080/",
          "height": 445
        },
        "id": "7gykxfytEDg-",
        "outputId": "eed8d539-ec2d-4a18-8e43-43d1af9b496b"
      },
      "execution_count": null,
      "outputs": [
        {
          "output_type": "display_data",
          "data": {
            "text/plain": [
              "<Figure size 700x500 with 1 Axes>"
            ],
            "image/png": "[encoded data removed]"
          },
          "metadata": {}
        }
      ]
    },
    {
      "cell_type": "code",
      "execution_count": null,
      "metadata": {
        "id": "4dYUgCOP-uGE",
        "colab": {
          "base_uri": "https://localhost:8080/"
        },
        "outputId": "bb030278-d03f-45a2-83da-13a67729c9b0"
      },
      "outputs": [
        {
          "output_type": "execute_result",
          "data": {
            "text/plain": [
              "{'raiz': 0.9779281616210938, 'error': 7.80158996403467e-06, 'iteraciones': 17}"
            ]
          },
          "metadata": {},
          "execution_count": 10
        }
      ],
      "source": [
        "biseccion(f,0,1,0.00001)"
      ]
    },
    {
      "cell_type": "code",
      "source": [
        "falsa_posicion(f,0,1,0.00001)"
      ],
      "metadata": {
        "colab": {
          "base_uri": "https://localhost:8080/"
        },
        "id": "6DV8KNm5D6DO",
        "outputId": "51ec2878-804f-4c4c-c1b4-68324d232562"
      },
      "execution_count": null,
      "outputs": [
        {
          "output_type": "execute_result",
          "data": {
            "text/plain": [
              "{'raiz': 0.9779325603602953, 'error': 1.9729053326387938e-06, 'iteraciones': 7}"
            ]
          },
          "metadata": {},
          "execution_count": 12
        }
      ]
    },
    {
      "cell_type": "markdown",
      "source": [
        "# Ejercicio 2\n",
        "\n",
        "Calcula el valor de $\\pi$ con una tolerancia de 0.0001%. Para esto, encuentra la solución a la ecuación\n",
        "\n",
        "$$\\cos\\left(\\frac{x}{2}\\right)=0$$\n",
        "\n",
        "Usa el método que prefieras y escoge los valores iniciales de tu elección de manera que obtengas, como solución, $\\pi$.\n",
        "\n",
        "¿Cuántos dígitos correctos de $\\pi$ obtuviste?\n",
        "\n",
        "\n"
      ],
      "metadata": {
        "id": "jEN_u_GXC9ML"
      }
    },
    {
      "cell_type": "code",
      "source": [
        "from math import cos\n",
        "\n",
        "def f(x):\n",
        "    return cos(x/2)\n",
        "\n",
        "graficar(f,0,5)"
      ],
      "metadata": {
        "id": "wdWByzvBI0mn",
        "colab": {
          "base_uri": "https://localhost:8080/",
          "height": 445
        },
        "outputId": "49238edd-50c8-4287-ba05-8f87cf8a97ae"
      },
      "execution_count": null,
      "outputs": [
        {
          "output_type": "display_data",
          "data": {
            "text/plain": [
              "<Figure size 700x500 with 1 Axes>"
            ],
            "image/png": "[encoded data removed]"
          },
          "metadata": {}
        }
      ]
    },
    {
      "cell_type": "code",
      "source": [
        "falsa_posicion(f,0,5,0.000001)"
      ],
      "metadata": {
        "colab": {
          "base_uri": "https://localhost:8080/"
        },
        "id": "bLG8wj3IEh6D",
        "outputId": "e91fec9d-4149-4b1a-d647-acfdb183510b"
      },
      "execution_count": null,
      "outputs": [
        {
          "output_type": "execute_result",
          "data": {
            "text/plain": [
              "{'raiz': 3.141592653589793, 'error': 6.161495630748596e-09, 'iteraciones': 5}"
            ]
          },
          "metadata": {},
          "execution_count": 16
        }
      ]
    },
    {
      "cell_type": "markdown",
      "source": [
        "# Ejercicio 3:\n",
        "\n",
        "En este ejemplo no tendremos convergencia usando el método de Newton, estaremos atrapados en un ciclo de longitud 2. Considera la función\n",
        "\n",
        "$$f(x)=\\begin{cases}\n",
        "\\sqrt{x}, & x\\geq 0 \\\\\n",
        "-\\sqrt{-x}, & x< 0 \\\\\n",
        "\\end{cases}\n",
        "$$\n",
        "\n",
        "\n"
      ],
      "metadata": {
        "id": "95z215bCI0PR"
      }
    },
    {
      "cell_type": "markdown",
      "source": [
        "La derivada es\n",
        "\n",
        "$$f(x)=\\begin{cases}\n",
        "\\frac{1}{2\\sqrt{x}}, & x\\geq 0 \\\\\n",
        "\\frac{1}{2\\sqrt{-x}}, & x< 0 \\\\\n",
        "\\end{cases}\n",
        "$$"
      ],
      "metadata": {
        "id": "VvwQwUawIAjs"
      }
    },
    {
      "cell_type": "markdown",
      "source": [
        "Define la función y su derivada"
      ],
      "metadata": {
        "id": "V0nYFKMmXu8a"
      }
    },
    {
      "cell_type": "code",
      "source": [
        "from math import sqrt\n",
        "\n",
        "def f(x):\n",
        "    if x>=0:\n",
        "        y = sqrt(x)\n",
        "    else:\n",
        "        y = -sqrt(-x)\n",
        "    return y\n",
        "\n",
        "def df(x):\n",
        "    if x>=0:\n",
        "        y = 1/(2*sqrt(x))\n",
        "    else:\n",
        "        y = 1/(2*sqrt(-x))\n",
        "    return y"
      ],
      "metadata": {
        "id": "Tt3CMhHlRrN3",
        "colab": {
          "base_uri": "https://localhost:8080/",
          "height": 445
        },
        "outputId": "a86715ce-1372-4dbf-d33a-27abda7098b3"
      },
      "execution_count": null,
      "outputs": [
        {
          "output_type": "display_data",
          "data": {
            "text/plain": [
              "<Figure size 700x500 with 1 Axes>"
            ],
            "image/png": "[encoded data removed]"
          },
          "metadata": {}
        }
      ]
    },
    {
      "cell_type": "markdown",
      "source": [
        "1. Grafica la función"
      ],
      "metadata": {
        "id": "QRHQgfcqXxjq"
      }
    },
    {
      "cell_type": "code",
      "source": [
        "graficar(f,-3,3)"
      ],
      "metadata": {
        "colab": {
          "base_uri": "https://localhost:8080/"
        },
        "id": "YdaPlyLjFQSc",
        "outputId": "4667325a-e651-4cce-dc6f-d63a17fa5505"
      },
      "execution_count": null,
      "outputs": [
        {
          "output_type": "execute_result",
          "data": {
            "text/plain": [
              "{'raiz': 0.0, 'error': 0, 'iteraciones': 1}"
            ]
          },
          "metadata": {},
          "execution_count": 32
        }
      ]
    },
    {
      "cell_type": "markdown",
      "source": [
        "2. Encuentra la raiz usando el método de la bisección o falsa posición."
      ],
      "metadata": {
        "id": "ZoXLmJwQYFrp"
      }
    },
    {
      "cell_type": "code",
      "source": [
        "falsa_posicion(f,-1,1,0.000001)"
      ],
      "metadata": {
        "id": "Hac8lja3YLqw"
      },
      "execution_count": null,
      "outputs": []
    },
    {
      "cell_type": "markdown",
      "source": [
        "3. Ahora, usa el método de Newton. Activa la opción de imprimir las iteraciones para que puedas ver qué está sucediendo."
      ],
      "metadata": {
        "id": "whyzfZHZYLAS"
      }
    },
    {
      "cell_type": "code",
      "source": [
        "newton(f,df,1,0.000001)"
      ],
      "metadata": {
        "id": "9E_4a9XhIC2j"
      },
      "execution_count": null,
      "outputs": []
    },
    {
      "cell_type": "markdown",
      "source": [
        "# Ejercicio 4"
      ],
      "metadata": {
        "id": "E4mIAiPAC6SA"
      }
    },
    {
      "cell_type": "markdown",
      "source": [
        "Encuentra las raíces de la función\n",
        "\n",
        "$$f(x)=\\frac{1-x^2}{2(1+x^2)}.$$\n",
        "\n",
        "La derivada es\n",
        "\n",
        "$$f'(x) = -\\frac{2 x}{(1 + x^2)^2}$$\n"
      ],
      "metadata": {
        "id": "I4or1hDgDA74"
      }
    },
    {
      "cell_type": "markdown",
      "source": [
        "0. Define la función y derivada"
      ],
      "metadata": {
        "id": "TMJ7H2xIXcsc"
      }
    },
    {
      "cell_type": "code",
      "source": [
        "def f(x):\n",
        "    return (1-x**2)/(2*(1+x**2))\n",
        "\n",
        "def df(x):\n",
        "    return -(2*x)/(1+x**2)**2"
      ],
      "metadata": {
        "id": "CbSvOzuDC7gx"
      },
      "execution_count": null,
      "outputs": []
    },
    {
      "cell_type": "markdown",
      "source": [
        "1. Verifica, manualmente, que las raíces son -1 y 1."
      ],
      "metadata": {
        "id": "Q4Of5mqoXHtO"
      }
    },
    {
      "cell_type": "markdown",
      "source": [
        "2. Grafica la función"
      ],
      "metadata": {
        "id": "bq7r0QTlXYpW"
      }
    },
    {
      "cell_type": "code",
      "source": [
        "graficar(f,-3,3)"
      ],
      "metadata": {
        "id": "-WvspY2NXajl"
      },
      "execution_count": null,
      "outputs": []
    },
    {
      "cell_type": "markdown",
      "source": [
        "2. Ahora usa el método de la bisección o falsa posición. Encuentra ambas raíces."
      ],
      "metadata": {
        "id": "O_JUUBSoWoW-"
      }
    },
    {
      "cell_type": "code",
      "source": [
        "biseccion(f,0,1,0.00001)"
      ],
      "metadata": {
        "colab": {
          "base_uri": "https://localhost:8080/"
        },
        "id": "eHHnHl5gG4AV",
        "outputId": "614929fa-7025-452d-bda4-3733a70c9147"
      },
      "execution_count": null,
      "outputs": [
        {
          "output_type": "execute_result",
          "data": {
            "text/plain": [
              "{'raiz': 0.9999923706054688, 'error': 7.629452739355006e-06, 'iteraciones': 17}"
            ]
          },
          "metadata": {},
          "execution_count": 36
        }
      ]
    },
    {
      "cell_type": "markdown",
      "source": [
        "3. Ahora prueba con el método de Newton, usa\n",
        "\n",
        "* Aproximación inicial $x_0=2$, ¿a cuál raiz debería converger?\n",
        "* Aproximación inicial $x_0=-2$, ¿a cuál raiz debería converger?"
      ],
      "metadata": {
        "id": "ZUntEw1RUq8x"
      }
    },
    {
      "cell_type": "code",
      "source": [
        "newton(f,df,-2,0.00001)"
      ],
      "metadata": {
        "colab": {
          "base_uri": "https://localhost:8080/"
        },
        "id": "JM2D7Ap8T1rY",
        "outputId": "d0cb343d-58f9-4547-f4b2-88f15121eaa8"
      },
      "execution_count": null,
      "outputs": [
        {
          "output_type": "stream",
          "name": "stdout",
          "text": [
            "-0.125\n",
            "-2.12451171875\n",
            "0.1550866732773315\n",
            "1.7661559646127334\n",
            "0.5304106995764162\n",
            "0.9644377334492932\n",
            "0.9993905645446058\n",
            "0.999999814407423\n",
            "0.9999999999999828\n"
          ]
        },
        {
          "output_type": "execute_result",
          "data": {
            "text/plain": [
              "{'raiz': 0.9999999999999828, 'error': 1.855925597649165e-07, 'iteraciones': 9}"
            ]
          },
          "metadata": {},
          "execution_count": 41
        }
      ]
    },
    {
      "cell_type": "markdown",
      "source": [
        "# Lo que aprendemos de todo esto\n",
        "\n",
        "Los métodos cerrados (bisección y falsa posición) son métodos que siempre convergen, aunque lo hacen lentamente. Los métodos abiertos (Newton, Secante y Punto fijo) suelen tener una convergencia más rápida, sin embargo, no siempre convergen o no siempre producen el resultado que buscamos."
      ],
      "metadata": {
        "id": "efxSLrv2TgWh"
      }
    },
    {
      "cell_type": "code",
      "source": [],
      "metadata": {
        "id": "BiN-uBMDTjzj"
      },
      "execution_count": null,
      "outputs": []
    }
  ]
}
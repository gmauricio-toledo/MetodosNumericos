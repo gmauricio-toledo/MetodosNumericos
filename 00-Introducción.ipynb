{
  "nbformat": 4,
  "nbformat_minor": 0,
  "metadata": {
    "colab": {
      "provenance": [],
      "toc_visible": true,
      "authorship_tag": "ABX9TyM4z/DASILUsJu7BaJYbn15",
      "include_colab_link": true
    },
    "kernelspec": {
      "name": "python3",
      "display_name": "Python 3"
    },
    "language_info": {
      "name": "python"
    }
  },
  "cells": [
    {
      "cell_type": "markdown",
      "metadata": {
        "id": "view-in-github",
        "colab_type": "text"
      },
      "source": [
        "<a href=\"https://colab.research.google.com/github/gmauricio-toledo/MetodosNumericos/blob/main/00-Introducci%C3%B3n.ipynb\" target=\"_parent\"><img src=\"https://colab.research.google.com/assets/colab-badge.svg\" alt=\"Open In Colab\"/></a>"
      ]
    },
    {
      "cell_type": "markdown",
      "source": [
        "<h1>Introducción a Python</h1>\n",
        "\n",
        "<h3>Métodos Numéricos y Programación</h3>\n",
        "<h4>Dr. Mauricio Toledo Acosta</h4>\n",
        "\n",
        "\n",
        "---\n",
        "\n"
      ],
      "metadata": {
        "id": "vgJ5WK_13w2X"
      }
    },
    {
      "cell_type": "markdown",
      "source": [
        "![python-logo.png](data:image/png;base64,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)"
      ],
      "metadata": {
        "id": "JgeWCMquz1wK"
      }
    },
    {
      "cell_type": "markdown",
      "source": [
        "Python es un lenguaje de programación de propósito general, moderno, dinámico, robusto, de alto nivel e interpretado. Se utiliza en desarrollo web, ciencia de datos, creación de prototipos de software, etc. Python tiene una sintaxis sencilla y fácil de usar. Esto hace que Python sea un lenguaje excelente para aprender a programar y para realizar programas rapidamente.\n",
        "\n",
        "[Documentación](https://www.python.org/)\n",
        "\n",
        "Para usar Python usaremos Google Colab, el cual es un servicio gratuito de Google en el cual podemos contectarnos a un entorno de ejecución rémoto. Para esto necesitamos una cuenta de Google. Colab funciona por medio de notebooks, los cuales son archivos que combinan código de Python y texto/imágenes. Esto a diferencia del enfoque usual de trabajar con archivos de script *py*."
      ],
      "metadata": {
        "id": "M2C8zVWEzcCF"
      }
    },
    {
      "cell_type": "markdown",
      "source": [
        "\n",
        "\n",
        "---\n",
        "\n",
        "\n",
        "**Scripting vs Programming**\n",
        "\n",
        "* Un lenguaje de programación es un conjunto de instrucciones para que el ordenador realice una tarea. Por lo general, estos lenguajes se compilan antes del tiempo de ejecución, de modo que un compilador convierte este código en código comprensible por la máquina. Ejemplos: C/C++, Java, etc.\n",
        "\n",
        "* Por otro lado, un lenguaje scripting, en tiempo de ejecución, es interpretado directamente por el entorno para obtener el resultado en lugar de ser traducidos a código comprensible por la máquina antes de ser ejecutados. Ejemplos: Python, MATLAB, Javascript, Perl, Ruby, PHP.\n",
        "\n",
        "---"
      ],
      "metadata": {
        "id": "if7OFMJa7pyx"
      }
    },
    {
      "cell_type": "markdown",
      "source": [
        "# Instalar Python (**OPCIONAL**)"
      ],
      "metadata": {
        "id": "WZehJJ170fyP"
      }
    },
    {
      "cell_type": "markdown",
      "source": [
        "Python funciona en Windows, Linux, Mac y otros entornos. Hay muchas distribuciones de python disponibles. Sin embargo, la forma recomendada de instalar python en Microsoft Windows o Linux es utilizar la distribución Anaconda disponible en [https://www.anaconda.com/products/individual#windows]. Si instalas python desde otro lugar, asegúrate de obtener al menos la versión Python 3.8, no la 2.7.\n",
        "\n",
        "La distribución Anaconda viene con la colección SciPy de herramientas científicas python así como el cuaderno iron python. Para desarrollar código python sin notebooks considere usar spyder (también incluido con Anaconda) o su IDE favorito bajo windows, mac etc (e.g. Visual Studio Code que maneja tanto programas python planos como cuadernos)"
      ],
      "metadata": {
        "id": "cJHb-NDv0oEQ"
      }
    },
    {
      "cell_type": "markdown",
      "source": [
        "# Python Basics"
      ],
      "metadata": {
        "id": "6mW8-3nV0jAt"
      }
    },
    {
      "cell_type": "markdown",
      "source": [
        "## Imprimir mensajes"
      ],
      "metadata": {
        "id": "_JqOSyqE0G0X"
      }
    },
    {
      "cell_type": "code",
      "execution_count": null,
      "metadata": {
        "id": "uqOZP309zM84"
      },
      "outputs": [],
      "source": [
        "print(\"Hello world\")"
      ]
    },
    {
      "cell_type": "code",
      "source": [
        "print (\"Jan\\nFeb\\nMar\\nApr\\nMay\\nJun\\nJul\\nAug\\nSep\\nOct\\nNov\\nDec\")"
      ],
      "metadata": {
        "id": "UBV5Z0p10MAP"
      },
      "execution_count": null,
      "outputs": []
    },
    {
      "cell_type": "code",
      "source": [
        "print(\"Welcome to\", end = ' ')\n",
        "print(\"Python\", end = '!')"
      ],
      "metadata": {
        "id": "CgKAQO9m13vw"
      },
      "execution_count": null,
      "outputs": []
    },
    {
      "cell_type": "markdown",
      "source": [
        "También podemos pasar varios argumentos a la función `print`"
      ],
      "metadata": {
        "id": "3-al_-j1ywfh"
      }
    },
    {
      "cell_type": "code",
      "source": [
        "print(\"Welcome\",\"to\",\"Python\")"
      ],
      "metadata": {
        "id": "yUZTZ52myqzL"
      },
      "execution_count": null,
      "outputs": []
    },
    {
      "cell_type": "markdown",
      "source": [
        "## Variables y keywords"
      ],
      "metadata": {
        "id": "cALKlhe4MTDn"
      }
    },
    {
      "cell_type": "markdown",
      "source": [
        "\n",
        "**Keywords** son las palabras reservadas en Python.\n",
        "\n",
        "No podemos usar una keyword como nombre de variable, nombre de función o cualquier otro identificador. Se utilizan para definir la sintaxis y la estructura del lenguaje Python.\n",
        "\n",
        "En Python, las palabras clave distinguen entre mayúsculas y minúsculas.\n",
        "\n",
        "Hay 36 palabras clave en Python 3.9. Este número puede variar ligeramente con el paso del tiempo.\n",
        "\n",
        "Todas las palabras clave excepto `True`, `False` y `None` están en minúsculas y deben escribirse tal cual. La lista de todas las palabras clave se da a continuación.\n",
        "\n",
        "    False, await, else, import, pass, None, break, except, in, raise, True, class, finally, is, return, and, continue, for, lambda, try, as, def, from, nonlocal, while, assert, del, global, not, with, async, elif, if, or, yield.\n",
        "\n",
        "\n",
        "\n",
        "\n"
      ],
      "metadata": {
        "id": "h1x2B-hwMcwN"
      }
    },
    {
      "cell_type": "markdown",
      "source": [
        "Si se intenta crear una variable con el mismo nombre que cualquier palabra reservada, se produce un error:"
      ],
      "metadata": {
        "id": "lMX3pJVFNpXd"
      }
    },
    {
      "cell_type": "code",
      "source": [
        "await = 3"
      ],
      "metadata": {
        "id": "KU-G1NDH1-ha"
      },
      "execution_count": null,
      "outputs": []
    },
    {
      "cell_type": "markdown",
      "source": [
        "Python distingue entre mayúsculas y minúsculas."
      ],
      "metadata": {
        "id": "134R2WuPOuFe"
      }
    },
    {
      "cell_type": "code",
      "source": [
        "Await = 3"
      ],
      "metadata": {
        "id": "m49ibwFWNqp7"
      },
      "execution_count": null,
      "outputs": []
    },
    {
      "cell_type": "markdown",
      "source": [
        "Un identificador es un nombre que se da a entidades como clases, funciones, variables, etc. Ayuda a diferenciar una entidad de otra.\n",
        "Reglas:\n",
        "\n",
        "* Los identificadores pueden ser una combinación de letras en minúsculas (de la a a la z) o mayúsculas (de la A a la Z) o dígitos (del 0 al 9) o un guión bajo _. Nombres como `myClass`, `var_1` y `print_this_to_screen`, todos son ejemplos válidos.\n",
        "* Un identificador no puede empezar por un dígito. `1variable` no es válido, pero `variable1` es perfectamente correcto.\n",
        "* Las *keywords* no pueden utilizarse como identificadores\n",
        "* No podemos utilizar símbolos especiales como !, @, #, $, % , etc. en nuestro identificador.\n",
        "\n",
        "Siempre hay que dar a los identificadores un nombre que tenga sentido. Mientras que `c = 10` es un nombre válido, escribir `conteo = 10` tendría más sentido, y sería más fácil averiguar lo que representa cuando revises tu código después de un tiempo.\n",
        "\n",
        "Las palabras múltiples se pueden separar usando un guión bajo, como `this_is_a_long_variable`.\n"
      ],
      "metadata": {
        "id": "Xc_DCW3oN4Dc"
      }
    },
    {
      "cell_type": "markdown",
      "source": [
        "## Tipos de datos"
      ],
      "metadata": {
        "id": "lsfldAGJxp2-"
      }
    },
    {
      "cell_type": "markdown",
      "source": [
        "Cada valor en Python tiene un tipo de dato. Como todo es un objeto en el paradigma de programación en Python, los tipos de datos son en realidad clases y las variables son instancias (objetos) de estas clases."
      ],
      "metadata": {
        "id": "PW9QXT-PxzQx"
      }
    },
    {
      "cell_type": "markdown",
      "source": [
        "![Python-Data-Type.png](data:image/png;base64,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)"
      ],
      "metadata": {
        "id": "XyJVHNM2yTNf"
      }
    },
    {
      "cell_type": "markdown",
      "source": [
        "Si `a` es una variable, con `type(a)` podemos ver su tipo.\n",
        "\n",
        "La función `isinstance(a,x)` nos dice si la variable `a` es de tipo `x`. Regresa el valor `True` si es el caso, `False` si no."
      ],
      "metadata": {
        "id": "aOOqfaV6ycRv"
      }
    },
    {
      "cell_type": "markdown",
      "source": [
        "### Tipos numéricos"
      ],
      "metadata": {
        "id": "W21s5Ta4yY8w"
      }
    },
    {
      "cell_type": "code",
      "source": [
        "a = 6\n",
        "print(a, \"es de tipo\", type(a))\n",
        "print(a, \"es de tipo int?\", isinstance(5,int))\n",
        "print(a, \"es de tipo float?\", isinstance(5,float),end=\"\\n\")\n",
        "\n",
        "a = 3.0\n",
        "print(a, \"es de tipo\", type(a))\n",
        "print(a, \"es de tipo float?\", isinstance(2.0,float))\n",
        "\n",
        "a = 1+2j  # '1' is la parte real y '2j' es la parte imaginaria\n",
        "print(a, \"es de tipo\", type(a))\n",
        "print(a, \"es de tipo complex?\", isinstance(1+2j,complex))"
      ],
      "metadata": {
        "id": "7xZ9611zNvlG"
      },
      "execution_count": null,
      "outputs": []
    },
    {
      "cell_type": "markdown",
      "source": [
        "Depende de cómo escribamos un número podemos hacerlo de diferente tipo"
      ],
      "metadata": {
        "id": "E-aHxEIg0nV8"
      }
    },
    {
      "cell_type": "code",
      "source": [
        "a = 6\n",
        "print(a, \"es de tipo\", type(a))\n",
        "\n",
        "a = 6.\n",
        "print(a, \"es de tipo\", type(a))\n",
        "\n",
        "a = 6.0\n",
        "print(a, \"es de tipo\", type(a))"
      ],
      "metadata": {
        "id": "G1ABhKiSzZTV"
      },
      "execution_count": null,
      "outputs": []
    },
    {
      "cell_type": "markdown",
      "source": [
        "Podemos realizar operaciones entre números"
      ],
      "metadata": {
        "id": "MUTHANcAATig"
      }
    },
    {
      "cell_type": "code",
      "source": [
        "a = 5\n",
        "b = 1.3\n",
        "c = 0.003\n",
        "\n",
        "print(a+b)\n",
        "print(a/c)\n",
        "print((a/b)-(b/c))"
      ],
      "metadata": {
        "id": "9rgh5e3C0j2Z"
      },
      "execution_count": null,
      "outputs": []
    },
    {
      "cell_type": "markdown",
      "source": [
        "Fuera de las 4 operaciones aritméticas básicas"
      ],
      "metadata": {
        "id": "cgrMniZ3BG6d"
      }
    },
    {
      "cell_type": "code",
      "source": [
        "print(a/b)      # División\n",
        "print(a//b)     # División entera\n",
        "print(a%b)      # Residuo\n",
        "print(a**b)     # Exponenciación"
      ],
      "metadata": {
        "id": "vNyWtpkSAtoo"
      },
      "execution_count": null,
      "outputs": []
    },
    {
      "cell_type": "markdown",
      "source": [
        "El residuo puede servir para verificar si un número es par"
      ],
      "metadata": {
        "id": "hTDCPrDpA7Wq"
      }
    },
    {
      "cell_type": "code",
      "source": [
        "print(5%2)\n",
        "print(8%2)"
      ],
      "metadata": {
        "id": "cTt99yT0A_qb"
      },
      "execution_count": null,
      "outputs": []
    },
    {
      "cell_type": "markdown",
      "source": [
        "Usamos el módulo `math` para usar más operaciones y funciones.\n",
        "\n",
        "[Documentación](https://docs.python.org/3/library/math.html)"
      ],
      "metadata": {
        "id": "Rm-UeI90Bbtf"
      }
    },
    {
      "cell_type": "code",
      "source": [
        "from math import sqrt, factorial, log, sin, cos, fabs\n",
        "\n",
        "print(log(a))\n",
        "print(sqrt(b))\n",
        "print(factorial(6))\n",
        "print(sin(a+b))\n",
        "print(fabs(-4.65))"
      ],
      "metadata": {
        "id": "moQtsknUBPfU"
      },
      "execution_count": null,
      "outputs": []
    },
    {
      "cell_type": "markdown",
      "source": [
        "### Booleanos"
      ],
      "metadata": {
        "id": "XCh0khis6zhZ"
      }
    },
    {
      "cell_type": "markdown",
      "source": [
        "Este tipo de datos sólo tiene dos posibles valores: `True` y `False`. Sirven para controlar el flujo de un script de Python."
      ],
      "metadata": {
        "id": "674iy5tf61ut"
      }
    },
    {
      "cell_type": "code",
      "source": [
        "x = True\n",
        "\n",
        "print(x)\n",
        "print(type(x))"
      ],
      "metadata": {
        "id": "vGB92GGx9Fic"
      },
      "execution_count": null,
      "outputs": []
    },
    {
      "cell_type": "code",
      "source": [
        "print(not x)"
      ],
      "metadata": {
        "id": "qzfm5nWo9KMP"
      },
      "execution_count": null,
      "outputs": []
    },
    {
      "cell_type": "markdown",
      "source": [
        "### Listas"
      ],
      "metadata": {
        "id": "3J4WqEOU3Qep"
      }
    },
    {
      "cell_type": "markdown",
      "source": [
        "`list` es una secuencia ordenada de elementos. Es uno de los tipos de datos más utilizados en Python y es muy flexible. No es necesario que todos los elementos de una lista sean del mismo tipo.\n",
        "\n",
        "Declarar una lista es bastante sencillo. Los elementos separados por comas se encierran entre corchetes [ ]."
      ],
      "metadata": {
        "id": "ObbaOVnk3aBi"
      }
    },
    {
      "cell_type": "code",
      "source": [
        "lista_vacia = []"
      ],
      "metadata": {
        "id": "n_oUvkuC0tpz"
      },
      "execution_count": null,
      "outputs": []
    },
    {
      "cell_type": "code",
      "source": [
        "la_lista = [4,-6,2.2,-0.00004]"
      ],
      "metadata": {
        "id": "jIccPSYw3fAJ"
      },
      "execution_count": null,
      "outputs": []
    },
    {
      "cell_type": "markdown",
      "source": [
        "Con la función `len` obtenemos la longitud de la lista"
      ],
      "metadata": {
        "id": "tatmJSrU3kf1"
      }
    },
    {
      "cell_type": "code",
      "source": [
        "len(la_lista)"
      ],
      "metadata": {
        "id": "W8B6Z-R23jA7"
      },
      "execution_count": null,
      "outputs": []
    },
    {
      "cell_type": "markdown",
      "source": [
        "Podemos referenciar cada elemento individual de la lista usando el índice del elemento (posición) dentro de la lista. La enumeración en Python siempre empieza en 0."
      ],
      "metadata": {
        "id": "r1s4YxmV3qk5"
      }
    },
    {
      "cell_type": "code",
      "source": [
        "print(\"Lista completa:\",la_lista)\n",
        "print(\"El primer elemento es\", la_lista[0])\n"
      ],
      "metadata": {
        "id": "FJBIoJLG3j-n"
      },
      "execution_count": null,
      "outputs": []
    },
    {
      "cell_type": "code",
      "source": [
        "ultimo_indice = len(la_lista)-1\n",
        "print(\"El último elemento es\",la_lista[ultimo_indice])"
      ],
      "metadata": {
        "id": "DW8XLzw-6TQZ"
      },
      "execution_count": null,
      "outputs": []
    },
    {
      "cell_type": "markdown",
      "source": [
        "Para referirnos al último elemento de una lista usamos el índice -1, el penúltimo es -2, etc. Es decir podemos contar desde el final hacia el principio con índices negativos."
      ],
      "metadata": {
        "id": "CTTz3GVj6cuk"
      }
    },
    {
      "cell_type": "code",
      "source": [
        "print(\"El último elemento es\",la_lista[-1])"
      ],
      "metadata": {
        "id": "h3oSrDm_6cUz"
      },
      "execution_count": null,
      "outputs": []
    },
    {
      "cell_type": "markdown",
      "source": [
        "**Slicing** es una técnica para tomar secciones de una lista. La notación es\n",
        "\n",
        "`lista[inicio:final]`\n",
        "\n",
        "Se toma desde el elemento con índice `inicio` y tomamos hasta justo antes del elemento con índice `final`.\n",
        "\n",
        "Hay algunas variantes."
      ],
      "metadata": {
        "id": "sfV7AMd045Ir"
      }
    },
    {
      "cell_type": "code",
      "source": [
        "print(\"Lista completa:\",la_lista)\n",
        "\n",
        "la_lista[1:3]   # El segundo y tercer elemento de la lista (del elemento 1 al elemento 2)"
      ],
      "metadata": {
        "id": "r4mpOKrI4PwZ"
      },
      "execution_count": null,
      "outputs": []
    },
    {
      "cell_type": "markdown",
      "source": [
        "Si no aparece `inicio` se toma como 0"
      ],
      "metadata": {
        "id": "EXpLOMEx6CO6"
      }
    },
    {
      "cell_type": "code",
      "source": [
        "la_lista[:3]    # Los primeros 3 elementos de la lista (del elemento 0 al elemento 2)"
      ],
      "metadata": {
        "id": "ZHiThsJV5M3J"
      },
      "execution_count": null,
      "outputs": []
    },
    {
      "cell_type": "markdown",
      "source": [
        "Si no aparece `final` se toma como el final."
      ],
      "metadata": {
        "id": "p8bXmQF26Gmd"
      }
    },
    {
      "cell_type": "code",
      "source": [
        "la_lista[2:]"
      ],
      "metadata": {
        "id": "QRObHcxd5iEE"
      },
      "execution_count": null,
      "outputs": []
    },
    {
      "cell_type": "code",
      "source": [
        "la_lista[:]"
      ],
      "metadata": {
        "id": "ZD28IONQ6NsR"
      },
      "execution_count": null,
      "outputs": []
    },
    {
      "cell_type": "markdown",
      "source": [
        "Podemos agregar elementos a una lista"
      ],
      "metadata": {
        "id": "n4VjDOqj9h3J"
      }
    },
    {
      "cell_type": "code",
      "source": [
        "la_lista.append(-123.28)\n",
        "\n",
        "print(la_lista)"
      ],
      "metadata": {
        "id": "RCyzwn_G6QWe"
      },
      "execution_count": null,
      "outputs": []
    },
    {
      "cell_type": "markdown",
      "source": [
        "Podemos modificar elementos de una lista"
      ],
      "metadata": {
        "id": "zEmWgJBN91NW"
      }
    },
    {
      "cell_type": "code",
      "source": [
        "print(\"La lista antes: \", la_lista)\n",
        "\n",
        "la_lista[3] = 0\n",
        "\n",
        "print(\"La lista después: \", la_lista)"
      ],
      "metadata": {
        "id": "9nuhIBnP9mox"
      },
      "execution_count": null,
      "outputs": []
    },
    {
      "cell_type": "markdown",
      "source": [
        "### Tuplas"
      ],
      "metadata": {
        "id": "W3sB82Vi-R2e"
      }
    },
    {
      "cell_type": "markdown",
      "source": [
        "Aligual que una lista, una tupla es una secuencia ordenada de elementos. La única diferencia es que las tuplas son inmutables. Una vez creadas, las tuplas no pueden modificarse.\n",
        "\n",
        "Las tuplas se utilizan para proteger los datos contra escritura y suelen ser más rápidas que las listas, ya que no pueden cambiar dinámicamente.\n",
        "\n",
        "Se definen entre paréntesis () donde los elementos se separan por comas."
      ],
      "metadata": {
        "id": "4utXwOxg-Tw0"
      }
    },
    {
      "cell_type": "code",
      "source": [
        "valores = (3,-5,2.34)"
      ],
      "metadata": {
        "id": "ibWpbvv99_9Y"
      },
      "execution_count": null,
      "outputs": []
    },
    {
      "cell_type": "markdown",
      "source": [
        "Podemos acceder a los elementos igual que una lista"
      ],
      "metadata": {
        "id": "mJD4ak1K-jnU"
      }
    },
    {
      "cell_type": "code",
      "source": [
        "valores[2]"
      ],
      "metadata": {
        "id": "xxg54oYH-fq6"
      },
      "execution_count": null,
      "outputs": []
    },
    {
      "cell_type": "markdown",
      "source": [
        "Pero no podemos modificarlos"
      ],
      "metadata": {
        "id": "I3XT993h-mfF"
      }
    },
    {
      "cell_type": "code",
      "source": [
        "valores[2] = 3"
      ],
      "metadata": {
        "id": "3r8Kz8Oi-jE7"
      },
      "execution_count": null,
      "outputs": []
    },
    {
      "cell_type": "markdown",
      "source": [
        "Podemos convertir una lista en tupla y viceversa."
      ],
      "metadata": {
        "id": "q8NQ82sz-qIt"
      }
    },
    {
      "cell_type": "code",
      "source": [
        "nueva_tupla = tuple(la_lista)\n",
        "nueva_tupla"
      ],
      "metadata": {
        "id": "W9_7idOY-otb"
      },
      "execution_count": null,
      "outputs": []
    },
    {
      "cell_type": "code",
      "source": [
        "nueva_lista = list(valores)\n",
        "nueva_lista"
      ],
      "metadata": {
        "id": "Wu6IFaXS-yla"
      },
      "execution_count": null,
      "outputs": []
    },
    {
      "cell_type": "markdown",
      "source": [
        "### Cadenas de texto"
      ],
      "metadata": {
        "id": "PKQQsPQ5-4cb"
      }
    },
    {
      "cell_type": "markdown",
      "source": [
        "Una `string` es una secuencia de caracteres Unicode. Podemos utilizar comillas simples o dobles para representar cadenas.Las cadenas de varias líneas pueden representarse mediante comillas triples, `'''` o `\"\"\"`."
      ],
      "metadata": {
        "id": "ErWx0b2n--79"
      }
    },
    {
      "cell_type": "code",
      "source": [
        "cadena = \"curso de metodos numericos\""
      ],
      "metadata": {
        "id": "BobrSwIa-2Nk"
      },
      "execution_count": null,
      "outputs": []
    },
    {
      "cell_type": "code",
      "source": [
        "cadena_larga = '''Una string es una secuencia de caracteres Unicode.\n",
        "Podemos utilizar comillas simples o dobles para representar cadenas.\n",
        "Las cadenas de varias líneas pueden representarse mediante comillas triples'''"
      ],
      "metadata": {
        "id": "zwj1PkErEe_G"
      },
      "execution_count": null,
      "outputs": []
    },
    {
      "cell_type": "markdown",
      "source": [
        "En muchas maneras, se comporta como una lista"
      ],
      "metadata": {
        "id": "Vmbkw2kw_OBQ"
      }
    },
    {
      "cell_type": "code",
      "source": [
        "cadena[3]"
      ],
      "metadata": {
        "id": "mPm5679j_NNy"
      },
      "execution_count": null,
      "outputs": []
    },
    {
      "cell_type": "code",
      "source": [
        "cadena[-7:]"
      ],
      "metadata": {
        "id": "lsHpXXeV_RT7"
      },
      "execution_count": null,
      "outputs": []
    },
    {
      "cell_type": "code",
      "source": [
        "cadena.split()"
      ],
      "metadata": {
        "id": "lssSxuYA_TSA"
      },
      "execution_count": null,
      "outputs": []
    },
    {
      "cell_type": "markdown",
      "source": [
        "Podemos hacer operaciones con cadenas"
      ],
      "metadata": {
        "id": "0ayzyEwz_7D2"
      }
    },
    {
      "cell_type": "code",
      "source": [
        "cadena + \"y programación\""
      ],
      "metadata": {
        "id": "nk1sOFCi_e_w"
      },
      "execution_count": null,
      "outputs": []
    },
    {
      "cell_type": "code",
      "source": [
        "2*cadena"
      ],
      "metadata": {
        "id": "rZt5QRrg_9tz"
      },
      "execution_count": null,
      "outputs": []
    },
    {
      "cell_type": "markdown",
      "source": [
        "Podemos convertir algunos tipos en cadenas directamente"
      ],
      "metadata": {
        "id": "HwlYKCM5_itw"
      }
    },
    {
      "cell_type": "code",
      "source": [
        "# Un número como cadena\n",
        "\n",
        "x = str(-2343)\n",
        "print(x)\n",
        "print(type(x))"
      ],
      "metadata": {
        "id": "blz2H5Cb_ZJa"
      },
      "execution_count": null,
      "outputs": []
    },
    {
      "cell_type": "code",
      "source": [
        "# Una lista como cadena\n",
        "\n",
        "str(la_lista)"
      ],
      "metadata": {
        "id": "q6jE6A6O_cZ8"
      },
      "execution_count": null,
      "outputs": []
    },
    {
      "cell_type": "markdown",
      "source": [
        "### Diccionarios"
      ],
      "metadata": {
        "id": "IHUaqTRyEZno"
      }
    },
    {
      "cell_type": "markdown",
      "source": [
        "Un diccionario es una colección desordenada de pares clave-valor (key-value).\n",
        "\n",
        "Se utiliza generalmente cuando tenemos una gran cantidad de datos. **Los diccionarios están optimizados para recuperar datos**. Debemos conocer la clave para recuperar el valor.\n",
        "\n",
        "En Python, los diccionarios se definen entre llaves {} y cada elemento es un par de la forma clave:valor. La clave y el valor pueden ser de cualquier tipo."
      ],
      "metadata": {
        "id": "i3VqSzX1EqI7"
      }
    },
    {
      "cell_type": "code",
      "source": [
        "diccionario = {} # Diccionario vacio"
      ],
      "metadata": {
        "id": "H-oMXi9q_xYz"
      },
      "execution_count": null,
      "outputs": []
    },
    {
      "cell_type": "code",
      "source": [
        "diccionario = {'manzana': 'rojo', 'piña': 'amarillo', 'espinacas': 'verde'}"
      ],
      "metadata": {
        "id": "HFOea1ppEvvb"
      },
      "execution_count": null,
      "outputs": []
    },
    {
      "cell_type": "code",
      "source": [
        "diccionario = {'juan': 85, 'maría': 90}"
      ],
      "metadata": {
        "id": "354Q-fk-FCRh"
      },
      "execution_count": null,
      "outputs": []
    },
    {
      "cell_type": "markdown",
      "source": [
        "Buscamos por llave"
      ],
      "metadata": {
        "id": "AiOI09h6FcJe"
      }
    },
    {
      "cell_type": "code",
      "source": [
        "diccionario['juan']"
      ],
      "metadata": {
        "id": "bXtqta08FKIt"
      },
      "execution_count": null,
      "outputs": []
    },
    {
      "cell_type": "markdown",
      "source": [
        "No podemos buscar por valor"
      ],
      "metadata": {
        "id": "SnVdBuaDFaZF"
      }
    },
    {
      "cell_type": "code",
      "source": [
        "diccionario[85]"
      ],
      "metadata": {
        "id": "eghiVBm0FMFj"
      },
      "execution_count": null,
      "outputs": []
    },
    {
      "cell_type": "code",
      "source": [],
      "metadata": {
        "id": "fTFRoHHvFZwa"
      },
      "execution_count": null,
      "outputs": []
    }
  ]
}
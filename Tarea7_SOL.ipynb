{
  "cells": [
    {
      "cell_type": "markdown",
      "metadata": {
        "colab_type": "text",
        "id": "view-in-github"
      },
      "source": [
        "<a href=\"https://colab.research.google.com/github/gmauricio-toledo/MetodosNumericos/blob/main/Tarea6_SOL.ipynb\" target=\"_parent\"><img src=\"https://colab.research.google.com/assets/colab-badge.svg\" alt=\"Open In Colab\"/></a>"
      ]
    },
    {
      "cell_type": "markdown",
      "metadata": {
        "id": "0H94sFnCkJnU"
      },
      "source": [
        "**<h1>Tarea 7</h1>**\n",
        "\n",
        "<h3>Solución</h3>"
      ]
    },
    {
      "cell_type": "markdown",
      "metadata": {
        "id": "X7-Mg-P5kp7j"
      },
      "source": [
        "# Ejercicio 1"
      ]
    },
    {
      "cell_type": "markdown",
      "metadata": {},
      "source": [
        "La solución real de la EDO es"
      ]
    },
    {
      "cell_type": "code",
      "execution_count": null,
      "metadata": {},
      "outputs": [],
      "source": [
        "from scipy.stats import norm\n",
        "\n",
        "def solucion_real(x):\n",
        "    return e**(-0.6*x)*(3.62402 - 3.12402*norm.cdf(18.888 - 9.42809*x))"
      ]
    },
    {
      "cell_type": "markdown",
      "metadata": {
        "id": "-HroWvLbmVzf"
      },
      "source": [
        "# Ejercicio 2"
      ]
    },
    {
      "cell_type": "markdown",
      "metadata": {
        "id": "iwwQpb61qx-2"
      },
      "source": [
        "# Ejercicio 3"
      ]
    },
    {
      "cell_type": "code",
      "execution_count": null,
      "metadata": {
        "id": "tBCb_r8vqx-4"
      },
      "outputs": [],
      "source": []
    }
  ],
  "metadata": {
    "colab": {
      "include_colab_link": true,
      "provenance": []
    },
    "kernelspec": {
      "display_name": "Python 3",
      "name": "python3"
    },
    "language_info": {
      "codemirror_mode": {
        "name": "ipython",
        "version": 3
      },
      "file_extension": ".py",
      "mimetype": "text/x-python",
      "name": "python",
      "nbconvert_exporter": "python",
      "pygments_lexer": "ipython3",
      "version": "3.8.10"
    }
  },
  "nbformat": 4,
  "nbformat_minor": 0
}

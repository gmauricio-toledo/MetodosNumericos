{
 "cells": [
  {
   "cell_type": "markdown",
   "metadata": {},
   "source": [
    "# Implementación del método del trapecio compuesto"
   ]
  },
  {
   "cell_type": "markdown",
   "metadata": {},
   "source": [
    "Ejemplo 1"
   ]
  },
  {
   "cell_type": "code",
   "execution_count": 4,
   "metadata": {},
   "outputs": [],
   "source": [
    "a1, b1 = 0, 0.8\n",
    "real_value1 = 1.640533\n",
    "\n",
    "def f1(x):\n",
    "    return 0.2+25*x-200*x**2+675*x**3-900*x**4+400*x**5"
   ]
  },
  {
   "cell_type": "markdown",
   "metadata": {},
   "source": [
    "Ejemplo 2"
   ]
  },
  {
   "cell_type": "code",
   "execution_count": 5,
   "metadata": {},
   "outputs": [],
   "source": [
    "a2, b2 = 0, 3\n",
    "real_value2 = 6.735\n",
    "\n",
    "def f2(x):\n",
    "    return 4-0.5*x-2*x**2+0.5*x**3+0.1*x**4"
   ]
  },
  {
   "cell_type": "markdown",
   "metadata": {},
   "source": [
    "Definimos la función que calcula el valor relativo"
   ]
  },
  {
   "cell_type": "code",
   "execution_count": null,
   "metadata": {},
   "outputs": [],
   "source": [
    "def error_relativo(valor_real,valor_aprox):\n",
    "    return (valor_real-valor_aprox)/valor_real "
   ]
  },
  {
   "cell_type": "markdown",
   "metadata": {},
   "source": [
    "Implementación usando ciclos"
   ]
  },
  {
   "cell_type": "code",
   "execution_count": 2,
   "metadata": {},
   "outputs": [],
   "source": [
    "def trapecio_multiple(f,a,b,valor_real,n=10):\n",
    "    h = (b-a)/n\n",
    "    sum = 0\n",
    "    for j in range(1,n):\n",
    "        sum += f(a+j*h)\n",
    "    resultado = (b-a)*(f(a)+2*sum+f(b))/(2*n)\n",
    "    error = error_relativo(valor_real,resultado)\n",
    "    return resultado, error"
   ]
  },
  {
   "cell_type": "markdown",
   "metadata": {},
   "source": [
    "Probamos la función en los dos ejemplos"
   ]
  },
  {
   "cell_type": "code",
   "execution_count": 6,
   "metadata": {},
   "outputs": [
    {
     "name": "stdout",
     "output_type": "stream",
     "text": [
      "(1.640530773334426, 1.3572817943457217e-06)\n",
      "(6.735009224999191, -1.369710347485663e-06)\n"
     ]
    }
   ],
   "source": [
    "print(trapecio_multiple(f1,a1,b1,real_value1,1000))\n",
    "print(trapecio_multiple(f2,a2,b2,real_value2,1000))"
   ]
  },
  {
   "cell_type": "markdown",
   "metadata": {},
   "source": [
    "Implementación usando arreglos de numpy"
   ]
  },
  {
   "cell_type": "code",
   "execution_count": 8,
   "metadata": {},
   "outputs": [],
   "source": [
    "import numpy as np\n",
    "\n",
    "def trapecio_multiple_numpy(f,a,b,valor_real,n):\n",
    "    nodos = np.linspace(a,b,n+1)\n",
    "    sum = np.sum([f(x) for x in nodos[1:n]])\n",
    "    resultado = (b-a)*(f(a)+2*sum+f(b))/(2*n)\n",
    "    error = error_relativo(valor_real,resultado)\n",
    "    return resultado, error"
   ]
  },
  {
   "cell_type": "markdown",
   "metadata": {},
   "source": [
    "Probamos la función con los dos ejemplos"
   ]
  },
  {
   "cell_type": "code",
   "execution_count": 9,
   "metadata": {},
   "outputs": [
    {
     "name": "stdout",
     "output_type": "stream",
     "text": [
      "(1.6405307733344252, 1.3572817948871179e-06)\n",
      "(6.7350092249991915, -1.3697103476175382e-06)\n"
     ]
    }
   ],
   "source": [
    "print(trapecio_multiple_numpy(f1,a1,b1,real_value1,1000))\n",
    "print(trapecio_multiple_numpy(f2,a2,b2,real_value2,1000))"
   ]
  },
  {
   "cell_type": "markdown",
   "metadata": {},
   "source": [
    "Usando scipy"
   ]
  },
  {
   "cell_type": "code",
   "execution_count": 14,
   "metadata": {},
   "outputs": [
    {
     "name": "stdout",
     "output_type": "stream",
     "text": [
      "(1.6405333333333307, 1.8213578793317207e-14)\n",
      "Aproximación de la integral: 1.6405333333333307\n",
      "Aproximación del error: 1.8213578793317207e-14\n"
     ]
    }
   ],
   "source": [
    "from scipy.integrate import quad\n",
    "\n",
    "result = quad(f1, a1, b1)\n",
    "\n",
    "print(result)\n",
    "print(f\"Aproximación de la integral: {result[0]}\")\n",
    "print(f\"Aproximación del error: {result[1]}\")"
   ]
  },
  {
   "cell_type": "markdown",
   "metadata": {},
   "source": [
    "## Ejemplo de absorción"
   ]
  },
  {
   "cell_type": "code",
   "execution_count": 10,
   "metadata": {},
   "outputs": [],
   "source": [
    "a = 1000000\n",
    "h = 1e-12\n",
    "num = 10000"
   ]
  },
  {
   "cell_type": "markdown",
   "metadata": {},
   "source": [
    "Si implementamos así, observamos el fenómeno de absorción"
   ]
  },
  {
   "cell_type": "code",
   "execution_count": 11,
   "metadata": {},
   "outputs": [
    {
     "name": "stdout",
     "output_type": "stream",
     "text": [
      "1000000.0\n"
     ]
    }
   ],
   "source": [
    "for j in range(num+1):\n",
    "    a += h \n",
    "print(a)"
   ]
  },
  {
   "cell_type": "markdown",
   "metadata": {},
   "source": [
    "Si acumulamos todos los pasos primero, no tenemos el problema de la absorción"
   ]
  },
  {
   "cell_type": "code",
   "execution_count": 12,
   "metadata": {},
   "outputs": [
    {
     "name": "stdout",
     "output_type": "stream",
     "text": [
      "1000000.00000001\n"
     ]
    }
   ],
   "source": [
    "ultimo = a+num*h \n",
    "print(ultimo)"
   ]
  }
 ],
 "metadata": {
  "kernelspec": {
   "display_name": "Python 3",
   "language": "python",
   "name": "python3"
  },
  "language_info": {
   "codemirror_mode": {
    "name": "ipython",
    "version": 3
   },
   "file_extension": ".py",
   "mimetype": "text/x-python",
   "name": "python",
   "nbconvert_exporter": "python",
   "pygments_lexer": "ipython3",
   "version": "3.8.10"
  }
 },
 "nbformat": 4,
 "nbformat_minor": 2
}

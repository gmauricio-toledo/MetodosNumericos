{
  "cells": [
    {
      "cell_type": "markdown",
      "metadata": {
        "id": "view-in-github",
        "colab_type": "text"
      },
      "source": [
        "<a href=\"https://colab.research.google.com/github/gmauricio-toledo/MetodosNumericos/blob/main/Vectorizaci%C3%B3n%20en%20Numpy.ipynb\" target=\"_parent\"><img src=\"https://colab.research.google.com/assets/colab-badge.svg\" alt=\"Open In Colab\"/></a>"
      ]
    },
    {
      "cell_type": "markdown",
      "metadata": {
        "id": "AvPKRVw52Dd7"
      },
      "source": [
        "# Vectorización en Numpy\n",
        "\n",
        "En esta notebook se presentan ejemplos de vectorización en Numpy, es decir aritmética de arreglos de Numpy.\n",
        "\n",
        "Usaremos esta vectorización para simplificar los algoritmos de la regresión lineal y polinomial."
      ]
    },
    {
      "cell_type": "markdown",
      "metadata": {
        "id": "WGuYrver2Dd-"
      },
      "source": [
        "## Los datos"
      ]
    },
    {
      "cell_type": "code",
      "execution_count": 1,
      "metadata": {
        "id": "07aSIcM62Dd_"
      },
      "outputs": [],
      "source": [
        "import numpy as np\n",
        "\n",
        "A = np.array([[1,0],[4,1],[6,7],[7,8]], dtype=float)"
      ]
    },
    {
      "cell_type": "markdown",
      "metadata": {
        "id": "Ato5-1vT2Dd_"
      },
      "source": [
        "Los graficamos"
      ]
    },
    {
      "cell_type": "code",
      "execution_count": 2,
      "metadata": {
        "id": "0P-gzv_I2DeA",
        "outputId": "efc5a01d-c6ed-41cd-c559-3d82ae0fe4dd",
        "colab": {
          "base_uri": "https://localhost:8080/",
          "height": 445
        }
      },
      "outputs": [
        {
          "output_type": "display_data",
          "data": {
            "text/plain": [
              "<Figure size 500x500 with 1 Axes>"
            ],
            "image/png": "[encoded data removed]"
          },
          "metadata": {}
        }
      ],
      "source": [
        "import matplotlib.pyplot as plt\n",
        "\n",
        "plt.figure(figsize=(5,5))\n",
        "plt.scatter(A[:,0],A[:,1],color='green',s=70)\n",
        "plt.axhline(0,color='black')\n",
        "plt.axvline(0,color='black')\n",
        "plt.show()"
      ]
    },
    {
      "cell_type": "code",
      "execution_count": 3,
      "metadata": {
        "id": "vgZW5qT_2DeB",
        "outputId": "f5316e15-e7ea-4e0a-ee11-bd98aa41dfd6",
        "colab": {
          "base_uri": "https://localhost:8080/"
        }
      },
      "outputs": [
        {
          "output_type": "stream",
          "name": "stdout",
          "text": [
            "[[1. 0.]\n",
            " [4. 1.]\n",
            " [6. 7.]\n",
            " [7. 8.]]\n"
          ]
        }
      ],
      "source": [
        "print(A)"
      ]
    },
    {
      "cell_type": "markdown",
      "metadata": {
        "id": "ONoTDlDb2DeC"
      },
      "source": [
        "## Cálculo de las diferentes variables"
      ]
    },
    {
      "cell_type": "markdown",
      "metadata": {
        "id": "AWCoUmCg2DeD"
      },
      "source": [
        "El número de datos"
      ]
    },
    {
      "cell_type": "code",
      "execution_count": 4,
      "metadata": {
        "id": "8vruOqwv2DeE",
        "outputId": "253de01f-6d08-4289-e49b-6586cbcbc588",
        "colab": {
          "base_uri": "https://localhost:8080/"
        }
      },
      "outputs": [
        {
          "output_type": "execute_result",
          "data": {
            "text/plain": [
              "4"
            ]
          },
          "metadata": {},
          "execution_count": 4
        }
      ],
      "source": [
        "n = A.shape[0]\n",
        "n"
      ]
    },
    {
      "cell_type": "markdown",
      "metadata": {
        "id": "MA18BBlp2DeF"
      },
      "source": [
        "Calculamos $\\sum x_i$ y $\\sum y_i$"
      ]
    },
    {
      "cell_type": "code",
      "execution_count": 5,
      "metadata": {
        "id": "UoZsgxHH2DeG",
        "outputId": "db363ff3-25e4-4cda-803a-2d87d4c49731",
        "colab": {
          "base_uri": "https://localhost:8080/"
        }
      },
      "outputs": [
        {
          "output_type": "stream",
          "name": "stdout",
          "text": [
            "18.0 16.0\n"
          ]
        }
      ],
      "source": [
        "sumas = np.sum(A,axis=0)\n",
        "sum_x = sumas[0]\n",
        "sum_y = sumas[1]\n",
        "\n",
        "print(sum_x,sum_y)"
      ]
    },
    {
      "cell_type": "markdown",
      "metadata": {
        "id": "XyEUX62K2DeH"
      },
      "source": [
        "Extraemos los vectores de valores $x_i$ y $y_i$"
      ]
    },
    {
      "cell_type": "code",
      "execution_count": 6,
      "metadata": {
        "id": "BC-YmCCm2DeI",
        "outputId": "5586eea2-ddbc-497e-843a-063f29831938",
        "colab": {
          "base_uri": "https://localhost:8080/"
        }
      },
      "outputs": [
        {
          "output_type": "stream",
          "name": "stdout",
          "text": [
            "[1. 4. 6. 7.] [0. 1. 7. 8.]\n"
          ]
        }
      ],
      "source": [
        "xs = A[:,0]\n",
        "ys = A[:,1]\n",
        "\n",
        "print(xs,ys)"
      ]
    },
    {
      "cell_type": "markdown",
      "metadata": {
        "id": "hSiJ2sy-2DeI"
      },
      "source": [
        "Calculamos $\\sum x_i y_i$"
      ]
    },
    {
      "cell_type": "code",
      "execution_count": 7,
      "metadata": {
        "id": "4ovSi3cK2DeI",
        "outputId": "2c6bf481-27a4-436c-800d-7f6bd5e30005",
        "colab": {
          "base_uri": "https://localhost:8080/"
        }
      },
      "outputs": [
        {
          "output_type": "stream",
          "name": "stdout",
          "text": [
            "102.0\n"
          ]
        }
      ],
      "source": [
        "sum_xy = np.sum(xs*ys)\n",
        "print(sum_xy)"
      ]
    },
    {
      "cell_type": "markdown",
      "metadata": {
        "id": "J-0_Ri9E2DeJ"
      },
      "source": [
        "Calculamos $\\sum x_i^2$"
      ]
    },
    {
      "cell_type": "code",
      "execution_count": 8,
      "metadata": {
        "id": "L3ry-ATs2DeJ",
        "outputId": "8d84d2e4-3a18-4def-8eb4-b701ea63c233",
        "colab": {
          "base_uri": "https://localhost:8080/"
        }
      },
      "outputs": [
        {
          "output_type": "stream",
          "name": "stdout",
          "text": [
            "102.0\n"
          ]
        }
      ],
      "source": [
        "sum_xx = np.sum(xs*xs)\n",
        "print(sum_xx)"
      ]
    },
    {
      "cell_type": "markdown",
      "metadata": {
        "id": "uQEYV1P12DeJ"
      },
      "source": [
        "Calculamos los promedios $\\overline{x_i}$, $\\overline{y_i}$"
      ]
    },
    {
      "cell_type": "code",
      "execution_count": 9,
      "metadata": {
        "id": "5LOaEB-o2DeJ",
        "outputId": "ccc5bf16-08a5-497c-fcc4-e7aba29301d8",
        "colab": {
          "base_uri": "https://localhost:8080/"
        }
      },
      "outputs": [
        {
          "output_type": "stream",
          "name": "stdout",
          "text": [
            "4.5 4.0\n"
          ]
        }
      ],
      "source": [
        "prom_xs = np.mean(xs)\n",
        "prom_ys = np.mean(ys)\n",
        "\n",
        "print(prom_xs,prom_ys)"
      ]
    },
    {
      "cell_type": "markdown",
      "metadata": {
        "id": "kc6_IutR2DeK"
      },
      "source": [
        "## Cálculo de los coeficientes $m$ y $b$"
      ]
    },
    {
      "cell_type": "code",
      "execution_count": 10,
      "metadata": {
        "id": "2U_bmaUN2DeL",
        "outputId": "78cfde8f-1d38-42b6-c919-132b2c976a14",
        "colab": {
          "base_uri": "https://localhost:8080/"
        }
      },
      "outputs": [
        {
          "output_type": "stream",
          "name": "stdout",
          "text": [
            "1.4285714285714286 -2.428571428571429\n"
          ]
        }
      ],
      "source": [
        "m = (n*sum_xy-sum_x*sum_y)/(n*sum_xx-sum_x**2)\n",
        "b = prom_ys - prom_xs*m\n",
        "print(m,b)"
      ]
    },
    {
      "cell_type": "markdown",
      "metadata": {
        "id": "pHlA5hA72DeL"
      },
      "source": [
        "## Obtener la aproximación para los valores $x_i$"
      ]
    },
    {
      "cell_type": "markdown",
      "metadata": {
        "id": "Y1hJfg2T2DeL"
      },
      "source": [
        "Definimos la función que realiza la predicción de nuevos valores"
      ]
    },
    {
      "cell_type": "code",
      "execution_count": 11,
      "metadata": {
        "id": "M-DwIK972DeL"
      },
      "outputs": [],
      "source": [
        "def f(x):\n",
        "    return m*x+b"
      ]
    },
    {
      "cell_type": "markdown",
      "metadata": {
        "id": "bskml36I2DeM"
      },
      "source": [
        "Evaluamos la función $f$ en todos los valores de $x$"
      ]
    },
    {
      "cell_type": "code",
      "execution_count": 12,
      "metadata": {
        "id": "taB6fANf2DeM",
        "outputId": "3dee0e96-a0ee-4e53-d9f8-674a23defd2b",
        "colab": {
          "base_uri": "https://localhost:8080/"
        }
      },
      "outputs": [
        {
          "output_type": "execute_result",
          "data": {
            "text/plain": [
              "array([-1.        ,  3.28571429,  6.14285714,  7.57142857])"
            ]
          },
          "metadata": {},
          "execution_count": 12
        }
      ],
      "source": [
        "f(xs)"
      ]
    },
    {
      "cell_type": "markdown",
      "metadata": {
        "id": "tKVynPlt2DeN"
      },
      "source": [
        "## Cálculo de los errores respecto a la aproximación"
      ]
    },
    {
      "cell_type": "code",
      "execution_count": 13,
      "metadata": {
        "id": "B6UEGfYs2DeN",
        "outputId": "d22c80e2-24c6-4a20-c7c3-9d04f58b420d",
        "colab": {
          "base_uri": "https://localhost:8080/"
        }
      },
      "outputs": [
        {
          "output_type": "stream",
          "name": "stdout",
          "text": [
            "7.142857142857144\n"
          ]
        }
      ],
      "source": [
        "errores = np.sum((ys - f(xs))**2)\n",
        "print(errores)"
      ]
    },
    {
      "cell_type": "markdown",
      "metadata": {
        "id": "RI43tqIC2DeN"
      },
      "source": [
        "## Comparación con una implementación de Python"
      ]
    },
    {
      "cell_type": "markdown",
      "metadata": {
        "id": "yOP1QSNC2DeO"
      },
      "source": [
        "scikit-learn es un módulo de Python con la mayoria de los algoritmos de aprendizaje automático, entre ellos la regresión lineal"
      ]
    },
    {
      "cell_type": "code",
      "execution_count": 14,
      "metadata": {
        "id": "wAulzgMe2DeO",
        "outputId": "24225a69-aa7d-4f24-bab7-7153105ab1d7",
        "colab": {
          "base_uri": "https://localhost:8080/"
        }
      },
      "outputs": [
        {
          "output_type": "stream",
          "name": "stdout",
          "text": [
            "m: 1.428571428571428\n",
            "b: -2.4285714285714253\n",
            "Coeficiente de determinación: 0.8571428571428572\n"
          ]
        }
      ],
      "source": [
        "from sklearn.linear_model import LinearRegression\n",
        "\n",
        "lr = LinearRegression()\n",
        "lr.fit(A[:,0].reshape(-1,1),A[:,1])\n",
        "print(f\"m: {lr.coef_[0]}\")\n",
        "print(f\"b: {lr.intercept_}\")\n",
        "print(f\"Coeficiente de determinación: {lr.score(A[:,0].reshape(-1,1),A[:,1])}\")"
      ]
    },
    {
      "cell_type": "markdown",
      "metadata": {
        "id": "o5DYq8n_2DeP"
      },
      "source": [
        "## Regresión Polinomial\n",
        "\n",
        "Para la regresión polinomial es un procedimiento análogo. La única diferencia es que, al final, hay que armar una matriz que luego se resolverá por eliminación gaussiana."
      ]
    },
    {
      "cell_type": "markdown",
      "metadata": {
        "id": "ZbukLnE32DeP"
      },
      "source": [
        "Podemos definir la matriz especificando todas sus entradas. Aquí aún faltan de rellenar algunos huecos, esos huecos los llenamos con valores `nan` (not a number)."
      ]
    },
    {
      "cell_type": "code",
      "execution_count": 15,
      "metadata": {
        "id": "JE5O--ta2DeP",
        "outputId": "d28b44a8-7b93-480b-bc74-af7d6152d583",
        "colab": {
          "base_uri": "https://localhost:8080/"
        }
      },
      "outputs": [
        {
          "output_type": "execute_result",
          "data": {
            "text/plain": [
              "array([[  4.,  18., 102.],\n",
              "       [ 18., 102.,  nan],\n",
              "       [102.,  nan,  nan]])"
            ]
          },
          "metadata": {},
          "execution_count": 15
        }
      ],
      "source": [
        "matriz = np.array([[n,sum_x,sum_xx],[sum_x,sum_xx,np.nan],[sum_xx,np.nan,np.nan]])\n",
        "matriz"
      ]
    },
    {
      "cell_type": "code",
      "source": [
        "vector_b = np.array([sum_y,sum_xy,np.nan])\n",
        "print(vector_b)"
      ],
      "metadata": {
        "id": "0TOD_iHR23as",
        "outputId": "978c0507-f5f8-41ee-d9dc-c6d0c021b0c9",
        "colab": {
          "base_uri": "https://localhost:8080/"
        }
      },
      "execution_count": 17,
      "outputs": [
        {
          "output_type": "stream",
          "name": "stdout",
          "text": [
            "[ 16. 102.  nan]\n"
          ]
        }
      ]
    },
    {
      "cell_type": "markdown",
      "metadata": {
        "id": "iEJ7E9LF2DeQ"
      },
      "source": [
        "También podemos definir una matriz de ceros y luego llenarla entrada por entrada. Este método será útil en la implementación de los splines."
      ]
    },
    {
      "cell_type": "code",
      "execution_count": null,
      "metadata": {
        "id": "NE-dPc7e2DeQ",
        "outputId": "440bd65a-a8d2-4407-a89b-3ad494433101"
      },
      "outputs": [
        {
          "data": {
            "text/plain": [
              "array([[0., 0., 0.],\n",
              "       [0., 0., 0.],\n",
              "       [0., 0., 0.]])"
            ]
          },
          "execution_count": 18,
          "metadata": {},
          "output_type": "execute_result"
        }
      ],
      "source": [
        "matriz = np.zeros(shape=(3,3))\n",
        "matriz"
      ]
    },
    {
      "cell_type": "code",
      "execution_count": null,
      "metadata": {
        "id": "pbphxxHG2DeQ",
        "outputId": "69370fc7-3a3d-4831-9fb8-e327545923b5"
      },
      "outputs": [
        {
          "data": {
            "text/plain": [
              "array([[  0.,   0., 102.],\n",
              "       [  0.,   0.,   0.],\n",
              "       [  0.,   0.,   0.]])"
            ]
          },
          "execution_count": 19,
          "metadata": {},
          "output_type": "execute_result"
        }
      ],
      "source": [
        "matriz[0,2] = sum_xx\n",
        "matriz"
      ]
    }
  ],
  "metadata": {
    "kernelspec": {
      "display_name": "Python 3",
      "language": "python",
      "name": "python3"
    },
    "language_info": {
      "codemirror_mode": {
        "name": "ipython",
        "version": 3
      },
      "file_extension": ".py",
      "mimetype": "text/x-python",
      "name": "python",
      "nbconvert_exporter": "python",
      "pygments_lexer": "ipython3",
      "version": "3.8.10"
    },
    "orig_nbformat": 4,
    "colab": {
      "provenance": [],
      "include_colab_link": true
    }
  },
  "nbformat": 4,
  "nbformat_minor": 0
}